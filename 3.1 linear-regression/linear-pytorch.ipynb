{
 "cells": [
  {
   "cell_type": "markdown",
   "id": "acde09f0",
   "metadata": {},
   "source": [
    "## 0.前置内容"
   ]
  },
  {
   "cell_type": "markdown",
   "id": "44a1a18d",
   "metadata": {},
   "source": [
    "super() 函数是用于调用父类(超类)的一个方法。\n",
    "\n",
    "super() 是用来解决多重继承问题的，直接用类名调用父类方法在使用单继承的时候没问题，但是如果使用多继承，会涉及到查找顺序（MRO）、重复调用（钻石继承）等种种问题。\n",
    "\n",
    "MRO 就是类的方法解析顺序表, 其实也就是继承父类方法时的顺序表。"
   ]
  },
  {
   "cell_type": "markdown",
   "id": "54b54a19",
   "metadata": {},
   "source": [
    "### 语法\n",
    "以下是 super() 方法的语法:"
   ]
  },
  {
   "cell_type": "markdown",
   "id": "61e4c113",
   "metadata": {},
   "source": [
    "`super(type[, object-or-type])`"
   ]
  },
  {
   "cell_type": "markdown",
   "id": "cc1d35d8",
   "metadata": {},
   "source": [
    "### 参数\n",
    "type -- 类。\n",
    "object-or-type -- 类，一般是 self"
   ]
  },
  {
   "cell_type": "markdown",
   "id": "5db1e828",
   "metadata": {},
   "source": [
    "### 实例1"
   ]
  },
  {
   "cell_type": "code",
   "execution_count": 5,
   "id": "a90beec0",
   "metadata": {},
   "outputs": [
    {
     "name": "stdout",
     "output_type": "stream",
     "text": [
      "3\n"
     ]
    }
   ],
   "source": [
    "class A:\n",
    "    def add(self,x):\n",
    "        y = x + 1\n",
    "        print(y)\n",
    "class B(A):\n",
    "    def add(self,x):\n",
    "        super().add(x)\n",
    "b = B()\n",
    "b.add(2)"
   ]
  },
  {
   "cell_type": "markdown",
   "id": "8a3b75a0",
   "metadata": {},
   "source": [
    "### 实例2"
   ]
  },
  {
   "cell_type": "code",
   "execution_count": 6,
   "id": "621173d0",
   "metadata": {},
   "outputs": [],
   "source": [
    "class  FooParent():\n",
    "    def __init__(self):\n",
    "        self.parent = 'I\\'m the parent.'\n",
    "        print('Parent')\n",
    "    def bar(self,message):\n",
    "        print('%s from Parent'%(message))\n",
    "class FooChild(FooParent):\n",
    "    def __init__(self):\n",
    "        #super(FooChild,self) 首先找到 FooChild 的父类（就是FooParent类 ），\n",
    "        #然后把 FooChild 类的对象转换为 FooParent 类的对象    \n",
    "        super(FooChild,self).__init__()\n",
    "        print ('Child')\n",
    "    def bar(self,message):\n",
    "        super(FooChild,self).bar(message)\n",
    "        "
   ]
  },
  {
   "cell_type": "code",
   "execution_count": null,
   "id": "5de06492",
   "metadata": {},
   "outputs": [],
   "source": []
  },
  {
   "cell_type": "code",
   "execution_count": null,
   "id": "bfc12448",
   "metadata": {},
   "outputs": [],
   "source": []
  },
  {
   "cell_type": "code",
   "execution_count": null,
   "id": "6da23a2f",
   "metadata": {},
   "outputs": [],
   "source": []
  },
  {
   "cell_type": "code",
   "execution_count": null,
   "id": "e16db7ce",
   "metadata": {},
   "outputs": [],
   "source": []
  },
  {
   "cell_type": "markdown",
   "id": "ee0955af",
   "metadata": {},
   "source": [
    "在本节中，我们将介绍如何使用PyTorch更方便地实现线性回归的训练。"
   ]
  },
  {
   "cell_type": "code",
   "execution_count": 1,
   "id": "dc6f1114",
   "metadata": {},
   "outputs": [],
   "source": [
    "import torch\n",
    "import random\n",
    "import numpy as np\n",
    "from matplotlib import pyplot as plt\n",
    "import torch.nn as nn"
   ]
  },
  {
   "cell_type": "markdown",
   "id": "702a09a4",
   "metadata": {},
   "source": [
    "## 1.生成数据集"
   ]
  },
  {
   "cell_type": "code",
   "execution_count": 2,
   "id": "ffdbf03d",
   "metadata": {},
   "outputs": [],
   "source": [
    "num_inputs = 2\n",
    "num_examples = 1000\n",
    "true_w = [2, -3.4]\n",
    "true_b = 4.2\n",
    "features = torch.tensor(np.random.normal(0, 1, (num_examples, num_inputs)), dtype=torch.float)\n",
    "labels = true_w[0] * features[:, 0] + true_w[1] * features[:, 1] + true_b\n",
    "labels += torch.tensor(np.random.normal(0, 0.01, size=labels.size()), dtype=torch.float)"
   ]
  },
  {
   "cell_type": "markdown",
   "id": "673b95e1",
   "metadata": {},
   "source": [
    "## 2.读取数据"
   ]
  },
  {
   "cell_type": "markdown",
   "id": "64256591",
   "metadata": {},
   "source": [
    "PyTorch提供了data包来读取数据。由于data常用作变量名，我们将导入的data模块用Data代替。在每一次迭代中，我们将随机读取包含10个数据样本的小批量。"
   ]
  },
  {
   "cell_type": "code",
   "execution_count": 3,
   "id": "0f71a0d3",
   "metadata": {},
   "outputs": [],
   "source": [
    "import torch.utils.data as Data\n",
    "\n",
    "batch_size = 10\n",
    "# 将训练数据的特征和标签组合\n",
    "dataset = Data.TensorDataset(features,labels)\n",
    "# 随机读取小批量\n",
    "data_iter = Data.DataLoader(dataset,batch_size,shuffle=True)"
   ]
  },
  {
   "cell_type": "markdown",
   "id": "66b78928",
   "metadata": {},
   "source": [
    "这里data_iter的使用跟上一节中的一样。让我们读取并打印第一个小批量数据样本。"
   ]
  },
  {
   "cell_type": "code",
   "execution_count": 4,
   "id": "08b4ac7b",
   "metadata": {},
   "outputs": [
    {
     "name": "stdout",
     "output_type": "stream",
     "text": [
      "tensor([[-0.9278,  0.1635],\n",
      "        [-0.4916,  0.4914],\n",
      "        [ 0.6640,  0.4041],\n",
      "        [-0.4478, -0.3045],\n",
      "        [ 1.6311, -0.1686],\n",
      "        [ 1.6250, -0.7376],\n",
      "        [-1.6726,  1.2790],\n",
      "        [ 0.3153, -2.0649],\n",
      "        [-0.0450, -0.1067],\n",
      "        [ 1.8729, -1.1401]]) tensor([ 1.7893,  1.5615,  4.1506,  4.3341,  8.0489,  9.9507, -3.4878, 11.8344,\n",
      "         4.4784, 11.8286])\n"
     ]
    }
   ],
   "source": [
    "for X, y in data_iter:\n",
    "    print(X, y)\n",
    "    break"
   ]
  },
  {
   "cell_type": "markdown",
   "id": "baeb994e",
   "metadata": {},
   "source": [
    "## 3.定义模型"
   ]
  },
  {
   "cell_type": "markdown",
   "id": "99e340f3",
   "metadata": {},
   "source": [
    "在上一节从零开始的实现中，我们需要定义模型参数，并使用它们一步步描述模型是怎样计算的。当模型结构变得更复杂时，这些步骤将变得更繁琐。其实，PyTorch提供了大量预定义的层，这使我们只需关注使用哪些层来构造模型。下面将介绍如何使用PyTorch更简洁地定义线性回归。"
   ]
  },
  {
   "cell_type": "markdown",
   "id": "1143aa7d",
   "metadata": {},
   "source": [
    "首先，导入torch.nn模块。实际上，“nn”是neural networks（神经网络）的缩写。顾名思义，该模块定义了大量神经网络的层。之前我们已经用过了autograd，而nn就是利用autograd来定义模型。nn的核心数据结构是Module，它是一个抽象概念，既可以表示神经网络中的某个层（layer），也可以表示一个包含很多层的神经网络。在实际使用中，最常见的做法是继承nn.Module，撰写自己的网络/层。一个nn.Module实例应该包含一些层以及返回输出的前向传播（forward）方法。下面先来看看如何用nn.Module实现一个线性回归模型。"
   ]
  },
  {
   "cell_type": "code",
   "execution_count": null,
   "id": "13923061",
   "metadata": {},
   "outputs": [],
   "source": [
    "class LinearNet(nn.Moudle):\n",
    "    def __init__(self,n_feature):\n",
    "        super(LinearNet,self).__init__()\n",
    "        "
   ]
  }
 ],
 "metadata": {
  "kernelspec": {
   "display_name": "Python 3 (ipykernel)",
   "language": "python",
   "name": "python3"
  },
  "language_info": {
   "codemirror_mode": {
    "name": "ipython",
    "version": 3
   },
   "file_extension": ".py",
   "mimetype": "text/x-python",
   "name": "python",
   "nbconvert_exporter": "python",
   "pygments_lexer": "ipython3",
   "version": "3.9.13"
  }
 },
 "nbformat": 4,
 "nbformat_minor": 5
}
