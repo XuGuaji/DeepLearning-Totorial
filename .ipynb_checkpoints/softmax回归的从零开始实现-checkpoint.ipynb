{
 "cells": [
  {
   "cell_type": "code",
   "execution_count": 1,
   "id": "83d12086",
   "metadata": {},
   "outputs": [],
   "source": [
    "import torch\n",
    "import torchvision\n",
    "import torchvision.transforms as transforms\n",
    "import numpy as np\n",
    "import sys"
   ]
  },
  {
   "cell_type": "markdown",
   "id": "0ae493ed",
   "metadata": {},
   "source": [
    "## 获取和读取数据"
   ]
  },
  {
   "cell_type": "code",
   "execution_count": 26,
   "id": "9496e82a",
   "metadata": {},
   "outputs": [
    {
     "name": "stdout",
     "output_type": "stream",
     "text": [
      "train's length is 60000\n",
      "test's length is 10000\n",
      "feature's shape is torch.Size([1, 28, 28])\n",
      "mnist_train[0]'s label is '9'\n"
     ]
    }
   ],
   "source": [
    "batch_size = 256\n",
    "num_workers = 4\n",
    "\n",
    "mnist_train = torchvision.datasets.FashionMNIST(root='~/Datasets/FashionMNIST', train=True, download=True, transform=transforms.ToTensor())\n",
    "mnist_test = torchvision.datasets.FashionMNIST(root='~/Datasets/FashionMNIST', train=False, download=True, transform=transforms.ToTensor())\n",
    "# PyTorch的DataLoader中一个很方便的功能是允许使用多进程来加速数据读取。这里我们通过参数num_workers来设置4个进程读取数据。\n",
    "train_iter = torch.utils.data.DataLoader(mnist_train, batch_size=batch_size, shuffle=True, num_workers=num_workers)\n",
    "test_iter = torch.utils.data.DataLoader(mnist_test, batch_size=batch_size, shuffle=False, num_workers=num_workers)\n",
    "feature,label = mnist_train[0]\n",
    "print(\"train's length is %s\"%len(mnist_train))\n",
    "print(\"test's length is %s\"%len(mnist_test))\n",
    "print(\"feature's shape is %s\"%str(feature.shape))\n",
    "print(\"mnist_train[0]'s label is '%s'\"%str(label))"
   ]
  },
  {
   "cell_type": "markdown",
   "id": "4bd9c795",
   "metadata": {},
   "source": [
    "## 初始化模型参数"
   ]
  },
  {
   "cell_type": "markdown",
   "id": "6e343e41",
   "metadata": {},
   "source": [
    "跟线性回归中的例子一样，我们将使用向量表示每个样本。已知每个样本输入是高和宽均为28像素的图像。模型的输入向量的长度是 28×28=784：该向量的每个元素对应图像中每个像素。\n",
    "\n",
    "由于图像有10个类别，单层神经网络输出层的输出个数为10，因此softmax回归的权重和偏差参数分别为784×10和1×10的矩阵。"
   ]
  },
  {
   "cell_type": "code",
   "execution_count": 27,
   "id": "d7508b45",
   "metadata": {},
   "outputs": [],
   "source": [
    "num_inputs = 784\n",
    "num_outputs = 10\n",
    "\n",
    "W = torch.tensor(np.random.normal(0, 0.01, (num_inputs, num_outputs)), dtype=torch.float)\n",
    "b = torch.zeros(num_outputs, dtype=torch.float)"
   ]
  },
  {
   "cell_type": "code",
   "execution_count": 28,
   "id": "2db1d6a9",
   "metadata": {},
   "outputs": [
    {
     "data": {
      "text/plain": [
       "tensor([0., 0., 0., 0., 0., 0., 0., 0., 0., 0.], requires_grad=True)"
      ]
     },
     "execution_count": 28,
     "metadata": {},
     "output_type": "execute_result"
    }
   ],
   "source": [
    "W.requires_grad_(requires_grad=True)\n",
    "b.requires_grad_(requires_grad=True) "
   ]
  },
  {
   "cell_type": "markdown",
   "id": "f5bb7d22",
   "metadata": {},
   "source": [
    "## 实现softmax运算"
   ]
  },
  {
   "cell_type": "markdown",
   "id": "b262b06f",
   "metadata": {},
   "source": [
    "在介绍如何定义softmax回归之前，我们先描述一下对如何对多维Tensor按维度操作。在下面的例子中，给定一个Tensor矩阵X。我们可以只对其中同一列（dim=0）或同一行（dim=1）的元素求和，并在结果中保留行和列这两个维度（keepdim=True）。"
   ]
  },
  {
   "cell_type": "code",
   "execution_count": 37,
   "id": "aeef38a6",
   "metadata": {},
   "outputs": [
    {
     "name": "stdout",
     "output_type": "stream",
     "text": [
      "tensor([[5, 7, 9]])\n",
      "tensor([[ 6],\n",
      "        [15]])\n"
     ]
    }
   ],
   "source": [
    "X = torch.tensor([[1, 2, 3], [4, 5, 6]])\n",
    "print(X.sum(dim=0, keepdim=True))\n",
    "print(X.sum(dim=1, keepdim=True))"
   ]
  },
  {
   "cell_type": "markdown",
   "id": "b5658862",
   "metadata": {},
   "source": [
    "下面我们就可以定义前面小节里介绍的softmax运算了。在下面的函数中，矩阵X的行数是样本数，列数是输出个数。为了表达样本预测各个输出的概率，softmax运算会先通过exp函数对每个元素做指数运算，再对exp矩阵同行元素求和，最后令矩阵每行各元素与该行元素之和相除。这样一来，最终得到的矩阵每行元素和为1且非负。因此，该矩阵每行都是合法的概率分布。softmax运算的输出矩阵中的任意一行元素代表了一个样本在各个输出类别上的预测概率。"
   ]
  },
  {
   "cell_type": "code",
   "execution_count": 29,
   "id": "f3afdb5f",
   "metadata": {},
   "outputs": [],
   "source": [
    "def softmax(X):\n",
    "    X_exp = X.exp()\n",
    "    partition = X_exp.sum(dim=1,keepdim=True)\n",
    "    return X_exp / partition"
   ]
  },
  {
   "cell_type": "markdown",
   "id": "c2df8bdf",
   "metadata": {},
   "source": [
    "可以看到，对于随机输入，我们将每个元素变成了非负数，且每一行和为1。"
   ]
  },
  {
   "cell_type": "code",
   "execution_count": 30,
   "id": "ca5ea5fc",
   "metadata": {},
   "outputs": [
    {
     "name": "stdout",
     "output_type": "stream",
     "text": [
      "tensor([[0.1998, 0.1444, 0.1759, 0.3393, 0.1406],\n",
      "        [0.2285, 0.1343, 0.2086, 0.2414, 0.1872]]) tensor([1.0000, 1.0000])\n"
     ]
    }
   ],
   "source": [
    "X = torch.rand((2, 5))\n",
    "X_prob = softmax(X)\n",
    "print(X_prob, X_prob.sum(dim=1))"
   ]
  },
  {
   "cell_type": "markdown",
   "id": "424519b9",
   "metadata": {},
   "source": [
    "## 定义模型"
   ]
  },
  {
   "cell_type": "markdown",
   "id": "9636cc81",
   "metadata": {},
   "source": [
    "有了softmax运算，我们可以定义上节描述的softmax回归模型了。这里通过view函数将每张原始图像改成长度为num_inputs的向量。"
   ]
  },
  {
   "cell_type": "code",
   "execution_count": 32,
   "id": "549ea132",
   "metadata": {},
   "outputs": [],
   "source": [
    "def net(X):\n",
    "    return softmax(torch.mm(X.view((-1,num_inputs)),W)+ b)"
   ]
  },
  {
   "cell_type": "markdown",
   "id": "d800a9a5",
   "metadata": {},
   "source": [
    "## 定义损失函数"
   ]
  },
  {
   "cell_type": "markdown",
   "id": "9cc72748",
   "metadata": {},
   "source": [
    "上一节中，我们介绍了softmax回归使用的交叉熵损失函数。为了得到标签的预测概率，我们可以使用gather函数。在下面的例子中，变量y_hat是2个样本在3个类别的预测概率，变量y是这2个样本的标签类别。通过使用gather函数，我们得到了2个样本的标签的预测概率。与3.4节（softmax回归）数学表述中标签类别离散值从1开始逐一递增不同，在代码中，标签类别的离散值是从0开始逐一递增的。"
   ]
  },
  {
   "cell_type": "code",
   "execution_count": 28,
   "id": "16c1d3e8",
   "metadata": {},
   "outputs": [],
   "source": [
    "def cross_entropy(y_hat, y):\n",
    "    return - torch.log(y_hat.gather(1, y.view(-1, 1)))"
   ]
  },
  {
   "cell_type": "markdown",
   "id": "04edb159",
   "metadata": {},
   "source": [
    "## 计算分类准确率"
   ]
  },
  {
   "cell_type": "markdown",
   "id": "04e72ade",
   "metadata": {},
   "source": [
    "给定一个类别的预测概率分布y_hat，我们把预测概率最大的类别作为输出类别。如果它与真实类别y一致，说明这次预测是正确的。分类准确率即正确预测数量与总预测数量之比。"
   ]
  },
  {
   "cell_type": "markdown",
   "id": "74a67d6e",
   "metadata": {},
   "source": [
    "为了演示准确率的计算，下面定义准确率accuracy函数。其中y_hat.argmax(dim=1)返回矩阵y_hat每行中最大元素的索引，且返回结果与变量y形状相同。相等条件判断式(y_hat.argmax(dim=1) == y)是一个类型为ByteTensor的Tensor，我们用float()将其转换为值为0（相等为假）或1（相等为真）的浮点型Tensor。"
   ]
  },
  {
   "cell_type": "code",
   "execution_count": null,
   "id": "2e8afc54",
   "metadata": {},
   "outputs": [],
   "source": []
  },
  {
   "cell_type": "code",
   "execution_count": null,
   "id": "b9957eb2",
   "metadata": {},
   "outputs": [],
   "source": []
  },
  {
   "cell_type": "markdown",
   "id": "b8acfe75",
   "metadata": {},
   "source": [
    " ## 训练模型"
   ]
  },
  {
   "cell_type": "markdown",
   "id": "71e6f72c",
   "metadata": {},
   "source": [
    "训练softmax回归的实现跟3.2（线性回归的从零开始实现）一节介绍的线性回归中的实现非常相似。我们同样使用小批量随机梯度下降来优化模型的损失函数。在训练模型时，迭代周期数num_epochs和学习率lr都是可以调的超参数。改变它们的值可能会得到分类更准确的模型。"
   ]
  },
  {
   "cell_type": "code",
   "execution_count": null,
   "id": "4d9fe5aa",
   "metadata": {},
   "outputs": [],
   "source": [
    "num_epochs,lr = 5,0.1\n",
    "def train_ch3(net,mtrain_iter,test_iter,loss,nu,_epochs,batch_size,\n",
    "             params=None, lr=None, optimizer=None):\n",
    "    for epoch in range(num_epochs):\n",
    "        train_l_sum,train_acc_sum,n = 0.0,0.0,0\n",
    "        for X,y in train_iter:\n",
    "            y_hat = net(X)\n",
    "            l = loss(y_hat,y).sum()\n",
    "        \n"
   ]
  },
  {
   "cell_type": "code",
   "execution_count": null,
   "id": "2edaf162",
   "metadata": {},
   "outputs": [],
   "source": []
  },
  {
   "cell_type": "markdown",
   "id": "d9a12ba3",
   "metadata": {},
   "source": [
    "## Reference"
   ]
  },
  {
   "cell_type": "markdown",
   "id": "ea205211",
   "metadata": {},
   "source": [
    "### torch.gather()函数\n",
    "从原tensor中获取指定dim和指定index的数据"
   ]
  },
  {
   "attachments": {
    "image.png": {
     "image/png": "[encoded data removed]"
    }
   },
   "cell_type": "markdown",
   "id": "64022807",
   "metadata": {},
   "source": [
    "![image.png](attachment:image.png)"
   ]
  },
  {
   "cell_type": "code",
   "execution_count": 17,
   "id": "895980ae",
   "metadata": {},
   "outputs": [
    {
     "name": "stdout",
     "output_type": "stream",
     "text": [
      "tensor([[ 3,  4,  5],\n",
      "        [ 6,  7,  8],\n",
      "        [ 9, 10, 11]])\n"
     ]
    }
   ],
   "source": [
    "tensor_0 = torch.arange(3, 12).view(3, 3)\n",
    "print(tensor_0)"
   ]
  },
  {
   "cell_type": "markdown",
   "id": "76ca725c",
   "metadata": {},
   "source": [
    "#### 输入行向量index，并替换行索引(dim=0)"
   ]
  },
  {
   "cell_type": "code",
   "execution_count": 19,
   "id": "bf31e6af",
   "metadata": {},
   "outputs": [
    {
     "data": {
      "text/plain": [
       "tensor([[9, 7, 5]])"
      ]
     },
     "execution_count": 19,
     "metadata": {},
     "output_type": "execute_result"
    }
   ],
   "source": [
    "index = torch.tensor([[2,1,0]])\n",
    "tensor_1 = tensor_0.gather(0,index)\n",
    "#  Index tensor must have the same number of dimensions as input tensor\n",
    "tensor_1"
   ]
  },
  {
   "cell_type": "markdown",
   "id": "7763568b",
   "metadata": {},
   "source": [
    "#### 输入行向量index，并替换列索引(dim=1)"
   ]
  },
  {
   "cell_type": "code",
   "execution_count": 20,
   "id": "79d26461",
   "metadata": {},
   "outputs": [
    {
     "data": {
      "text/plain": [
       "tensor([[5, 4, 3]])"
      ]
     },
     "execution_count": 20,
     "metadata": {},
     "output_type": "execute_result"
    }
   ],
   "source": [
    "index = torch.tensor([[2,1,0]])\n",
    "tensor_1 = tensor_0.gather(1,index)\n",
    "#  Index tensor must have the same number of dimensions as input tensor\n",
    "tensor_1"
   ]
  },
  {
   "cell_type": "markdown",
   "id": "b4d8662a",
   "metadata": {},
   "source": [
    "#### 输入列向量index，并替换列索引(dim=1)"
   ]
  },
  {
   "cell_type": "code",
   "execution_count": 21,
   "id": "e30e1664",
   "metadata": {},
   "outputs": [
    {
     "name": "stdout",
     "output_type": "stream",
     "text": [
      "tensor([[5],\n",
      "        [7],\n",
      "        [9]])\n"
     ]
    }
   ],
   "source": [
    "index = torch.tensor([[2, 1, 0]]).t()\n",
    "tensor_1 = tensor_0.gather(1, index)\n",
    "print(tensor_1)"
   ]
  },
  {
   "cell_type": "markdown",
   "id": "707b40c4",
   "metadata": {},
   "source": [
    "#### 输入二维矩阵index，并替换列索引(dim=1)"
   ]
  },
  {
   "cell_type": "code",
   "execution_count": 22,
   "id": "faaaefaf",
   "metadata": {},
   "outputs": [
    {
     "name": "stdout",
     "output_type": "stream",
     "text": [
      "tensor([[3, 5],\n",
      "        [7, 8]])\n"
     ]
    }
   ],
   "source": [
    "index = torch.tensor([[0, 2], \n",
    "                      [1, 2]])\n",
    "tensor_1 = tensor_0.gather(1, index)\n",
    "# 3 5\n",
    "# 7 8\n",
    "print(tensor_1)"
   ]
  },
  {
   "cell_type": "code",
   "execution_count": null,
   "id": "0c0bdfc2",
   "metadata": {},
   "outputs": [],
   "source": []
  },
  {
   "cell_type": "code",
   "execution_count": null,
   "id": "77f9bf44",
   "metadata": {},
   "outputs": [],
   "source": []
  },
  {
   "cell_type": "code",
   "execution_count": null,
   "id": "87864207",
   "metadata": {},
   "outputs": [],
   "source": []
  }
 ],
 "metadata": {
  "kernelspec": {
   "display_name": "Python 3 (ipykernel)",
   "language": "python",
   "name": "python3"
  },
  "language_info": {
   "codemirror_mode": {
    "name": "ipython",
    "version": 3
   },
   "file_extension": ".py",
   "mimetype": "text/x-python",
   "name": "python",
   "nbconvert_exporter": "python",
   "pygments_lexer": "ipython3",
   "version": "3.9.13"
  }
 },
 "nbformat": 4,
 "nbformat_minor": 5
}
