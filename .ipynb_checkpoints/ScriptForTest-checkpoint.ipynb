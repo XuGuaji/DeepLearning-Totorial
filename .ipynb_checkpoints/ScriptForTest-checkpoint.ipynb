{
 "cells": [
  {
   "cell_type": "code",
   "execution_count": 2,
   "id": "dc6f1114",
   "metadata": {},
   "outputs": [],
   "source": [
    "import torch\n",
    "import random\n",
    "import numpy as np\n",
    "from matplotlib import pyplot as plt"
   ]
  },
  {
   "cell_type": "code",
   "execution_count": 13,
   "id": "3bf397a4",
   "metadata": {},
   "outputs": [],
   "source": [
    "def data_iter(features,labels,batch_size):\n",
    "    num_examples = len(labels)\n",
    "    indices = list(range(num_examples))\n",
    "    random.shuffle(indices)\n",
    "    for i in range(0,num_examples,batch_size):\n",
    "        j = torch.LongTensor(indices[i:min(i+batch_size,num_examples)])\n",
    "        yield features.index_select(0,j),labels.index_select(0,j)"
   ]
  },
  {
   "cell_type": "code",
   "execution_count": 14,
   "id": "3344c834",
   "metadata": {},
   "outputs": [],
   "source": [
    "def loss(y_hat,y):\n",
    "    return (y_hat-y.view(y_hat.size()))**2 / 2"
   ]
  },
  {
   "cell_type": "code",
   "execution_count": 15,
   "id": "f47eb61b",
   "metadata": {},
   "outputs": [],
   "source": [
    "def linreg(X,w,b):\n",
    "    return torch.mm(X,w) + b"
   ]
  },
  {
   "cell_type": "code",
   "execution_count": 16,
   "id": "661351ee",
   "metadata": {},
   "outputs": [],
   "source": [
    "def sgd(params,lr,batch_size):\n",
    "    for param in params:\n",
    "        param.data -= lr * param.grad / batch_size "
   ]
  },
  {
   "cell_type": "code",
   "execution_count": 17,
   "id": "1e0c50dc",
   "metadata": {},
   "outputs": [],
   "source": [
    "num_inputs = 2\n",
    "num_examples = 1000\n",
    "true_w = [2,-4.2]\n",
    "true_b = 0.5\n",
    "features = torch.randn(num_examples,num_inputs,dtype=torch.float32)\n",
    "\n",
    "labels = true_w[0]*features[:,0] + true_w[1]*features[:,1] + true_b\n",
    "labels += torch.tensor(np.random.normal(0,0.01,size=labels.size()),dtype=torch.float32)"
   ]
  },
  {
   "cell_type": "code",
   "execution_count": 18,
   "id": "2c6282fb",
   "metadata": {},
   "outputs": [
    {
     "data": {
      "text/plain": [
       "tensor([0.], requires_grad=True)"
      ]
     },
     "execution_count": 18,
     "metadata": {},
     "output_type": "execute_result"
    }
   ],
   "source": [
    "W = torch.tensor(np.random.normal(0,0.01,(num_inputs,1)),dtype=torch.float32)\n",
    "b = torch.zeros(1,dtype=torch.float32)\n",
    "W.requires_grad_(True)\n",
    "b.requires_grad_(True)"
   ]
  },
  {
   "cell_type": "code",
   "execution_count": 19,
   "id": "aa1c2b43",
   "metadata": {},
   "outputs": [
    {
     "name": "stdout",
     "output_type": "stream",
     "text": [
      "epoch 1, loss 0.023405\n",
      "epoch 2, loss 0.000102\n",
      "epoch 3, loss 0.000047\n"
     ]
    }
   ],
   "source": [
    "lr = 0.03\n",
    "num_epoches = 3\n",
    "batch_size = 10\n",
    "net = linreg\n",
    "\n",
    "for epoch in range(num_epoches):\n",
    "    for X,y in data_iter(features,labels,batch_size):\n",
    "        l = loss(net(X,W,b),y).sum()\n",
    "        l.backward()\n",
    "        sgd([W,b],lr,batch_size)\n",
    "        \n",
    "        w.grad.data.zero_()\n",
    "        b.grad.data.zero_()\n",
    "       "
   ]
  },
  {
   "cell_type": "code",
   "execution_count": null,
   "id": "25b862d1",
   "metadata": {},
   "outputs": [],
   "source": []
  }
 ],
 "metadata": {
  "kernelspec": {
   "display_name": "Python 3 (ipykernel)",
   "language": "python",
   "name": "python3"
  },
  "language_info": {
   "codemirror_mode": {
    "name": "ipython",
    "version": 3
   },
   "file_extension": ".py",
   "mimetype": "text/x-python",
   "name": "python",
   "nbconvert_exporter": "python",
   "pygments_lexer": "ipython3",
   "version": "3.9.13"
  }
 },
 "nbformat": 4,
 "nbformat_minor": 5
}
