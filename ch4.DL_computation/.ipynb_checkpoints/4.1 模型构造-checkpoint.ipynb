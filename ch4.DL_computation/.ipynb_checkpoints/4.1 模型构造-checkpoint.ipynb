{
 "cells": [
  {
   "cell_type": "markdown",
   "id": "27a5f13e",
   "metadata": {},
   "source": [
    "先前构造含隐藏层的多层感知机的实现方法。\n",
    "首先构造`Sequential`实例，然后依次添加两个全连接层。并为每个全连接层添加参数。本节将会介绍其它的模型构造方法。"
   ]
  },
  {
   "cell_type": "markdown",
   "id": "73a562d7",
   "metadata": {},
   "source": [
    "## 1.继承`Module`类来构造模型"
   ]
  },
  {
   "cell_type": "markdown",
   "id": "ced624f4",
   "metadata": {},
   "source": [
    "`Module`类是`nn`模块里提供的模型构造类，是所有神经网络模块的基类，我们可以继承它来定义我们想要的模型。\n",
    "\n",
    "下面继承`Module`类来构造之前的多层感知机。\n",
    "这里定义的`MLP`类重载了`Module`类的`__init__`函数和`forward`函数。它们分别用于创建模型参数和定义前向计算(或者称为正向传播)。"
   ]
  },
  {
   "cell_type": "code",
   "execution_count": 4,
   "id": "5579f895",
   "metadata": {},
   "outputs": [],
   "source": [
    "import torch\n",
    "import torch.nn as nn\n",
    "\n",
    "class MLP(nn.Module):\n",
    "    # 声明带有模型参数的层，这里声明了两个全连接层\n",
    "    def __init__(self, **kwargs):\n",
    "        # 调用MLP父类Module的构造函数来进行必要的初始化。这样在构造实例时还可以指定其他函数\n",
    "        # 的参数，如“模型参数的访问、初始化和共享”一节将介绍的模型参数params\n",
    "        super(MLP,self).__init__(**kwargs)\n",
    "        self.hidden = nn.Linear(784,256)\n",
    "        self.act = nn.ReLU()\n",
    "        self.output = nn.Linear(256,10)\n",
    "    def forward(self,x):\n",
    "        a = self.act(self.hidden(x))\n",
    "        return self.output(a)"
   ]
  },
  {
   "cell_type": "markdown",
   "id": "753d8906",
   "metadata": {},
   "source": [
    "以上的`MLP`类无须定义反向传播函数。系统将通过自动求梯度从而自动生成反向传播所需的`backward`函数。\n",
    "\n",
    "我们可以实例化`MLP`类得到模型变量`net`。下面的代码初始化`net`并且传入数据`X`做一次前向计算。其中`net(X)`会调用`MLP`继承自`Module`类的`__call__`函数。这个函数会自动调用`MLP`类定义的`forward`函数来完成前向计算。"
   ]
  },
  {
   "cell_type": "code",
   "execution_count": 5,
   "id": "fb3b615b",
   "metadata": {},
   "outputs": [
    {
     "name": "stdout",
     "output_type": "stream",
     "text": [
      "MLP(\n",
      "  (hidden): Linear(in_features=784, out_features=256, bias=True)\n",
      "  (act): ReLU()\n",
      "  (output): Linear(in_features=256, out_features=10, bias=True)\n",
      ")\n"
     ]
    },
    {
     "data": {
      "text/plain": [
       "tensor([[ 0.0221, -0.1292, -0.0427,  0.0135, -0.2479, -0.0040,  0.1310,  0.0443,\n",
       "         -0.0467,  0.1770],\n",
       "        [ 0.0582,  0.0251, -0.0228,  0.0252, -0.2122, -0.0209,  0.1266,  0.0144,\n",
       "         -0.0319,  0.0132]], grad_fn=<AddmmBackward0>)"
      ]
     },
     "execution_count": 5,
     "metadata": {},
     "output_type": "execute_result"
    }
   ],
   "source": [
    "X = torch.rand(2,784)\n",
    "net = MLP()\n",
    "print(net)\n",
    "net(X)"
   ]
  },
  {
   "cell_type": "markdown",
   "id": "0b4450d9",
   "metadata": {},
   "source": [
    "## 2. `Module`的子类"
   ]
  },
  {
   "cell_type": "markdown",
   "id": "f8eb7a59",
   "metadata": {},
   "source": [
    "我们刚刚提到，`Module`类是一个通用的部件。事实上，PyTorch还实现了继承自`Module`的可以方便构建模型的类: 如`Sequential`、`ModuleList`和`ModuleDict`等等。"
   ]
  },
  {
   "cell_type": "markdown",
   "id": "b968a67c",
   "metadata": {},
   "source": [
    "### 2.1 `Sequential`类"
   ]
  },
  {
   "cell_type": "markdown",
   "id": "90d4a0da",
   "metadata": {},
   "source": [
    "当模型的前向计算为简单串联各个层的计算时，`Sequential`类可以通过更加简单的方式定义模型。这正是`Sequential`类的目的：它可以接收一个子模块的有序字典（OrderedDict）或者一系列子模块作为参数来逐一添加`Module`的实例，而模型的前向计算就是将这些实例按添加的顺序逐一计算。\n",
    "\n",
    "下面我们实现一个与`Sequential`类有相同功能的`MySequential`类。这或许可以帮助读者更加清晰地理解`Sequential`类的工作机制。"
   ]
  },
  {
   "cell_type": "code",
   "execution_count": null,
   "id": "fa6fde91",
   "metadata": {},
   "outputs": [],
   "source": [
    "class MySequential(nn.Module):\n",
    "    from collection import OrderdDict\n",
    "    def __init__(self,*args):\n",
    "        super(MySequential,self).__init__()\n",
    "        # 如果传入的是一个OrderedDict\n",
    "        if len(args) == 1 and isinstance(args[0],OrderdDict):\n",
    "            for key,module in args[0].items():\n",
    "                "
   ]
  }
 ],
 "metadata": {
  "kernelspec": {
   "display_name": "Python 3 (ipykernel)",
   "language": "python",
   "name": "python3"
  },
  "language_info": {
   "codemirror_mode": {
    "name": "ipython",
    "version": 3
   },
   "file_extension": ".py",
   "mimetype": "text/x-python",
   "name": "python",
   "nbconvert_exporter": "python",
   "pygments_lexer": "ipython3",
   "version": "3.9.13"
  }
 },
 "nbformat": 4,
 "nbformat_minor": 5
}
