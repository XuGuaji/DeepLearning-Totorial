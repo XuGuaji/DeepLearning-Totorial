{
 "cells": [
  {
   "cell_type": "code",
   "execution_count": 10,
   "id": "57b8e2cc",
   "metadata": {},
   "outputs": [],
   "source": [
    "import torch\n",
    "import numpy as np\n",
    "from matplotlib import pyplot as plt"
   ]
  },
  {
   "cell_type": "code",
   "execution_count": 15,
   "id": "1f20fbd9",
   "metadata": {},
   "outputs": [
    {
     "data": {
      "text/plain": [
       "tensor([[-1.0338, -2.5682],\n",
       "        [ 0.2369,  0.0556],\n",
       "        [-0.4252, -0.5218],\n",
       "        [-1.0653, -0.4246],\n",
       "        [-1.0560,  2.3471],\n",
       "        [-0.6665, -0.1207],\n",
       "        [-0.3988,  0.2238],\n",
       "        [ 0.1328,  1.5611],\n",
       "        [ 1.0452,  2.7663],\n",
       "        [ 0.0424,  0.3744]])"
      ]
     },
     "execution_count": 15,
     "metadata": {},
     "output_type": "execute_result"
    }
   ],
   "source": [
    "num_inputs = 2\n",
    "num_examples = 10\n",
    "true_w = [2,-3.4]\n",
    "true_b = 4.2\n",
    "\n",
    "features = torch.randn(num_examples,num_inputs,dtype=torch.float32)\n",
    "labels = features[:,0] + features[:,1] + true_b"
   ]
  },
  {
   "cell_type": "code",
   "execution_count": null,
   "id": "3d604645",
   "metadata": {},
   "outputs": [],
   "source": []
  },
  {
   "cell_type": "code",
   "execution_count": null,
   "id": "c2cf8404",
   "metadata": {},
   "outputs": [],
   "source": []
  }
 ],
 "metadata": {
  "kernelspec": {
   "display_name": "Python 3 (ipykernel)",
   "language": "python",
   "name": "python3"
  },
  "language_info": {
   "codemirror_mode": {
    "name": "ipython",
    "version": 3
   },
   "file_extension": ".py",
   "mimetype": "text/x-python",
   "name": "python",
   "nbconvert_exporter": "python",
   "pygments_lexer": "ipython3",
   "version": "3.9.13"
  }
 },
 "nbformat": 4,
 "nbformat_minor": 5
}
