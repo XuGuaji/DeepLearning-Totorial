{
 "cells": [
  {
   "cell_type": "markdown",
   "id": "70e9f72a",
   "metadata": {},
   "source": [
    "卷积神经网络（convolutional neural network）是含有卷积层（convolutional layer）的神经网络。本章中介绍的卷积神经网络均使用最常见的二维卷积层。它有高和宽两个空间维度，常用来处理图像数据。本节中，我们将介绍简单形式的二维卷积层的工作原理。"
   ]
  },
  {
   "cell_type": "markdown",
   "id": "5ad8e78d",
   "metadata": {},
   "source": [
    "## 二维互相关运算"
   ]
  },
  {
   "cell_type": "markdown",
   "id": "8a2ed769",
   "metadata": {},
   "source": [
    "虽然卷积层得名于卷积（convolution）运算，但我们通常在卷积层中使用更加直观的互相关（cross-correlation）运算。在二维卷积层中，一个二维输入数组和一个二维核（kernel）数组通过互相关运算输出一个二维数组。 我们用一个具体例子来解释二维互相关运算的含义。如图5.1所示，输入是一个高和宽均为3的二维数组。我们将该数组的形状记为3×3或（3，3）。核数组的高和宽分别为2。该数组在卷积计算中又称卷积核或过滤器（filter）。卷积核窗口（又称卷积窗口）的形状取决于卷积核的高和宽，即`2×2`。图5.1中的阴影部分为第一个输出元素及其计算所使用的输入和核数组元素：`0×0+1×1+3×2+4×3=19`"
   ]
  },
  {
   "cell_type": "markdown",
   "id": "43555ef2",
   "metadata": {},
   "source": [
    "<img src='img/5.1_correlation.svg'>"
   ]
  },
  {
   "cell_type": "markdown",
   "id": "c3ed9f46",
   "metadata": {},
   "source": [
    "在二维互相关运算中，卷积窗口从输入数组的最左上方开始，按从左往右、从上往下的顺序，依次在输入数组上滑动。当卷积窗口滑动到某一位置时，窗口中的输入子数组与核数组按元素相乘并求和，得到输出数组中相应位置的元素。图5.1中的输出数组高和宽分别为2，其中的4个元素由二维互相关运算得出：\n",
    "\n",
    "`\n",
    "0×0+1×1+3×2+4×3=19,\n",
    "1×0+2×1+4×2+5×3=25,\n",
    "3×0+4×1+6×2+7×3=37,\n",
    "4×0+5×1+7×2+8×3=43.\n",
    "`\n",
    "\n",
    "\n",
    "下面我们将上述过程实现在corr2d函数里。它接受输入数组X与核数组K，并输出数组Y。"
   ]
  },
  {
   "cell_type": "code",
   "execution_count": null,
   "id": "f7d8e29d",
   "metadata": {},
   "outputs": [],
   "source": []
  }
 ],
 "metadata": {
  "kernelspec": {
   "display_name": "Python 3 (ipykernel)",
   "language": "python",
   "name": "python3"
  },
  "language_info": {
   "codemirror_mode": {
    "name": "ipython",
    "version": 3
   },
   "file_extension": ".py",
   "mimetype": "text/x-python",
   "name": "python",
   "nbconvert_exporter": "python",
   "pygments_lexer": "ipython3",
   "version": "3.9.13"
  }
 },
 "nbformat": 4,
 "nbformat_minor": 5
}
