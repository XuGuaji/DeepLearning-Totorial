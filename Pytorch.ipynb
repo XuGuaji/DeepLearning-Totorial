{
 "cells": [
  {
   "cell_type": "markdown",
   "id": "ffc310ad",
   "metadata": {},
   "source": [
    "## 1.1 数据操作"
   ]
  },
  {
   "cell_type": "markdown",
   "id": "9f590576",
   "metadata": {},
   "source": [
    "在深度学习中，我们通常会频繁地对数据进行操作。作为动手学深度学习的基础，本节将介绍如何对内存中的数据进行操作。\n",
    "\n",
    "在PyTorch中，torch.Tensor是存储和变换数据的主要工具。如果你之前用过NumPy，你会发现Tensor和NumPy的多维数组非常类似。然而，Tensor提供GPU计算和自动求梯度等更多功能，这些使Tensor更加适合深度学习。"
   ]
  },
  {
   "cell_type": "markdown",
   "id": "fdfa248e",
   "metadata": {},
   "source": [
    ">\"tensor\"这个单词一般可译作“张量”，张量可以看作是一个多维数组。标量可以看作是0维张量，向量可以看作1维张量，矩阵可以看作是二维张量。"
   ]
  },
  {
   "cell_type": "markdown",
   "id": "abee316d",
   "metadata": {},
   "source": [
    "### 1.1.1 创建Tensor"
   ]
  },
  {
   "cell_type": "code",
   "execution_count": 1,
   "id": "b7524b91",
   "metadata": {},
   "outputs": [],
   "source": [
    "import torch"
   ]
  },
  {
   "cell_type": "markdown",
   "id": "90cde51e",
   "metadata": {},
   "source": [
    "然后我们创建一个5x3的未初始化的Tensor："
   ]
  },
  {
   "cell_type": "code",
   "execution_count": 25,
   "id": "8abbab3c",
   "metadata": {},
   "outputs": [
    {
     "data": {
      "text/plain": [
       "tensor([[9.9184e-39, 8.7245e-39, 9.2755e-39, 8.9082e-39],\n",
       "        [9.9184e-39, 8.4490e-39, 9.6429e-39, 1.0653e-38],\n",
       "        [1.0469e-38, 4.2246e-39, 1.0378e-38, 9.6429e-39],\n",
       "        [9.2755e-39, 9.7346e-39, 1.0745e-38, 1.0102e-38]])"
      ]
     },
     "execution_count": 25,
     "metadata": {},
     "output_type": "execute_result"
    }
   ],
   "source": [
    "x = torch.empty(4, 4)\n",
    "x"
   ]
  },
  {
   "cell_type": "markdown",
   "id": "cda14420",
   "metadata": {},
   "source": [
    "创建一个5x3的随机初始化的Tensor:"
   ]
  },
  {
   "cell_type": "code",
   "execution_count": 7,
   "id": "c75ff50e",
   "metadata": {},
   "outputs": [
    {
     "data": {
      "text/plain": [
       "tensor([[0.9600, 0.4103, 0.0539],\n",
       "        [0.7864, 0.5885, 0.4117],\n",
       "        [0.5964, 0.8384, 0.2455],\n",
       "        [0.7634, 0.0676, 0.9139],\n",
       "        [0.0136, 0.4442, 0.3324]])"
      ]
     },
     "execution_count": 7,
     "metadata": {},
     "output_type": "execute_result"
    }
   ],
   "source": [
    "x = torch.rand(5,3)\n",
    "x"
   ]
  },
  {
   "cell_type": "markdown",
   "id": "1528770e",
   "metadata": {},
   "source": [
    "创建一个5x3的long型全0的Tensor:"
   ]
  },
  {
   "cell_type": "code",
   "execution_count": 12,
   "id": "10d031b1",
   "metadata": {},
   "outputs": [
    {
     "data": {
      "text/plain": [
       "tensor([[0, 0, 0],\n",
       "        [0, 0, 0],\n",
       "        [0, 0, 0],\n",
       "        [0, 0, 0],\n",
       "        [0, 0, 0]])"
      ]
     },
     "execution_count": 12,
     "metadata": {},
     "output_type": "execute_result"
    }
   ],
   "source": [
    "x = torch.zeros(5,3,dtype=torch.long)\n",
    "x"
   ]
  },
  {
   "cell_type": "markdown",
   "id": "90fc3d70",
   "metadata": {},
   "source": [
    "还可以直接根据数据创建:"
   ]
  },
  {
   "cell_type": "code",
   "execution_count": 13,
   "id": "8887d3c9",
   "metadata": {},
   "outputs": [
    {
     "data": {
      "text/plain": [
       "tensor([5.5000, 3.0000])"
      ]
     },
     "execution_count": 13,
     "metadata": {},
     "output_type": "execute_result"
    }
   ],
   "source": [
    "x = torch.tensor([5.5,3])\n",
    "x"
   ]
  },
  {
   "cell_type": "markdown",
   "id": "6759d661",
   "metadata": {},
   "source": [
    "还可以通过现有的Tensor来创建，此方法会默认重用输入Tensor的一些属性，例如数据类型。"
   ]
  },
  {
   "cell_type": "code",
   "execution_count": 30,
   "id": "1d19e433",
   "metadata": {},
   "outputs": [
    {
     "data": {
      "text/plain": [
       "tensor([[1., 1., 1.],\n",
       "        [1., 1., 1.],\n",
       "        [1., 1., 1.],\n",
       "        [1., 1., 1.],\n",
       "        [1., 1., 1.]], dtype=torch.float64)"
      ]
     },
     "execution_count": 30,
     "metadata": {},
     "output_type": "execute_result"
    }
   ],
   "source": [
    "x = x.new_ones(5,3,dtype=torch.float64)\n",
    "x"
   ]
  },
  {
   "cell_type": "code",
   "execution_count": 32,
   "id": "2ede448f",
   "metadata": {},
   "outputs": [
    {
     "data": {
      "text/plain": [
       "tensor([[ 1.8540,  0.1141,  1.2425],\n",
       "        [ 1.0320, -0.1981, -1.8309],\n",
       "        [-0.0607,  0.2472,  1.2684],\n",
       "        [-0.4542, -0.6715,  0.5657],\n",
       "        [ 1.0306,  1.4665,  0.6196]])"
      ]
     },
     "execution_count": 32,
     "metadata": {},
     "output_type": "execute_result"
    }
   ],
   "source": [
    "x = torch.randn_like(x,dtype=torch.float)\n",
    "x"
   ]
  },
  {
   "cell_type": "markdown",
   "id": "7f5f80f2",
   "metadata": {},
   "source": [
    "我们可以通过shape或者size()来获取Tensor的形状:"
   ]
  },
  {
   "cell_type": "code",
   "execution_count": 33,
   "id": "af7199a9",
   "metadata": {},
   "outputs": [
    {
     "data": {
      "text/plain": [
       "torch.Size([5, 3])"
      ]
     },
     "execution_count": 33,
     "metadata": {},
     "output_type": "execute_result"
    }
   ],
   "source": [
    "x.shape"
   ]
  },
  {
   "cell_type": "code",
   "execution_count": 34,
   "id": "438a1975",
   "metadata": {},
   "outputs": [
    {
     "data": {
      "text/plain": [
       "torch.Size([5, 3])"
      ]
     },
     "execution_count": 34,
     "metadata": {},
     "output_type": "execute_result"
    }
   ],
   "source": [
    "x.size()"
   ]
  },
  {
   "cell_type": "markdown",
   "id": "9c24a52b",
   "metadata": {},
   "source": [
    "> 注意：返回的torch.Size其实就是一个tuple, 支持所有tuple的操作。"
   ]
  },
  {
   "cell_type": "markdown",
   "id": "c0de735d",
   "metadata": {},
   "source": [
    "还有很多函数可以创建Tensor，去翻翻官方API就知道了，下表给了一些常用的作参考。"
   ]
  },
  {
   "cell_type": "markdown",
   "id": "7f06140c",
   "metadata": {},
   "source": [
    "|函数|功能|\n",
    "|:--:|:--:|\n",
    "|Tensor(*sizes)|\t基础构造函数|\n",
    "|tensor(data,)|\t类似np.array的构造函数|\n",
    "|ones(*sizes)|\t全1Tensor|\n",
    "|zeros(*sizes)|\t全0Tensor|\n",
    "|eye(*sizes)|\t对角线为1，其他为0|\n",
    "|arange(s,e,step)|\t从s到e，步长为step|\n",
    "|linspace(s,e,steps)|\t从s到e，均匀切分成steps份|\n",
    "|rand/randn(*sizes)\t|均匀/标准分布|\n",
    "|normal(mean,std)/uniform(from,to)|\t正态分布/均匀分布|\n",
    "|randperm(m)|\t随机排列|"
   ]
  },
  {
   "cell_type": "markdown",
   "id": "0e72e197",
   "metadata": {},
   "source": [
    "这些创建方法都可以在创建的时候指定数据类型dtype和存放device(cpu/gpu)。"
   ]
  },
  {
   "cell_type": "markdown",
   "id": "54f03be4",
   "metadata": {},
   "source": [
    "### 1.1.2 操作"
   ]
  },
  {
   "cell_type": "markdown",
   "id": "ec7597f7",
   "metadata": {},
   "source": [
    "#### 算数操作"
   ]
  },
  {
   "cell_type": "markdown",
   "id": "b34d46a9",
   "metadata": {},
   "source": [
    "+ 加法形式一"
   ]
  },
  {
   "cell_type": "code",
   "execution_count": 43,
   "id": "6df65586",
   "metadata": {},
   "outputs": [
    {
     "data": {
      "text/plain": [
       "tensor([[10, 10, 10],\n",
       "        [10, 10, 10],\n",
       "        [10, 10, 10]])"
      ]
     },
     "execution_count": 43,
     "metadata": {},
     "output_type": "execute_result"
    }
   ],
   "source": [
    "x = torch.arange(9,0,-1).reshape(3,3)\n",
    "y = torch.arange(1,10).reshape(3,3)\n",
    "x + y"
   ]
  },
  {
   "cell_type": "markdown",
   "id": "52902ab4",
   "metadata": {},
   "source": [
    "+ 加法形式二"
   ]
  },
  {
   "cell_type": "code",
   "execution_count": 44,
   "id": "28bdff88",
   "metadata": {},
   "outputs": [
    {
     "name": "stdout",
     "output_type": "stream",
     "text": [
      "tensor([[10, 10, 10],\n",
      "        [10, 10, 10],\n",
      "        [10, 10, 10]])\n"
     ]
    }
   ],
   "source": [
    "print(torch.add(x,y))"
   ]
  },
  {
   "cell_type": "markdown",
   "id": "301084ac",
   "metadata": {},
   "source": [
    "还可指定输出到某个变量："
   ]
  },
  {
   "cell_type": "code",
   "execution_count": 50,
   "id": "948e45a9",
   "metadata": {},
   "outputs": [
    {
     "data": {
      "text/plain": [
       "tensor([[10., 10., 10.],\n",
       "        [10., 10., 10.],\n",
       "        [10., 10., 10.]])"
      ]
     },
     "execution_count": 50,
     "metadata": {},
     "output_type": "execute_result"
    }
   ],
   "source": [
    "result = torch.empty(3,3)\n",
    "torch.add(x,y,out=result)\n",
    "result"
   ]
  },
  {
   "cell_type": "markdown",
   "id": "d17f951c",
   "metadata": {},
   "source": [
    "+ 加法形式三 内置函数"
   ]
  },
  {
   "cell_type": "code",
   "execution_count": 51,
   "id": "46716832",
   "metadata": {},
   "outputs": [
    {
     "data": {
      "text/plain": [
       "tensor([[10, 10, 10],\n",
       "        [10, 10, 10],\n",
       "        [10, 10, 10]])"
      ]
     },
     "execution_count": 51,
     "metadata": {},
     "output_type": "execute_result"
    }
   ],
   "source": [
    "y.add_(x)\n",
    "y"
   ]
  },
  {
   "cell_type": "markdown",
   "id": "896c2cc3",
   "metadata": {},
   "source": [
    "> 注：PyTorch操作inplace版本都有后缀_, 例如x.copy_(y), x.t_()"
   ]
  },
  {
   "cell_type": "markdown",
   "id": "7f8d78b2",
   "metadata": {},
   "source": [
    "#### 索引"
   ]
  },
  {
   "cell_type": "markdown",
   "id": "90af1837",
   "metadata": {},
   "source": [
    "我们还可以使用类似NumPy的索引操作来访问Tensor的一部分，需要注意的是：**索引出来的结果与原数据共享内存，也即修改一个，另一个会跟着修改**。"
   ]
  },
  {
   "cell_type": "code",
   "execution_count": 53,
   "id": "08ece124",
   "metadata": {},
   "outputs": [
    {
     "data": {
      "text/plain": [
       "tensor([[9, 8, 7],\n",
       "        [6, 5, 4],\n",
       "        [3, 2, 1]])"
      ]
     },
     "execution_count": 53,
     "metadata": {},
     "output_type": "execute_result"
    }
   ],
   "source": [
    "x"
   ]
  },
  {
   "cell_type": "code",
   "execution_count": 56,
   "id": "1bd45b9b",
   "metadata": {},
   "outputs": [
    {
     "data": {
      "text/plain": [
       "tensor([11, 10,  9])"
      ]
     },
     "execution_count": 56,
     "metadata": {},
     "output_type": "execute_result"
    }
   ],
   "source": [
    "x_change = x[0,:]\n",
    "x_change += 1\n",
    "x_change"
   ]
  },
  {
   "cell_type": "code",
   "execution_count": 57,
   "id": "ef6a72f4",
   "metadata": {},
   "outputs": [
    {
     "data": {
      "text/plain": [
       "tensor([11, 10,  9])"
      ]
     },
     "execution_count": 57,
     "metadata": {},
     "output_type": "execute_result"
    }
   ],
   "source": [
    "x[0,:]"
   ]
  },
  {
   "cell_type": "markdown",
   "id": "ad93e86d",
   "metadata": {},
   "source": [
    "除了常用的索引选择数据之外，PyTorch还提供了一些高级的选择函数:"
   ]
  },
  {
   "cell_type": "markdown",
   "id": "e0c238ee",
   "metadata": {},
   "source": [
    "|函数\t|功能|\n",
    "|:--:|:--:|\n",
    "|index_select(input, dim, index)\t|在指定维度dim上选取，比如选取某些行、某些列|\n",
    "|masked_select(input, mask)\t|例子如上，a[a>0]，使用ByteTensor进行选取|\n",
    "|nonzero(input)|\t非0元素的下标|\n",
    "|gather(input, dim, index)|\t根据index，在dim维度上选取数据，输出的size与index一样|"
   ]
  },
  {
   "cell_type": "markdown",
   "id": "5075c3e6",
   "metadata": {},
   "source": [
    "#### 改变形状"
   ]
  },
  {
   "cell_type": "markdown",
   "id": "5b5f72b8",
   "metadata": {},
   "source": [
    "用view()来改变Tensor的形状："
   ]
  },
  {
   "cell_type": "code",
   "execution_count": 63,
   "id": "9ec82006",
   "metadata": {},
   "outputs": [
    {
     "data": {
      "text/plain": [
       "tensor([[11, 10,  9],\n",
       "        [ 6,  5,  4],\n",
       "        [ 3,  2,  1]])"
      ]
     },
     "execution_count": 63,
     "metadata": {},
     "output_type": "execute_result"
    }
   ],
   "source": [
    "x"
   ]
  },
  {
   "cell_type": "code",
   "execution_count": 65,
   "id": "3692240a",
   "metadata": {},
   "outputs": [
    {
     "data": {
      "text/plain": [
       "tensor([11, 10,  9,  6,  5,  4,  3,  2,  1])"
      ]
     },
     "execution_count": 65,
     "metadata": {},
     "output_type": "execute_result"
    }
   ],
   "source": [
    "y = x.view(9)\n",
    "y"
   ]
  },
  {
   "cell_type": "code",
   "execution_count": null,
   "id": "963d38b4",
   "metadata": {},
   "outputs": [],
   "source": [
    "z = x.view(-1,3)\n",
    "# -1所指的维度可以根据其他维度的值推出来\n",
    "z"
   ]
  },
  {
   "cell_type": "markdown",
   "id": "7f4a88bc",
   "metadata": {},
   "source": [
    "注意view()返回的新Tensor与源Tensor虽然可能有不同的size，但是是共享data的，也即更改其中的一个，另外一个也会跟着改变。(顾名思义，**view仅仅是改变了对这个张量的观察角度，内部数据并未改变**)"
   ]
  },
  {
   "cell_type": "markdown",
   "id": "16ca75a6",
   "metadata": {},
   "source": [
    "所以如果我们想返回一个真正新的副本（即不共享data内存）该怎么办呢？Pytorch还提供了一个reshape()可以改变形状，但是此函数并不能保证返回的是其拷贝，**所以不推荐使用**。推荐先用clone创造一个副本然后再使用view。"
   ]
  },
  {
   "cell_type": "code",
   "execution_count": 75,
   "id": "f1915163",
   "metadata": {},
   "outputs": [
    {
     "data": {
      "text/plain": [
       "tensor([[10,  9,  8],\n",
       "        [ 5,  4,  3],\n",
       "        [ 2,  1,  0]])"
      ]
     },
     "execution_count": 75,
     "metadata": {},
     "output_type": "execute_result"
    }
   ],
   "source": [
    "x_cp = x.clone().view(9)\n",
    "x -= 1\n",
    "x"
   ]
  },
  {
   "cell_type": "code",
   "execution_count": 76,
   "id": "ff2ed27a",
   "metadata": {},
   "outputs": [
    {
     "data": {
      "text/plain": [
       "tensor([11, 10,  9,  6,  5,  4,  3,  2,  1])"
      ]
     },
     "execution_count": 76,
     "metadata": {},
     "output_type": "execute_result"
    }
   ],
   "source": [
    "x_cp"
   ]
  },
  {
   "cell_type": "markdown",
   "id": "b3579197",
   "metadata": {},
   "source": [
    "> 使用clone还有一个好处是会被记录在计算图中，即梯度回传到副本时也会传到源Tensor。"
   ]
  },
  {
   "cell_type": "markdown",
   "id": "56d5111f",
   "metadata": {},
   "source": [
    "另外一个常用的函数就是item(), 它可以将一个标量Tensor转换成一个Python number："
   ]
  },
  {
   "cell_type": "code",
   "execution_count": 77,
   "id": "34c4c870",
   "metadata": {},
   "outputs": [
    {
     "name": "stdout",
     "output_type": "stream",
     "text": [
      "tensor([-1.5595])\n",
      "-1.5595136880874634\n"
     ]
    }
   ],
   "source": [
    "x = torch.randn(1)\n",
    "print(x)\n",
    "print(x.item())"
   ]
  },
  {
   "cell_type": "markdown",
   "id": "54c4b6f9",
   "metadata": {},
   "source": [
    "#### 线性代数"
   ]
  },
  {
   "cell_type": "markdown",
   "id": "af55a60f",
   "metadata": {},
   "source": [
    "另外，PyTorch还支持一些线性函数，这里提一下，免得用起来的时候自己造轮子，具体用法参考官方文档。如下表所示："
   ]
  },
  {
   "cell_type": "markdown",
   "id": "00c58bb0",
   "metadata": {},
   "source": [
    "|函数\t|功能|\n",
    "|:--:|:--:|\n",
    "|trace|\t对角线元素之和(矩阵的迹)|\n",
    "|diag\t|对角线元素|\n",
    "|triu/tril\t|矩阵的上三角/下三角，可指定偏移量|\n",
    "|mm/bmm|\t矩阵乘法，batch的矩阵乘法|\n",
    "|addmm/addbmm/addmv/addr/baddbmm..\t|矩阵运算|\n",
    "|t\t|转置|\n",
    "|dot/cross\t|内积/外积|\n",
    "|inverse|\t求逆矩阵|\n",
    "|svd\t|奇异值分解|"
   ]
  },
  {
   "cell_type": "markdown",
   "id": "7b972c64",
   "metadata": {},
   "source": [
    "PyTorch中的Tensor支持超过一百种操作，包括转置、索引、切片、数学运算、线性代数、随机数等等"
   ]
  },
  {
   "cell_type": "markdown",
   "id": "6d15d3b7",
   "metadata": {},
   "source": [
    "### 1.1.3 广播机制"
   ]
  },
  {
   "cell_type": "markdown",
   "id": "23187a8e",
   "metadata": {},
   "source": [
    "前面我们看到如何对两个形状相同的Tensor做按元素运算。当对两个形状不同的Tensor按元素运算时，可能会触发广播（broadcasting）机制：先适当复制元素使这两个Tensor形状相同后再按元素运算。例如："
   ]
  },
  {
   "cell_type": "code",
   "execution_count": 81,
   "id": "eed66388",
   "metadata": {},
   "outputs": [
    {
     "data": {
      "text/plain": [
       "tensor([[1, 2]])"
      ]
     },
     "execution_count": 81,
     "metadata": {},
     "output_type": "execute_result"
    }
   ],
   "source": [
    "x = torch.arange(1,3).view(1,2)\n",
    "x"
   ]
  },
  {
   "cell_type": "code",
   "execution_count": 82,
   "id": "f78ec08c",
   "metadata": {},
   "outputs": [
    {
     "data": {
      "text/plain": [
       "tensor([[1],\n",
       "        [2],\n",
       "        [3]])"
      ]
     },
     "execution_count": 82,
     "metadata": {},
     "output_type": "execute_result"
    }
   ],
   "source": [
    "y = torch.arange(1,4).view(3,1)\n",
    "y"
   ]
  },
  {
   "cell_type": "code",
   "execution_count": 83,
   "id": "9c62a046",
   "metadata": {},
   "outputs": [
    {
     "data": {
      "text/plain": [
       "tensor([[2, 3],\n",
       "        [3, 4],\n",
       "        [4, 5]])"
      ]
     },
     "execution_count": 83,
     "metadata": {},
     "output_type": "execute_result"
    }
   ],
   "source": [
    "x+y"
   ]
  },
  {
   "cell_type": "markdown",
   "id": "9eed0d2b",
   "metadata": {},
   "source": [
    "由于x和y分别是1行2列和3行1列的矩阵，如果要计算x + y，那么x中第一行的2个元素被广播（复制）到了第二行和第三行，而y中第一列的3个元素被广播（复制）到了第二列。如此，就可以对2个3行2列的矩阵按元素相加。"
   ]
  },
  {
   "cell_type": "markdown",
   "id": "4f166bfb",
   "metadata": {},
   "source": [
    "### 1.1.4 运算的内存开销"
   ]
  },
  {
   "cell_type": "markdown",
   "id": "7de587b6",
   "metadata": {},
   "source": [
    "前面说了，索引操作是不会开辟新内存的，而像y = x + y这样的运算是会新开内存的，然后将y指向新内存。为了演示这一点，我们可以使用Python自带的id函数：如果两个实例的ID一致，那么它们所对应的内存地址相同；反之则不同。"
   ]
  },
  {
   "cell_type": "code",
   "execution_count": 84,
   "id": "90bd5992",
   "metadata": {},
   "outputs": [
    {
     "data": {
      "text/plain": [
       "False"
      ]
     },
     "execution_count": 84,
     "metadata": {},
     "output_type": "execute_result"
    }
   ],
   "source": [
    "x = torch.tensor([1,2])\n",
    "y = torch.tensor([3,4])\n",
    "id_before = id(y)\n",
    "y = y + x\n",
    "id(y) == id(id_before)"
   ]
  },
  {
   "cell_type": "markdown",
   "id": "88ad5f03",
   "metadata": {},
   "source": [
    "如果想指定结果到原来的y的内存，我们可以使用前面介绍的索引来进行替换操作。在下面的例子中，我们把x + y的结果通过[:]写进y对应的内存中。"
   ]
  },
  {
   "cell_type": "code",
   "execution_count": 86,
   "id": "7297d2b5",
   "metadata": {},
   "outputs": [
    {
     "data": {
      "text/plain": [
       "True"
      ]
     },
     "execution_count": 86,
     "metadata": {},
     "output_type": "execute_result"
    }
   ],
   "source": [
    "x = torch.tensor([1, 2])\n",
    "y = torch.tensor([3, 4])\n",
    "id_before = id(y)\n",
    "y[:] = y + x\n",
    "id(y) == id_before"
   ]
  },
  {
   "cell_type": "markdown",
   "id": "fa0de377",
   "metadata": {},
   "source": [
    "我们还可以使用运算符全名函数中的out参数或者自加运算符+=(也即add_())达到上述效果，例如torch.add(x, y, out=y)和y += x(y.add_(x))。"
   ]
  },
  {
   "cell_type": "code",
   "execution_count": 87,
   "id": "1e9eae06",
   "metadata": {},
   "outputs": [
    {
     "data": {
      "text/plain": [
       "True"
      ]
     },
     "execution_count": 87,
     "metadata": {},
     "output_type": "execute_result"
    }
   ],
   "source": [
    "x = torch.tensor([1, 2])\n",
    "y = torch.tensor([3, 4])\n",
    "id_before = id(y)\n",
    "torch.add(x, y, out=y) # y += x, y.add_(x)\n",
    "id(y) == id_before"
   ]
  },
  {
   "cell_type": "markdown",
   "id": "cd1c1feb",
   "metadata": {},
   "source": [
    "> 注：虽然view返回的Tensor与源Tensor是共享data的，但是依然是一个新的Tensor（因为Tensor除了包含data外还有一些其他属性），二者id（内存地址）并不一致。"
   ]
  },
  {
   "cell_type": "markdown",
   "id": "955e460d",
   "metadata": {},
   "source": [
    "### 1.1.5 Tensor和NumPy相互转换"
   ]
  },
  {
   "cell_type": "markdown",
   "id": "6b602a6a",
   "metadata": {},
   "source": [
    "我们很容易用numpy()和from_numpy()将Tensor和NumPy中的数组相互转换。但是需要注意的一点是： 这两个函数所产生的的Tensor和NumPy中的数组共享相同的内存（所以他们之间的转换很快），改变其中一个时另一个也会改变！！！\n",
    "\n",
    "> 有一个常用的将NumPy中的array转换成Tensor的方法就是torch.tensor(), 需要注意的是，此方法总是会进行数据拷贝（就会消耗更多的时间和空间），所以返回的Tensor和原来的数据不再共享内存。"
   ]
  },
  {
   "cell_type": "markdown",
   "id": "c072f72e",
   "metadata": {},
   "source": [
    "#### Tensor转NumPy\n",
    "使用numpy()将Tensor转换成NumPy数组:"
   ]
  },
  {
   "cell_type": "code",
   "execution_count": 89,
   "id": "51b4b02a",
   "metadata": {},
   "outputs": [
    {
     "name": "stdout",
     "output_type": "stream",
     "text": [
      "tensor([1., 1., 1., 1., 1.]) [1. 1. 1. 1. 1.]\n",
      "tensor([2., 2., 2., 2., 2.]) [2. 2. 2. 2. 2.]\n",
      "tensor([3., 3., 3., 3., 3.]) [3. 3. 3. 3. 3.]\n"
     ]
    }
   ],
   "source": [
    "a = torch.ones(5)\n",
    "b = a.numpy()\n",
    "print(a, b)\n",
    "\n",
    "a += 1\n",
    "print(a, b)\n",
    "b += 1\n",
    "print(a, b)"
   ]
  },
  {
   "cell_type": "markdown",
   "id": "33567a62",
   "metadata": {},
   "source": [
    "#### NumPy数组转Tensor\n",
    "使用from_numpy()将NumPy数组转换成Tensor:"
   ]
  },
  {
   "cell_type": "code",
   "execution_count": 91,
   "id": "88368ffe",
   "metadata": {},
   "outputs": [
    {
     "name": "stdout",
     "output_type": "stream",
     "text": [
      "[1. 1. 1. 1. 1.] tensor([1., 1., 1., 1., 1.], dtype=torch.float64)\n",
      "[2. 2. 2. 2. 2.] tensor([2., 2., 2., 2., 2.], dtype=torch.float64)\n",
      "[3. 3. 3. 3. 3.] tensor([3., 3., 3., 3., 3.], dtype=torch.float64)\n"
     ]
    }
   ],
   "source": [
    "import numpy as np\n",
    "a = np.ones(5)\n",
    "b = torch.from_numpy(a)\n",
    "print(a, b)\n",
    "\n",
    "a += 1\n",
    "print(a, b)\n",
    "b += 1\n",
    "print(a, b)"
   ]
  },
  {
   "cell_type": "markdown",
   "id": "886a4bcc",
   "metadata": {},
   "source": [
    "所有在CPU上的Tensor（除了CharTensor）都支持与NumPy数组相互转换。\n",
    "\n",
    "此外上面提到还有一个常用的方法就是直接用torch.tensor()将NumPy数组转换成Tensor，需要注意的是该方法总是会进行数据拷贝，返回的Tensor和原来的数据不再共享内存。"
   ]
  },
  {
   "cell_type": "code",
   "execution_count": 92,
   "id": "8546fde6",
   "metadata": {},
   "outputs": [
    {
     "name": "stdout",
     "output_type": "stream",
     "text": [
      "[4. 4. 4. 4. 4.] tensor([3., 3., 3., 3., 3.], dtype=torch.float64)\n"
     ]
    }
   ],
   "source": [
    "c = torch.tensor(a)\n",
    "a += 1\n",
    "print(a, c)\n"
   ]
  },
  {
   "cell_type": "markdown",
   "id": "a5bac2e2",
   "metadata": {},
   "source": [
    "### 1.1.6 Tensor on GPU\n",
    "用方法to()可以将Tensor在CPU和GPU（需要硬件支持）之间相互移动。"
   ]
  },
  {
   "cell_type": "markdown",
   "id": "80818511",
   "metadata": {},
   "source": [
    "## 1.2 自动求梯度\n",
    "在深度学习中，我们经常需要对函数求梯度（gradient）。PyTorch提供的autograd包能够根据输入和前向传播过程自动构建计算图，并执行反向传播。本节将介绍如何使用autograd包来进行自动求梯度的有关操作。"
   ]
  },
  {
   "cell_type": "markdown",
   "id": "6bf7e4bb",
   "metadata": {},
   "source": [
    "### 1.2.1 概念\n",
    "上一节介绍的Tensor是这个包的核心类，如果将其属性.requires_grad设置为True，它将开始追踪(track)在其上的所有操作（这样就可以利用链式法则进行梯度传播了）。完成计算后，可以调用.backward()来完成所有梯度计算。此Tensor的梯度将累积到.grad属性中。"
   ]
  },
  {
   "cell_type": "markdown",
   "id": "84fb83d6",
   "metadata": {},
   "source": [
    "> |          注意在y.backward()时，如果y是标量，则不需要为backward()传入任何参数；否则，需要传入一个与y同形的Tensor。解释见 1.2.2 节。"
   ]
  },
  {
   "cell_type": "markdown",
   "id": "ce1c9369",
   "metadata": {},
   "source": [
    "如果不想要被继续追踪，可以调用.detach()将其从追踪记录中分离出来，这样就可以防止将来的计算被追踪，这样梯度就传不过去了。此外，还可以用with torch.no_grad()将不想被追踪的操作代码块包裹起来，这种方法在评估模型的时候很常用，因为在评估模型时，我们并不需要计算可训练参数（requires_grad=True）的梯度\n",
    "\n",
    "Function是另外一个很重要的类。Tensor和Function互相结合就可以构建一个记录有整个计算过程的有向无环图（DAG）。每个Tensor都有一个.grad_fn属性，该属性即创建该Tensor的Function, 就是说该Tensor是不是通过某些运算得到的，若是，则grad_fn返回一个与这些运算相关的对象，否则是None。\n",
    "\n",
    "下面通过一些例子来理解这些概念。"
   ]
  },
  {
   "cell_type": "markdown",
   "id": "2af82d82",
   "metadata": {},
   "source": [
    "### 1.2.2 Tensor\n",
    "创建一个Tensor并设置requires_grad=True:"
   ]
  },
  {
   "cell_type": "code",
   "execution_count": 4,
   "id": "8278cf4b",
   "metadata": {},
   "outputs": [
    {
     "name": "stdout",
     "output_type": "stream",
     "text": [
      "tensor([[1., 1.],\n",
      "        [1., 1.]], requires_grad=True)\n",
      "None\n"
     ]
    }
   ],
   "source": [
    "import torch\n",
    "x = torch.ones(2,2,requires_grad=True)\n",
    "print(x)\n",
    "print(x.grad_fn)"
   ]
  },
  {
   "cell_type": "markdown",
   "id": "55ef3252",
   "metadata": {},
   "source": [
    "再做一下运算操作："
   ]
  },
  {
   "cell_type": "code",
   "execution_count": 5,
   "id": "c4d8532b",
   "metadata": {},
   "outputs": [
    {
     "name": "stdout",
     "output_type": "stream",
     "text": [
      "tensor([[3., 3.],\n",
      "        [3., 3.]], grad_fn=<AddBackward0>)\n",
      "<AddBackward0 object at 0x00000164BCCE7CD0>\n"
     ]
    }
   ],
   "source": [
    "y = x + 2\n",
    "print(y)\n",
    "print(y.grad_fn)"
   ]
  },
  {
   "cell_type": "markdown",
   "id": "abade699",
   "metadata": {},
   "source": [
    "注意x是直接创建的，所以它没有grad_fn, 而y是通过一个加法操作创建的，所以它有一个为 **AddBackward** 的grad_fn。\n",
    "\n",
    "像x这种直接创建的称为**叶子节点**，叶子节点对应的grad_fn是None。"
   ]
  },
  {
   "cell_type": "code",
   "execution_count": 6,
   "id": "a4f315bf",
   "metadata": {},
   "outputs": [
    {
     "name": "stdout",
     "output_type": "stream",
     "text": [
      "True False\n"
     ]
    }
   ],
   "source": [
    "print(x.is_leaf, y.is_leaf) # True False"
   ]
  },
  {
   "cell_type": "markdown",
   "id": "eae410b2",
   "metadata": {},
   "source": [
    "再来点复杂度运算操作："
   ]
  },
  {
   "cell_type": "code",
   "execution_count": 7,
   "id": "e6bfa715",
   "metadata": {},
   "outputs": [
    {
     "name": "stdout",
     "output_type": "stream",
     "text": [
      "tensor([[27., 27.],\n",
      "        [27., 27.]], grad_fn=<MulBackward0>) tensor(27., grad_fn=<MeanBackward0>)\n"
     ]
    }
   ],
   "source": [
    "z = y * y * 3\n",
    "out = z.mean()\n",
    "print(z, out)"
   ]
  },
  {
   "cell_type": "markdown",
   "id": "4fa74b09",
   "metadata": {},
   "source": [
    "通过.requires_grad_()来用in-place的方式改变requires_grad属性"
   ]
  },
  {
   "cell_type": "code",
   "execution_count": 23,
   "id": "e79ab752",
   "metadata": {},
   "outputs": [
    {
     "name": "stdout",
     "output_type": "stream",
     "text": [
      "False\n",
      "True\n",
      "<SumBackward0 object at 0x00000164BCE69250>\n"
     ]
    }
   ],
   "source": [
    "a = torch.randn(2, 2) # 缺失情况下默认 requires_grad = False\n",
    "a = ((a * 3) / (a - 1))\n",
    "print(a.requires_grad) # False\n",
    "a.requires_grad_(True)\n",
    "print(a.requires_grad) # True\n",
    "b = (a * a).sum()\n",
    "print(b.grad_fn)"
   ]
  },
  {
   "cell_type": "markdown",
   "id": "ee884231",
   "metadata": {},
   "source": [
    "### 1.2.3 梯度"
   ]
  },
  {
   "cell_type": "markdown",
   "id": "2720ec07",
   "metadata": {},
   "source": [
    "因为out是一个标量，所以调用backward()时不需要指定求导变量："
   ]
  },
  {
   "cell_type": "code",
   "execution_count": 24,
   "id": "b3e6886c",
   "metadata": {},
   "outputs": [
    {
     "data": {
      "text/plain": [
       "tensor(27., grad_fn=<MeanBackward0>)"
      ]
     },
     "execution_count": 24,
     "metadata": {},
     "output_type": "execute_result"
    }
   ],
   "source": [
    "out"
   ]
  },
  {
   "cell_type": "markdown",
   "id": "ef6b8ee5",
   "metadata": {},
   "source": [
    "我们来看看out关于x的梯度  **d(out)/dx**"
   ]
  },
  {
   "cell_type": "code",
   "execution_count": 29,
   "id": "22b0f2a1",
   "metadata": {},
   "outputs": [
    {
     "name": "stdout",
     "output_type": "stream",
     "text": [
      "tensor([[4.5000, 4.5000],\n",
      "        [4.5000, 4.5000]])\n"
     ]
    }
   ],
   "source": [
    "print(x.grad)"
   ]
  },
  {
   "cell_type": "markdown",
   "id": "b6543d53",
   "metadata": {},
   "source": [
    "x   $\\mapsto$   y   $\\mapsto$   z    $\\mapsto$ out"
   ]
  },
  {
   "cell_type": "markdown",
   "id": "74fcabcc",
   "metadata": {},
   "source": [
    "注意：grad在反向传播过程中是累加的(accumulated)，这意味着每一次运行反向传播，梯度都会累加之前的梯度，所以一般在反向传播之前需把梯度清零。"
   ]
  },
  {
   "cell_type": "code",
   "execution_count": 31,
   "id": "9247bd22",
   "metadata": {},
   "outputs": [
    {
     "name": "stdout",
     "output_type": "stream",
     "text": [
      "tensor([[5.5000, 5.5000],\n",
      "        [5.5000, 5.5000]])\n",
      "tensor([[1., 1.],\n",
      "        [1., 1.]])\n"
     ]
    }
   ],
   "source": [
    "# 再来反向传播一次，注意grad是累加的\n",
    "out2 = x.sum()\n",
    "out2.backward()\n",
    "print(x.grad)\n",
    "\n",
    "out3 = x.sum()\n",
    "x.grad.data.zero_()\n",
    "out3.backward()\n",
    "print(x.grad)"
   ]
  },
  {
   "cell_type": "markdown",
   "id": "55147c78",
   "metadata": {},
   "source": [
    "为了避免向量（甚至更高维张量）对张量求导，而转换成标量对张量求导\n",
    "\n",
    "我们不允许张量对张量求导，只允许标量对张量求导，求导结果是和自变量同形的张量。\n",
    "\n",
    "所以必要时我们要把张量通过将所有张量的元素加权求和的方式转换为标量\n",
    "\n",
    "来看一些实际例子。"
   ]
  },
  {
   "cell_type": "code",
   "execution_count": 2,
   "id": "45b06868",
   "metadata": {
    "scrolled": true
   },
   "outputs": [
    {
     "name": "stdout",
     "output_type": "stream",
     "text": [
      "tensor([[2., 4.],\n",
      "        [6., 8.]], grad_fn=<ViewBackward0>)\n"
     ]
    }
   ],
   "source": [
    "x = torch.tensor([1.,2.,3.,4.],requires_grad=True)\n",
    "y = 2 * x\n",
    "z = y.view(2,2)\n",
    "print(z)"
   ]
  },
  {
   "cell_type": "markdown",
   "id": "341fbfaf",
   "metadata": {},
   "source": [
    "现在 z 不是一个标量，所以在调用backward时需要传入一个和z同形的权重向量进行加权求和得到一个标量。"
   ]
  },
  {
   "cell_type": "code",
   "execution_count": null,
   "id": "ba4ffb1e",
   "metadata": {},
   "outputs": [],
   "source": []
  },
  {
   "cell_type": "code",
   "execution_count": null,
   "id": "ab14b285",
   "metadata": {},
   "outputs": [],
   "source": []
  },
  {
   "cell_type": "code",
   "execution_count": null,
   "id": "ad987ddb",
   "metadata": {},
   "outputs": [],
   "source": []
  },
  {
   "cell_type": "markdown",
   "id": "d6efd281",
   "metadata": {},
   "source": [
    "## 2.2 线性回归的从零开始实现"
   ]
  },
  {
   "cell_type": "markdown",
   "id": "00f78bf2",
   "metadata": {},
   "source": [
    "在了解了线性回归的背景知识之后，现在我们可以动手实现它了。尽管强大的深度学习框架可以减少大量重复性工作，但若过于依赖它提供的便利，会导致我们很难深入理解深度学习是如何工作的。因此，本节将介绍如何只利用Tensor和autograd来实现一个线性回归的训练。\n",
    "\n",
    "首先，导入本节中实验所需的包或模块，其中的matplotlib包可用于作图，且设置成嵌入显示。"
   ]
  },
  {
   "cell_type": "code",
   "execution_count": 65,
   "id": "e90cb8c5",
   "metadata": {},
   "outputs": [],
   "source": [
    "import matplotlib_inline\n",
    "import torch\n",
    "from matplotlib import pyplot as plt\n",
    "import numpy as np\n",
    "import random"
   ]
  },
  {
   "cell_type": "markdown",
   "id": "7b860da4",
   "metadata": {},
   "source": [
    "### 2.2.1 生成数据集\n",
    "我们构造一个简单的人工训练数据集，它可以使我们能够直观比较学到的参数和真实的模型参数的区别。设训练数据集样本数为1000，输入个数（特征数）为2。给定随机生成的批量样本特征 X∈R1000×2\n",
    " ，我们使用线性回归模型真实权重 w=[2,−3.4] 和偏差 b=4.2b=4.2，以及一个随机噪声项 ϵ来生成标签\n",
    "\n",
    "y=Xw+b+ϵ"
   ]
  },
  {
   "cell_type": "markdown",
   "id": "576957a6",
   "metadata": {},
   "source": [
    "其中噪声项 ϵ 服从均值为0、标准差为0.01的正态分布。噪声代表了数据集中无意义的干扰。下面，让我们生成数据集。"
   ]
  },
  {
   "cell_type": "code",
   "execution_count": 87,
   "id": "aa06448b",
   "metadata": {},
   "outputs": [],
   "source": [
    "num_inputs = 2\n",
    "num_examples = 1000\n",
    "true_w = [2,-3.4]\n",
    "true_b = 4.2\n",
    "# 生成 x1;x2\n",
    "features = torch.randn(num_examples,num_inputs,dtype=torch.float32)"
   ]
  },
  {
   "cell_type": "markdown",
   "id": "29a750d8",
   "metadata": {},
   "source": [
    ">以下是关于 torch.randn()的用法\n",
    "\n",
    "torch.randn:用来生成随机数字的tensor，这些随机数字满足标准正态分布（0~1）。\n",
    "torch.randn（size),size可以是一个整数，也可以是一个元组。"
   ]
  },
  {
   "cell_type": "code",
   "execution_count": 88,
   "id": "76612be3",
   "metadata": {},
   "outputs": [
    {
     "data": {
      "text/plain": [
       "tensor([ 1.1099, -2.0863,  0.3111])"
      ]
     },
     "execution_count": 88,
     "metadata": {},
     "output_type": "execute_result"
    }
   ],
   "source": [
    "torch.randn(3)"
   ]
  },
  {
   "cell_type": "code",
   "execution_count": 89,
   "id": "06f613e6",
   "metadata": {},
   "outputs": [
    {
     "data": {
      "text/plain": [
       "tensor([[-0.3300,  1.3439,  0.7681, -0.5909],\n",
       "        [ 1.2094,  0.3854,  1.7493, -1.1119],\n",
       "        [ 0.5326,  1.4275, -0.3567,  0.0686]])"
      ]
     },
     "execution_count": 89,
     "metadata": {},
     "output_type": "execute_result"
    }
   ],
   "source": [
    "torch.randn(3,4)"
   ]
  },
  {
   "cell_type": "code",
   "execution_count": 90,
   "id": "36a4b931",
   "metadata": {},
   "outputs": [],
   "source": [
    "labels = true_w[0] * features[:, 0] + true_w[1] * features[:, 1] + true_b\n",
    "## 添加噪声\n",
    "labels += torch.tensor(np.random.normal(0, 0.01, size=labels.size()),\n",
    "                       dtype=torch.float32)"
   ]
  },
  {
   "cell_type": "markdown",
   "id": "58a2834d",
   "metadata": {},
   "source": [
    "注意，features的每一行是一个长度为2的向量，而labels的每一行是一个长度为1的向量（标量）。"
   ]
  },
  {
   "cell_type": "code",
   "execution_count": 91,
   "id": "37f0e23e",
   "metadata": {},
   "outputs": [
    {
     "name": "stdout",
     "output_type": "stream",
     "text": [
      "tensor([-0.1214,  0.8758]) tensor(0.9876)\n"
     ]
    }
   ],
   "source": [
    "print(features[0], labels[0])"
   ]
  },
  {
   "cell_type": "markdown",
   "id": "02d1bc7e",
   "metadata": {},
   "source": [
    "通过生成第二个特征features[:, 1]和标签 labels 的散点图，可以更直观地观察两者间的线性关系。"
   ]
  },
  {
   "cell_type": "code",
   "execution_count": 92,
   "id": "44390993",
   "metadata": {},
   "outputs": [
    {
     "data": {
      "text/plain": [
       "<matplotlib.collections.PathCollection at 0x164cf27de20>"
      ]
     },
     "execution_count": 92,
     "metadata": {},
     "output_type": "execute_result"
    },
    {
     "data": {
      "image/svg+xml": [
       "<?xml version=\"1.0\" encoding=\"utf-8\" standalone=\"no\"?>\n",
       "<!DOCTYPE svg PUBLIC \"-//W3C//DTD SVG 1.1//EN\"\n",
       "  \"http://www.w3.org/Graphics/SVG/1.1/DTD/svg11.dtd\">\n",
       "<svg xmlns:xlink=\"http://www.w3.org/1999/xlink\" width=\"237.804688pt\" height=\"169.678125pt\" viewBox=\"0 0 237.804688 169.678125\" xmlns=\"http://www.w3.org/2000/svg\" version=\"1.1\">\n",
       " <metadata>\n",
       "  <rdf:RDF xmlns:dc=\"http://purl.org/dc/elements/1.1/\" xmlns:cc=\"http://creativecommons.org/ns#\" xmlns:rdf=\"http://www.w3.org/1999/02/22-rdf-syntax-ns#\">\n",
       "   <cc:Work>\n",
       "    <dc:type rdf:resource=\"http://purl.org/dc/dcmitype/StillImage\"/>\n",
       "    <dc:date>2022-12-06T22:28:41.593623</dc:date>\n",
       "    <dc:format>image/svg+xml</dc:format>\n",
       "    <dc:creator>\n",
       "     <cc:Agent>\n",
       "      <dc:title>Matplotlib v3.5.3, https://matplotlib.org/</dc:title>\n",
       "     </cc:Agent>\n",
       "    </dc:creator>\n",
       "   </cc:Work>\n",
       "  </rdf:RDF>\n",
       " </metadata>\n",
       " <defs>\n",
       "  <style type=\"text/css\">*{stroke-linejoin: round; stroke-linecap: butt}</style>\n",
       " </defs>\n",
       " <g id=\"figure_1\">\n",
       "  <g id=\"patch_1\">\n",
       "   <path d=\"M 0 169.678125 \n",
       "L 237.804688 169.678125 \n",
       "L 237.804688 0 \n",
       "L 0 0 \n",
       "z\n",
       "\" style=\"fill: #ffffff\"/>\n",
       "  </g>\n",
       "  <g id=\"axes_1\">\n",
       "   <g id=\"patch_2\">\n",
       "    <path d=\"M 35.304688 145.8 \n",
       "L 230.604688 145.8 \n",
       "L 230.604688 7.2 \n",
       "L 35.304688 7.2 \n",
       "z\n",
       "\" style=\"fill: #ffffff\"/>\n",
       "   </g>\n",
       "   <g id=\"PathCollection_1\">\n",
       "    <defs>\n",
       "     <path id=\"me83bfb4d38\" d=\"M 0 0.5 \n",
       "C 0.132602 0.5 0.25979 0.447317 0.353553 0.353553 \n",
       "C 0.447317 0.25979 0.5 0.132602 0.5 0 \n",
       "C 0.5 -0.132602 0.447317 -0.25979 0.353553 -0.353553 \n",
       "C 0.25979 -0.447317 0.132602 -0.5 0 -0.5 \n",
       "C -0.132602 -0.5 -0.25979 -0.447317 -0.353553 -0.353553 \n",
       "C -0.447317 -0.25979 -0.5 -0.132602 -0.5 0 \n",
       "C -0.5 0.132602 -0.447317 0.25979 -0.353553 0.353553 \n",
       "C -0.25979 0.447317 -0.132602 0.5 0 0.5 \n",
       "z\n",
       "\" style=\"stroke: #1f77b4\"/>\n",
       "    </defs>\n",
       "    <g clip-path=\"url(#p882b512307)\">\n",
       "     <use xlink:href=\"#me83bfb4d38\" x=\"139.454654\" y=\"85.767408\" style=\"fill: #1f77b4; stroke: #1f77b4\"/>\n",
       "     <use xlink:href=\"#me83bfb4d38\" x=\"143.83943\" y=\"88.481868\" style=\"fill: #1f77b4; stroke: #1f77b4\"/>\n",
       "     <use xlink:href=\"#me83bfb4d38\" x=\"142.694582\" y=\"69.342157\" style=\"fill: #1f77b4; stroke: #1f77b4\"/>\n",
       "     <use xlink:href=\"#me83bfb4d38\" x=\"105.197879\" y=\"55.874678\" style=\"fill: #1f77b4; stroke: #1f77b4\"/>\n",
       "     <use xlink:href=\"#me83bfb4d38\" x=\"147.403281\" y=\"93.741319\" style=\"fill: #1f77b4; stroke: #1f77b4\"/>\n",
       "     <use xlink:href=\"#me83bfb4d38\" x=\"150.526739\" y=\"85.403036\" style=\"fill: #1f77b4; stroke: #1f77b4\"/>\n",
       "     <use xlink:href=\"#me83bfb4d38\" x=\"114.140645\" y=\"66.465128\" style=\"fill: #1f77b4; stroke: #1f77b4\"/>\n",
       "     <use xlink:href=\"#me83bfb4d38\" x=\"153.257467\" y=\"93.506706\" style=\"fill: #1f77b4; stroke: #1f77b4\"/>\n",
       "     <use xlink:href=\"#me83bfb4d38\" x=\"131.896054\" y=\"73.382143\" style=\"fill: #1f77b4; stroke: #1f77b4\"/>\n",
       "     <use xlink:href=\"#me83bfb4d38\" x=\"164.203493\" y=\"102.112526\" style=\"fill: #1f77b4; stroke: #1f77b4\"/>\n",
       "     <use xlink:href=\"#me83bfb4d38\" x=\"104.393197\" y=\"41.051169\" style=\"fill: #1f77b4; stroke: #1f77b4\"/>\n",
       "     <use xlink:href=\"#me83bfb4d38\" x=\"88.172713\" y=\"58.202456\" style=\"fill: #1f77b4; stroke: #1f77b4\"/>\n",
       "     <use xlink:href=\"#me83bfb4d38\" x=\"129.585296\" y=\"73.592325\" style=\"fill: #1f77b4; stroke: #1f77b4\"/>\n",
       "     <use xlink:href=\"#me83bfb4d38\" x=\"81.147196\" y=\"35.468593\" style=\"fill: #1f77b4; stroke: #1f77b4\"/>\n",
       "     <use xlink:href=\"#me83bfb4d38\" x=\"118.875258\" y=\"70.559103\" style=\"fill: #1f77b4; stroke: #1f77b4\"/>\n",
       "     <use xlink:href=\"#me83bfb4d38\" x=\"139.21966\" y=\"73.194819\" style=\"fill: #1f77b4; stroke: #1f77b4\"/>\n",
       "     <use xlink:href=\"#me83bfb4d38\" x=\"126.207688\" y=\"92.697081\" style=\"fill: #1f77b4; stroke: #1f77b4\"/>\n",
       "     <use xlink:href=\"#me83bfb4d38\" x=\"131.739496\" y=\"89.859527\" style=\"fill: #1f77b4; stroke: #1f77b4\"/>\n",
       "     <use xlink:href=\"#me83bfb4d38\" x=\"130.349858\" y=\"77.851887\" style=\"fill: #1f77b4; stroke: #1f77b4\"/>\n",
       "     <use xlink:href=\"#me83bfb4d38\" x=\"112.550168\" y=\"63.970168\" style=\"fill: #1f77b4; stroke: #1f77b4\"/>\n",
       "     <use xlink:href=\"#me83bfb4d38\" x=\"93.254891\" y=\"56.858205\" style=\"fill: #1f77b4; stroke: #1f77b4\"/>\n",
       "     <use xlink:href=\"#me83bfb4d38\" x=\"96.63902\" y=\"59.755422\" style=\"fill: #1f77b4; stroke: #1f77b4\"/>\n",
       "     <use xlink:href=\"#me83bfb4d38\" x=\"146.989134\" y=\"82.071381\" style=\"fill: #1f77b4; stroke: #1f77b4\"/>\n",
       "     <use xlink:href=\"#me83bfb4d38\" x=\"115.577069\" y=\"77.209217\" style=\"fill: #1f77b4; stroke: #1f77b4\"/>\n",
       "     <use xlink:href=\"#me83bfb4d38\" x=\"110.755065\" y=\"63.108024\" style=\"fill: #1f77b4; stroke: #1f77b4\"/>\n",
       "     <use xlink:href=\"#me83bfb4d38\" x=\"177.949053\" y=\"106.191035\" style=\"fill: #1f77b4; stroke: #1f77b4\"/>\n",
       "     <use xlink:href=\"#me83bfb4d38\" x=\"122.881089\" y=\"77.256736\" style=\"fill: #1f77b4; stroke: #1f77b4\"/>\n",
       "     <use xlink:href=\"#me83bfb4d38\" x=\"79.386475\" y=\"33.564217\" style=\"fill: #1f77b4; stroke: #1f77b4\"/>\n",
       "     <use xlink:href=\"#me83bfb4d38\" x=\"140.773883\" y=\"82.303742\" style=\"fill: #1f77b4; stroke: #1f77b4\"/>\n",
       "     <use xlink:href=\"#me83bfb4d38\" x=\"135.077095\" y=\"69.747556\" style=\"fill: #1f77b4; stroke: #1f77b4\"/>\n",
       "     <use xlink:href=\"#me83bfb4d38\" x=\"149.667404\" y=\"110.126496\" style=\"fill: #1f77b4; stroke: #1f77b4\"/>\n",
       "     <use xlink:href=\"#me83bfb4d38\" x=\"145.552472\" y=\"84.490356\" style=\"fill: #1f77b4; stroke: #1f77b4\"/>\n",
       "     <use xlink:href=\"#me83bfb4d38\" x=\"127.864581\" y=\"87.167279\" style=\"fill: #1f77b4; stroke: #1f77b4\"/>\n",
       "     <use xlink:href=\"#me83bfb4d38\" x=\"103.491035\" y=\"62.608332\" style=\"fill: #1f77b4; stroke: #1f77b4\"/>\n",
       "     <use xlink:href=\"#me83bfb4d38\" x=\"125.284213\" y=\"84.026077\" style=\"fill: #1f77b4; stroke: #1f77b4\"/>\n",
       "     <use xlink:href=\"#me83bfb4d38\" x=\"115.001914\" y=\"66.21159\" style=\"fill: #1f77b4; stroke: #1f77b4\"/>\n",
       "     <use xlink:href=\"#me83bfb4d38\" x=\"126.342531\" y=\"63.043201\" style=\"fill: #1f77b4; stroke: #1f77b4\"/>\n",
       "     <use xlink:href=\"#me83bfb4d38\" x=\"116.05319\" y=\"70.042739\" style=\"fill: #1f77b4; stroke: #1f77b4\"/>\n",
       "     <use xlink:href=\"#me83bfb4d38\" x=\"135.064137\" y=\"73.621149\" style=\"fill: #1f77b4; stroke: #1f77b4\"/>\n",
       "     <use xlink:href=\"#me83bfb4d38\" x=\"137.771795\" y=\"86.081602\" style=\"fill: #1f77b4; stroke: #1f77b4\"/>\n",
       "     <use xlink:href=\"#me83bfb4d38\" x=\"134.440433\" y=\"73.386456\" style=\"fill: #1f77b4; stroke: #1f77b4\"/>\n",
       "     <use xlink:href=\"#me83bfb4d38\" x=\"135.746779\" y=\"75.530793\" style=\"fill: #1f77b4; stroke: #1f77b4\"/>\n",
       "     <use xlink:href=\"#me83bfb4d38\" x=\"123.621659\" y=\"72.996487\" style=\"fill: #1f77b4; stroke: #1f77b4\"/>\n",
       "     <use xlink:href=\"#me83bfb4d38\" x=\"105.472626\" y=\"63.749992\" style=\"fill: #1f77b4; stroke: #1f77b4\"/>\n",
       "     <use xlink:href=\"#me83bfb4d38\" x=\"100.985948\" y=\"58.040735\" style=\"fill: #1f77b4; stroke: #1f77b4\"/>\n",
       "     <use xlink:href=\"#me83bfb4d38\" x=\"134.155932\" y=\"78.867493\" style=\"fill: #1f77b4; stroke: #1f77b4\"/>\n",
       "     <use xlink:href=\"#me83bfb4d38\" x=\"130.374318\" y=\"79.391838\" style=\"fill: #1f77b4; stroke: #1f77b4\"/>\n",
       "     <use xlink:href=\"#me83bfb4d38\" x=\"137.158949\" y=\"78.38458\" style=\"fill: #1f77b4; stroke: #1f77b4\"/>\n",
       "     <use xlink:href=\"#me83bfb4d38\" x=\"116.563083\" y=\"70.307904\" style=\"fill: #1f77b4; stroke: #1f77b4\"/>\n",
       "     <use xlink:href=\"#me83bfb4d38\" x=\"110.884403\" y=\"71.738873\" style=\"fill: #1f77b4; stroke: #1f77b4\"/>\n",
       "     <use xlink:href=\"#me83bfb4d38\" x=\"160.669256\" y=\"95.823887\" style=\"fill: #1f77b4; stroke: #1f77b4\"/>\n",
       "     <use xlink:href=\"#me83bfb4d38\" x=\"118.291627\" y=\"67.178526\" style=\"fill: #1f77b4; stroke: #1f77b4\"/>\n",
       "     <use xlink:href=\"#me83bfb4d38\" x=\"140.266395\" y=\"93.294659\" style=\"fill: #1f77b4; stroke: #1f77b4\"/>\n",
       "     <use xlink:href=\"#me83bfb4d38\" x=\"132.750405\" y=\"85.253868\" style=\"fill: #1f77b4; stroke: #1f77b4\"/>\n",
       "     <use xlink:href=\"#me83bfb4d38\" x=\"149.416316\" y=\"99.764243\" style=\"fill: #1f77b4; stroke: #1f77b4\"/>\n",
       "     <use xlink:href=\"#me83bfb4d38\" x=\"147.739591\" y=\"85.064762\" style=\"fill: #1f77b4; stroke: #1f77b4\"/>\n",
       "     <use xlink:href=\"#me83bfb4d38\" x=\"121.146207\" y=\"73.500241\" style=\"fill: #1f77b4; stroke: #1f77b4\"/>\n",
       "     <use xlink:href=\"#me83bfb4d38\" x=\"85.900737\" y=\"56.46457\" style=\"fill: #1f77b4; stroke: #1f77b4\"/>\n",
       "     <use xlink:href=\"#me83bfb4d38\" x=\"127.378608\" y=\"92.688845\" style=\"fill: #1f77b4; stroke: #1f77b4\"/>\n",
       "     <use xlink:href=\"#me83bfb4d38\" x=\"102.629732\" y=\"63.632295\" style=\"fill: #1f77b4; stroke: #1f77b4\"/>\n",
       "     <use xlink:href=\"#me83bfb4d38\" x=\"111.855158\" y=\"61.97105\" style=\"fill: #1f77b4; stroke: #1f77b4\"/>\n",
       "     <use xlink:href=\"#me83bfb4d38\" x=\"95.631304\" y=\"52.671097\" style=\"fill: #1f77b4; stroke: #1f77b4\"/>\n",
       "     <use xlink:href=\"#me83bfb4d38\" x=\"135.601931\" y=\"92.916695\" style=\"fill: #1f77b4; stroke: #1f77b4\"/>\n",
       "     <use xlink:href=\"#me83bfb4d38\" x=\"96.863182\" y=\"45.367564\" style=\"fill: #1f77b4; stroke: #1f77b4\"/>\n",
       "     <use xlink:href=\"#me83bfb4d38\" x=\"101.992403\" y=\"62.133057\" style=\"fill: #1f77b4; stroke: #1f77b4\"/>\n",
       "     <use xlink:href=\"#me83bfb4d38\" x=\"117.630824\" y=\"54.248119\" style=\"fill: #1f77b4; stroke: #1f77b4\"/>\n",
       "     <use xlink:href=\"#me83bfb4d38\" x=\"141.945317\" y=\"92.67261\" style=\"fill: #1f77b4; stroke: #1f77b4\"/>\n",
       "     <use xlink:href=\"#me83bfb4d38\" x=\"94.191279\" y=\"51.658354\" style=\"fill: #1f77b4; stroke: #1f77b4\"/>\n",
       "     <use xlink:href=\"#me83bfb4d38\" x=\"149.397224\" y=\"118.853617\" style=\"fill: #1f77b4; stroke: #1f77b4\"/>\n",
       "     <use xlink:href=\"#me83bfb4d38\" x=\"116.609644\" y=\"57.676659\" style=\"fill: #1f77b4; stroke: #1f77b4\"/>\n",
       "     <use xlink:href=\"#me83bfb4d38\" x=\"105.782863\" y=\"65.149937\" style=\"fill: #1f77b4; stroke: #1f77b4\"/>\n",
       "     <use xlink:href=\"#me83bfb4d38\" x=\"121.952568\" y=\"68.457177\" style=\"fill: #1f77b4; stroke: #1f77b4\"/>\n",
       "     <use xlink:href=\"#me83bfb4d38\" x=\"90.692248\" y=\"56.455484\" style=\"fill: #1f77b4; stroke: #1f77b4\"/>\n",
       "     <use xlink:href=\"#me83bfb4d38\" x=\"141.390056\" y=\"100.798744\" style=\"fill: #1f77b4; stroke: #1f77b4\"/>\n",
       "     <use xlink:href=\"#me83bfb4d38\" x=\"141.000396\" y=\"77.051489\" style=\"fill: #1f77b4; stroke: #1f77b4\"/>\n",
       "     <use xlink:href=\"#me83bfb4d38\" x=\"159.889916\" y=\"100.907382\" style=\"fill: #1f77b4; stroke: #1f77b4\"/>\n",
       "     <use xlink:href=\"#me83bfb4d38\" x=\"125.681169\" y=\"67.295674\" style=\"fill: #1f77b4; stroke: #1f77b4\"/>\n",
       "     <use xlink:href=\"#me83bfb4d38\" x=\"120.541658\" y=\"63.815806\" style=\"fill: #1f77b4; stroke: #1f77b4\"/>\n",
       "     <use xlink:href=\"#me83bfb4d38\" x=\"144.976313\" y=\"94.686805\" style=\"fill: #1f77b4; stroke: #1f77b4\"/>\n",
       "     <use xlink:href=\"#me83bfb4d38\" x=\"120.652372\" y=\"66.673817\" style=\"fill: #1f77b4; stroke: #1f77b4\"/>\n",
       "     <use xlink:href=\"#me83bfb4d38\" x=\"130.003124\" y=\"80.687582\" style=\"fill: #1f77b4; stroke: #1f77b4\"/>\n",
       "     <use xlink:href=\"#me83bfb4d38\" x=\"97.871172\" y=\"55.658059\" style=\"fill: #1f77b4; stroke: #1f77b4\"/>\n",
       "     <use xlink:href=\"#me83bfb4d38\" x=\"125.689984\" y=\"84.324779\" style=\"fill: #1f77b4; stroke: #1f77b4\"/>\n",
       "     <use xlink:href=\"#me83bfb4d38\" x=\"143.119548\" y=\"71.036797\" style=\"fill: #1f77b4; stroke: #1f77b4\"/>\n",
       "     <use xlink:href=\"#me83bfb4d38\" x=\"152.224086\" y=\"107.491644\" style=\"fill: #1f77b4; stroke: #1f77b4\"/>\n",
       "     <use xlink:href=\"#me83bfb4d38\" x=\"123.125503\" y=\"85.831348\" style=\"fill: #1f77b4; stroke: #1f77b4\"/>\n",
       "     <use xlink:href=\"#me83bfb4d38\" x=\"100.128872\" y=\"59.396071\" style=\"fill: #1f77b4; stroke: #1f77b4\"/>\n",
       "     <use xlink:href=\"#me83bfb4d38\" x=\"153.626461\" y=\"86.162094\" style=\"fill: #1f77b4; stroke: #1f77b4\"/>\n",
       "     <use xlink:href=\"#me83bfb4d38\" x=\"121.843166\" y=\"64.145963\" style=\"fill: #1f77b4; stroke: #1f77b4\"/>\n",
       "     <use xlink:href=\"#me83bfb4d38\" x=\"119.304902\" y=\"81.571977\" style=\"fill: #1f77b4; stroke: #1f77b4\"/>\n",
       "     <use xlink:href=\"#me83bfb4d38\" x=\"94.32516\" y=\"61.183875\" style=\"fill: #1f77b4; stroke: #1f77b4\"/>\n",
       "     <use xlink:href=\"#me83bfb4d38\" x=\"133.88498\" y=\"81.941131\" style=\"fill: #1f77b4; stroke: #1f77b4\"/>\n",
       "     <use xlink:href=\"#me83bfb4d38\" x=\"95.530398\" y=\"44.647818\" style=\"fill: #1f77b4; stroke: #1f77b4\"/>\n",
       "     <use xlink:href=\"#me83bfb4d38\" x=\"117.327409\" y=\"57.329441\" style=\"fill: #1f77b4; stroke: #1f77b4\"/>\n",
       "     <use xlink:href=\"#me83bfb4d38\" x=\"109.267773\" y=\"66.543182\" style=\"fill: #1f77b4; stroke: #1f77b4\"/>\n",
       "     <use xlink:href=\"#me83bfb4d38\" x=\"85.851192\" y=\"44.174504\" style=\"fill: #1f77b4; stroke: #1f77b4\"/>\n",
       "     <use xlink:href=\"#me83bfb4d38\" x=\"132.671361\" y=\"85.179607\" style=\"fill: #1f77b4; stroke: #1f77b4\"/>\n",
       "     <use xlink:href=\"#me83bfb4d38\" x=\"124.650044\" y=\"89.967409\" style=\"fill: #1f77b4; stroke: #1f77b4\"/>\n",
       "     <use xlink:href=\"#me83bfb4d38\" x=\"139.608032\" y=\"66.358943\" style=\"fill: #1f77b4; stroke: #1f77b4\"/>\n",
       "     <use xlink:href=\"#me83bfb4d38\" x=\"140.037794\" y=\"98.859695\" style=\"fill: #1f77b4; stroke: #1f77b4\"/>\n",
       "     <use xlink:href=\"#me83bfb4d38\" x=\"161.895806\" y=\"97.400384\" style=\"fill: #1f77b4; stroke: #1f77b4\"/>\n",
       "     <use xlink:href=\"#me83bfb4d38\" x=\"148.814173\" y=\"86.92417\" style=\"fill: #1f77b4; stroke: #1f77b4\"/>\n",
       "     <use xlink:href=\"#me83bfb4d38\" x=\"131.937839\" y=\"70.960949\" style=\"fill: #1f77b4; stroke: #1f77b4\"/>\n",
       "     <use xlink:href=\"#me83bfb4d38\" x=\"114.76631\" y=\"67.270209\" style=\"fill: #1f77b4; stroke: #1f77b4\"/>\n",
       "     <use xlink:href=\"#me83bfb4d38\" x=\"162.627979\" y=\"115.561901\" style=\"fill: #1f77b4; stroke: #1f77b4\"/>\n",
       "     <use xlink:href=\"#me83bfb4d38\" x=\"130.944094\" y=\"60.293166\" style=\"fill: #1f77b4; stroke: #1f77b4\"/>\n",
       "     <use xlink:href=\"#me83bfb4d38\" x=\"131.063457\" y=\"85.021058\" style=\"fill: #1f77b4; stroke: #1f77b4\"/>\n",
       "     <use xlink:href=\"#me83bfb4d38\" x=\"79.069274\" y=\"58.971126\" style=\"fill: #1f77b4; stroke: #1f77b4\"/>\n",
       "     <use xlink:href=\"#me83bfb4d38\" x=\"120.459149\" y=\"73.800742\" style=\"fill: #1f77b4; stroke: #1f77b4\"/>\n",
       "     <use xlink:href=\"#me83bfb4d38\" x=\"119.599001\" y=\"63.975809\" style=\"fill: #1f77b4; stroke: #1f77b4\"/>\n",
       "     <use xlink:href=\"#me83bfb4d38\" x=\"125.527367\" y=\"60.502499\" style=\"fill: #1f77b4; stroke: #1f77b4\"/>\n",
       "     <use xlink:href=\"#me83bfb4d38\" x=\"147.200523\" y=\"98.088611\" style=\"fill: #1f77b4; stroke: #1f77b4\"/>\n",
       "     <use xlink:href=\"#me83bfb4d38\" x=\"145.355631\" y=\"94.025023\" style=\"fill: #1f77b4; stroke: #1f77b4\"/>\n",
       "     <use xlink:href=\"#me83bfb4d38\" x=\"132.477721\" y=\"94.29067\" style=\"fill: #1f77b4; stroke: #1f77b4\"/>\n",
       "     <use xlink:href=\"#me83bfb4d38\" x=\"135.990518\" y=\"89.606188\" style=\"fill: #1f77b4; stroke: #1f77b4\"/>\n",
       "     <use xlink:href=\"#me83bfb4d38\" x=\"131.385562\" y=\"78.370855\" style=\"fill: #1f77b4; stroke: #1f77b4\"/>\n",
       "     <use xlink:href=\"#me83bfb4d38\" x=\"118.879926\" y=\"72.198443\" style=\"fill: #1f77b4; stroke: #1f77b4\"/>\n",
       "     <use xlink:href=\"#me83bfb4d38\" x=\"135.60518\" y=\"71.341674\" style=\"fill: #1f77b4; stroke: #1f77b4\"/>\n",
       "     <use xlink:href=\"#me83bfb4d38\" x=\"166.945979\" y=\"110.872802\" style=\"fill: #1f77b4; stroke: #1f77b4\"/>\n",
       "     <use xlink:href=\"#me83bfb4d38\" x=\"108.245887\" y=\"83.113771\" style=\"fill: #1f77b4; stroke: #1f77b4\"/>\n",
       "     <use xlink:href=\"#me83bfb4d38\" x=\"164.545432\" y=\"99.125838\" style=\"fill: #1f77b4; stroke: #1f77b4\"/>\n",
       "     <use xlink:href=\"#me83bfb4d38\" x=\"98.144316\" y=\"58.776896\" style=\"fill: #1f77b4; stroke: #1f77b4\"/>\n",
       "     <use xlink:href=\"#me83bfb4d38\" x=\"137.932776\" y=\"85.496191\" style=\"fill: #1f77b4; stroke: #1f77b4\"/>\n",
       "     <use xlink:href=\"#me83bfb4d38\" x=\"119.449665\" y=\"69.912294\" style=\"fill: #1f77b4; stroke: #1f77b4\"/>\n",
       "     <use xlink:href=\"#me83bfb4d38\" x=\"125.744897\" y=\"78.903505\" style=\"fill: #1f77b4; stroke: #1f77b4\"/>\n",
       "     <use xlink:href=\"#me83bfb4d38\" x=\"190.332598\" y=\"131.232809\" style=\"fill: #1f77b4; stroke: #1f77b4\"/>\n",
       "     <use xlink:href=\"#me83bfb4d38\" x=\"123.270433\" y=\"76.999849\" style=\"fill: #1f77b4; stroke: #1f77b4\"/>\n",
       "     <use xlink:href=\"#me83bfb4d38\" x=\"113.363099\" y=\"67.028986\" style=\"fill: #1f77b4; stroke: #1f77b4\"/>\n",
       "     <use xlink:href=\"#me83bfb4d38\" x=\"125.288747\" y=\"78.760504\" style=\"fill: #1f77b4; stroke: #1f77b4\"/>\n",
       "     <use xlink:href=\"#me83bfb4d38\" x=\"127.562637\" y=\"77.893431\" style=\"fill: #1f77b4; stroke: #1f77b4\"/>\n",
       "     <use xlink:href=\"#me83bfb4d38\" x=\"163.241164\" y=\"108.325959\" style=\"fill: #1f77b4; stroke: #1f77b4\"/>\n",
       "     <use xlink:href=\"#me83bfb4d38\" x=\"82.775298\" y=\"53.948744\" style=\"fill: #1f77b4; stroke: #1f77b4\"/>\n",
       "     <use xlink:href=\"#me83bfb4d38\" x=\"106.09657\" y=\"47.050247\" style=\"fill: #1f77b4; stroke: #1f77b4\"/>\n",
       "     <use xlink:href=\"#me83bfb4d38\" x=\"122.19355\" y=\"66.78776\" style=\"fill: #1f77b4; stroke: #1f77b4\"/>\n",
       "     <use xlink:href=\"#me83bfb4d38\" x=\"124.778834\" y=\"68.264856\" style=\"fill: #1f77b4; stroke: #1f77b4\"/>\n",
       "     <use xlink:href=\"#me83bfb4d38\" x=\"87.88377\" y=\"52.140746\" style=\"fill: #1f77b4; stroke: #1f77b4\"/>\n",
       "     <use xlink:href=\"#me83bfb4d38\" x=\"100.743729\" y=\"59.22022\" style=\"fill: #1f77b4; stroke: #1f77b4\"/>\n",
       "     <use xlink:href=\"#me83bfb4d38\" x=\"116.768344\" y=\"70.098447\" style=\"fill: #1f77b4; stroke: #1f77b4\"/>\n",
       "     <use xlink:href=\"#me83bfb4d38\" x=\"126.83788\" y=\"85.445163\" style=\"fill: #1f77b4; stroke: #1f77b4\"/>\n",
       "     <use xlink:href=\"#me83bfb4d38\" x=\"133.526392\" y=\"71.92796\" style=\"fill: #1f77b4; stroke: #1f77b4\"/>\n",
       "     <use xlink:href=\"#me83bfb4d38\" x=\"104.114415\" y=\"51.235014\" style=\"fill: #1f77b4; stroke: #1f77b4\"/>\n",
       "     <use xlink:href=\"#me83bfb4d38\" x=\"141.303261\" y=\"89.235105\" style=\"fill: #1f77b4; stroke: #1f77b4\"/>\n",
       "     <use xlink:href=\"#me83bfb4d38\" x=\"111.395019\" y=\"76.42525\" style=\"fill: #1f77b4; stroke: #1f77b4\"/>\n",
       "     <use xlink:href=\"#me83bfb4d38\" x=\"152.988332\" y=\"94.898547\" style=\"fill: #1f77b4; stroke: #1f77b4\"/>\n",
       "     <use xlink:href=\"#me83bfb4d38\" x=\"68.645441\" y=\"22.619394\" style=\"fill: #1f77b4; stroke: #1f77b4\"/>\n",
       "     <use xlink:href=\"#me83bfb4d38\" x=\"120.429719\" y=\"76.518077\" style=\"fill: #1f77b4; stroke: #1f77b4\"/>\n",
       "     <use xlink:href=\"#me83bfb4d38\" x=\"140.184452\" y=\"88.586242\" style=\"fill: #1f77b4; stroke: #1f77b4\"/>\n",
       "     <use xlink:href=\"#me83bfb4d38\" x=\"121.603573\" y=\"80.980346\" style=\"fill: #1f77b4; stroke: #1f77b4\"/>\n",
       "     <use xlink:href=\"#me83bfb4d38\" x=\"93.673278\" y=\"58.110623\" style=\"fill: #1f77b4; stroke: #1f77b4\"/>\n",
       "     <use xlink:href=\"#me83bfb4d38\" x=\"95.883615\" y=\"59.025351\" style=\"fill: #1f77b4; stroke: #1f77b4\"/>\n",
       "     <use xlink:href=\"#me83bfb4d38\" x=\"99.420098\" y=\"52.037138\" style=\"fill: #1f77b4; stroke: #1f77b4\"/>\n",
       "     <use xlink:href=\"#me83bfb4d38\" x=\"83.938948\" y=\"51.513972\" style=\"fill: #1f77b4; stroke: #1f77b4\"/>\n",
       "     <use xlink:href=\"#me83bfb4d38\" x=\"85.101838\" y=\"52.419042\" style=\"fill: #1f77b4; stroke: #1f77b4\"/>\n",
       "     <use xlink:href=\"#me83bfb4d38\" x=\"130.096326\" y=\"69.548942\" style=\"fill: #1f77b4; stroke: #1f77b4\"/>\n",
       "     <use xlink:href=\"#me83bfb4d38\" x=\"142.940202\" y=\"86.125118\" style=\"fill: #1f77b4; stroke: #1f77b4\"/>\n",
       "     <use xlink:href=\"#me83bfb4d38\" x=\"120.763044\" y=\"65.890192\" style=\"fill: #1f77b4; stroke: #1f77b4\"/>\n",
       "     <use xlink:href=\"#me83bfb4d38\" x=\"131.681914\" y=\"79.109651\" style=\"fill: #1f77b4; stroke: #1f77b4\"/>\n",
       "     <use xlink:href=\"#me83bfb4d38\" x=\"103.863988\" y=\"61.733906\" style=\"fill: #1f77b4; stroke: #1f77b4\"/>\n",
       "     <use xlink:href=\"#me83bfb4d38\" x=\"105.078999\" y=\"51.308098\" style=\"fill: #1f77b4; stroke: #1f77b4\"/>\n",
       "     <use xlink:href=\"#me83bfb4d38\" x=\"110.588077\" y=\"72.512065\" style=\"fill: #1f77b4; stroke: #1f77b4\"/>\n",
       "     <use xlink:href=\"#me83bfb4d38\" x=\"90.719119\" y=\"49.507552\" style=\"fill: #1f77b4; stroke: #1f77b4\"/>\n",
       "     <use xlink:href=\"#me83bfb4d38\" x=\"123.690968\" y=\"80.121969\" style=\"fill: #1f77b4; stroke: #1f77b4\"/>\n",
       "     <use xlink:href=\"#me83bfb4d38\" x=\"146.258176\" y=\"80.055334\" style=\"fill: #1f77b4; stroke: #1f77b4\"/>\n",
       "     <use xlink:href=\"#me83bfb4d38\" x=\"100.426538\" y=\"71.641989\" style=\"fill: #1f77b4; stroke: #1f77b4\"/>\n",
       "     <use xlink:href=\"#me83bfb4d38\" x=\"110.224327\" y=\"67.769234\" style=\"fill: #1f77b4; stroke: #1f77b4\"/>\n",
       "     <use xlink:href=\"#me83bfb4d38\" x=\"188.527018\" y=\"114.510957\" style=\"fill: #1f77b4; stroke: #1f77b4\"/>\n",
       "     <use xlink:href=\"#me83bfb4d38\" x=\"101.720201\" y=\"58.484164\" style=\"fill: #1f77b4; stroke: #1f77b4\"/>\n",
       "     <use xlink:href=\"#me83bfb4d38\" x=\"132.449177\" y=\"81.221601\" style=\"fill: #1f77b4; stroke: #1f77b4\"/>\n",
       "     <use xlink:href=\"#me83bfb4d38\" x=\"138.004752\" y=\"82.141165\" style=\"fill: #1f77b4; stroke: #1f77b4\"/>\n",
       "     <use xlink:href=\"#me83bfb4d38\" x=\"155.483415\" y=\"91.856455\" style=\"fill: #1f77b4; stroke: #1f77b4\"/>\n",
       "     <use xlink:href=\"#me83bfb4d38\" x=\"144.838546\" y=\"87.281417\" style=\"fill: #1f77b4; stroke: #1f77b4\"/>\n",
       "     <use xlink:href=\"#me83bfb4d38\" x=\"136.199711\" y=\"92.664802\" style=\"fill: #1f77b4; stroke: #1f77b4\"/>\n",
       "     <use xlink:href=\"#me83bfb4d38\" x=\"127.407335\" y=\"79.933959\" style=\"fill: #1f77b4; stroke: #1f77b4\"/>\n",
       "     <use xlink:href=\"#me83bfb4d38\" x=\"85.789368\" y=\"50.33557\" style=\"fill: #1f77b4; stroke: #1f77b4\"/>\n",
       "     <use xlink:href=\"#me83bfb4d38\" x=\"107.894029\" y=\"49.805983\" style=\"fill: #1f77b4; stroke: #1f77b4\"/>\n",
       "     <use xlink:href=\"#me83bfb4d38\" x=\"106.907459\" y=\"73.037845\" style=\"fill: #1f77b4; stroke: #1f77b4\"/>\n",
       "     <use xlink:href=\"#me83bfb4d38\" x=\"93.551276\" y=\"52.665844\" style=\"fill: #1f77b4; stroke: #1f77b4\"/>\n",
       "     <use xlink:href=\"#me83bfb4d38\" x=\"78.808606\" y=\"45.655145\" style=\"fill: #1f77b4; stroke: #1f77b4\"/>\n",
       "     <use xlink:href=\"#me83bfb4d38\" x=\"108.653925\" y=\"65.217211\" style=\"fill: #1f77b4; stroke: #1f77b4\"/>\n",
       "     <use xlink:href=\"#me83bfb4d38\" x=\"123.607399\" y=\"73.194616\" style=\"fill: #1f77b4; stroke: #1f77b4\"/>\n",
       "     <use xlink:href=\"#me83bfb4d38\" x=\"107.544312\" y=\"67.920637\" style=\"fill: #1f77b4; stroke: #1f77b4\"/>\n",
       "     <use xlink:href=\"#me83bfb4d38\" x=\"127.198365\" y=\"80.562692\" style=\"fill: #1f77b4; stroke: #1f77b4\"/>\n",
       "     <use xlink:href=\"#me83bfb4d38\" x=\"108.728179\" y=\"74.979325\" style=\"fill: #1f77b4; stroke: #1f77b4\"/>\n",
       "     <use xlink:href=\"#me83bfb4d38\" x=\"44.18196\" y=\"46.956075\" style=\"fill: #1f77b4; stroke: #1f77b4\"/>\n",
       "     <use xlink:href=\"#me83bfb4d38\" x=\"136.752346\" y=\"74.935416\" style=\"fill: #1f77b4; stroke: #1f77b4\"/>\n",
       "     <use xlink:href=\"#me83bfb4d38\" x=\"104.734134\" y=\"56.888856\" style=\"fill: #1f77b4; stroke: #1f77b4\"/>\n",
       "     <use xlink:href=\"#me83bfb4d38\" x=\"129.697442\" y=\"63.8708\" style=\"fill: #1f77b4; stroke: #1f77b4\"/>\n",
       "     <use xlink:href=\"#me83bfb4d38\" x=\"115.026122\" y=\"57.990629\" style=\"fill: #1f77b4; stroke: #1f77b4\"/>\n",
       "     <use xlink:href=\"#me83bfb4d38\" x=\"158.108658\" y=\"95.710328\" style=\"fill: #1f77b4; stroke: #1f77b4\"/>\n",
       "     <use xlink:href=\"#me83bfb4d38\" x=\"112.981544\" y=\"67.599307\" style=\"fill: #1f77b4; stroke: #1f77b4\"/>\n",
       "     <use xlink:href=\"#me83bfb4d38\" x=\"113.556184\" y=\"69.261893\" style=\"fill: #1f77b4; stroke: #1f77b4\"/>\n",
       "     <use xlink:href=\"#me83bfb4d38\" x=\"102.263233\" y=\"48.448999\" style=\"fill: #1f77b4; stroke: #1f77b4\"/>\n",
       "     <use xlink:href=\"#me83bfb4d38\" x=\"93.640808\" y=\"36.041095\" style=\"fill: #1f77b4; stroke: #1f77b4\"/>\n",
       "     <use xlink:href=\"#me83bfb4d38\" x=\"135.697684\" y=\"84.264775\" style=\"fill: #1f77b4; stroke: #1f77b4\"/>\n",
       "     <use xlink:href=\"#me83bfb4d38\" x=\"94.907132\" y=\"61.538839\" style=\"fill: #1f77b4; stroke: #1f77b4\"/>\n",
       "     <use xlink:href=\"#me83bfb4d38\" x=\"89.016683\" y=\"44.476857\" style=\"fill: #1f77b4; stroke: #1f77b4\"/>\n",
       "     <use xlink:href=\"#me83bfb4d38\" x=\"141.38988\" y=\"79.864826\" style=\"fill: #1f77b4; stroke: #1f77b4\"/>\n",
       "     <use xlink:href=\"#me83bfb4d38\" x=\"63.627392\" y=\"19.126515\" style=\"fill: #1f77b4; stroke: #1f77b4\"/>\n",
       "     <use xlink:href=\"#me83bfb4d38\" x=\"182.826312\" y=\"112.908793\" style=\"fill: #1f77b4; stroke: #1f77b4\"/>\n",
       "     <use xlink:href=\"#me83bfb4d38\" x=\"131.724278\" y=\"71.166659\" style=\"fill: #1f77b4; stroke: #1f77b4\"/>\n",
       "     <use xlink:href=\"#me83bfb4d38\" x=\"82.367753\" y=\"44.728044\" style=\"fill: #1f77b4; stroke: #1f77b4\"/>\n",
       "     <use xlink:href=\"#me83bfb4d38\" x=\"145.528325\" y=\"94.155374\" style=\"fill: #1f77b4; stroke: #1f77b4\"/>\n",
       "     <use xlink:href=\"#me83bfb4d38\" x=\"102.21788\" y=\"68.628961\" style=\"fill: #1f77b4; stroke: #1f77b4\"/>\n",
       "     <use xlink:href=\"#me83bfb4d38\" x=\"117.245738\" y=\"75.739726\" style=\"fill: #1f77b4; stroke: #1f77b4\"/>\n",
       "     <use xlink:href=\"#me83bfb4d38\" x=\"102.60913\" y=\"57.948097\" style=\"fill: #1f77b4; stroke: #1f77b4\"/>\n",
       "     <use xlink:href=\"#me83bfb4d38\" x=\"133.972387\" y=\"68.472972\" style=\"fill: #1f77b4; stroke: #1f77b4\"/>\n",
       "     <use xlink:href=\"#me83bfb4d38\" x=\"121.403129\" y=\"62.301302\" style=\"fill: #1f77b4; stroke: #1f77b4\"/>\n",
       "     <use xlink:href=\"#me83bfb4d38\" x=\"123.537264\" y=\"70.594849\" style=\"fill: #1f77b4; stroke: #1f77b4\"/>\n",
       "     <use xlink:href=\"#me83bfb4d38\" x=\"147.171868\" y=\"80.012707\" style=\"fill: #1f77b4; stroke: #1f77b4\"/>\n",
       "     <use xlink:href=\"#me83bfb4d38\" x=\"111.279101\" y=\"72.281541\" style=\"fill: #1f77b4; stroke: #1f77b4\"/>\n",
       "     <use xlink:href=\"#me83bfb4d38\" x=\"103.465066\" y=\"58.356172\" style=\"fill: #1f77b4; stroke: #1f77b4\"/>\n",
       "     <use xlink:href=\"#me83bfb4d38\" x=\"93.784636\" y=\"59.843045\" style=\"fill: #1f77b4; stroke: #1f77b4\"/>\n",
       "     <use xlink:href=\"#me83bfb4d38\" x=\"100.142375\" y=\"36.738714\" style=\"fill: #1f77b4; stroke: #1f77b4\"/>\n",
       "     <use xlink:href=\"#me83bfb4d38\" x=\"131.801549\" y=\"82.638815\" style=\"fill: #1f77b4; stroke: #1f77b4\"/>\n",
       "     <use xlink:href=\"#me83bfb4d38\" x=\"166.641598\" y=\"108.752684\" style=\"fill: #1f77b4; stroke: #1f77b4\"/>\n",
       "     <use xlink:href=\"#me83bfb4d38\" x=\"92.773956\" y=\"79.808007\" style=\"fill: #1f77b4; stroke: #1f77b4\"/>\n",
       "     <use xlink:href=\"#me83bfb4d38\" x=\"129.547312\" y=\"63.058678\" style=\"fill: #1f77b4; stroke: #1f77b4\"/>\n",
       "     <use xlink:href=\"#me83bfb4d38\" x=\"109.707866\" y=\"64.53863\" style=\"fill: #1f77b4; stroke: #1f77b4\"/>\n",
       "     <use xlink:href=\"#me83bfb4d38\" x=\"110.069618\" y=\"78.580695\" style=\"fill: #1f77b4; stroke: #1f77b4\"/>\n",
       "     <use xlink:href=\"#me83bfb4d38\" x=\"112.097946\" y=\"66.539584\" style=\"fill: #1f77b4; stroke: #1f77b4\"/>\n",
       "     <use xlink:href=\"#me83bfb4d38\" x=\"149.179451\" y=\"78.599756\" style=\"fill: #1f77b4; stroke: #1f77b4\"/>\n",
       "     <use xlink:href=\"#me83bfb4d38\" x=\"52.583524\" y=\"30.478832\" style=\"fill: #1f77b4; stroke: #1f77b4\"/>\n",
       "     <use xlink:href=\"#me83bfb4d38\" x=\"125.333984\" y=\"72.402635\" style=\"fill: #1f77b4; stroke: #1f77b4\"/>\n",
       "     <use xlink:href=\"#me83bfb4d38\" x=\"149.113581\" y=\"89.56787\" style=\"fill: #1f77b4; stroke: #1f77b4\"/>\n",
       "     <use xlink:href=\"#me83bfb4d38\" x=\"147.001352\" y=\"91.372253\" style=\"fill: #1f77b4; stroke: #1f77b4\"/>\n",
       "     <use xlink:href=\"#me83bfb4d38\" x=\"128.163759\" y=\"81.560196\" style=\"fill: #1f77b4; stroke: #1f77b4\"/>\n",
       "     <use xlink:href=\"#me83bfb4d38\" x=\"89.623959\" y=\"58.911115\" style=\"fill: #1f77b4; stroke: #1f77b4\"/>\n",
       "     <use xlink:href=\"#me83bfb4d38\" x=\"117.111804\" y=\"53.976218\" style=\"fill: #1f77b4; stroke: #1f77b4\"/>\n",
       "     <use xlink:href=\"#me83bfb4d38\" x=\"107.628303\" y=\"69.416965\" style=\"fill: #1f77b4; stroke: #1f77b4\"/>\n",
       "     <use xlink:href=\"#me83bfb4d38\" x=\"185.191374\" y=\"131.849029\" style=\"fill: #1f77b4; stroke: #1f77b4\"/>\n",
       "     <use xlink:href=\"#me83bfb4d38\" x=\"155.062467\" y=\"95.861977\" style=\"fill: #1f77b4; stroke: #1f77b4\"/>\n",
       "     <use xlink:href=\"#me83bfb4d38\" x=\"104.451093\" y=\"31.337242\" style=\"fill: #1f77b4; stroke: #1f77b4\"/>\n",
       "     <use xlink:href=\"#me83bfb4d38\" x=\"135.862621\" y=\"81.177129\" style=\"fill: #1f77b4; stroke: #1f77b4\"/>\n",
       "     <use xlink:href=\"#me83bfb4d38\" x=\"160.3148\" y=\"96.98036\" style=\"fill: #1f77b4; stroke: #1f77b4\"/>\n",
       "     <use xlink:href=\"#me83bfb4d38\" x=\"140.775178\" y=\"88.321382\" style=\"fill: #1f77b4; stroke: #1f77b4\"/>\n",
       "     <use xlink:href=\"#me83bfb4d38\" x=\"113.959177\" y=\"58.634649\" style=\"fill: #1f77b4; stroke: #1f77b4\"/>\n",
       "     <use xlink:href=\"#me83bfb4d38\" x=\"145.991106\" y=\"86.291477\" style=\"fill: #1f77b4; stroke: #1f77b4\"/>\n",
       "     <use xlink:href=\"#me83bfb4d38\" x=\"94.942036\" y=\"50.672065\" style=\"fill: #1f77b4; stroke: #1f77b4\"/>\n",
       "     <use xlink:href=\"#me83bfb4d38\" x=\"133.811859\" y=\"75.631365\" style=\"fill: #1f77b4; stroke: #1f77b4\"/>\n",
       "     <use xlink:href=\"#me83bfb4d38\" x=\"91.616666\" y=\"44.419347\" style=\"fill: #1f77b4; stroke: #1f77b4\"/>\n",
       "     <use xlink:href=\"#me83bfb4d38\" x=\"108.38065\" y=\"77.064784\" style=\"fill: #1f77b4; stroke: #1f77b4\"/>\n",
       "     <use xlink:href=\"#me83bfb4d38\" x=\"82.895351\" y=\"40.749128\" style=\"fill: #1f77b4; stroke: #1f77b4\"/>\n",
       "     <use xlink:href=\"#me83bfb4d38\" x=\"128.613733\" y=\"79.665299\" style=\"fill: #1f77b4; stroke: #1f77b4\"/>\n",
       "     <use xlink:href=\"#me83bfb4d38\" x=\"112.183802\" y=\"70.90786\" style=\"fill: #1f77b4; stroke: #1f77b4\"/>\n",
       "     <use xlink:href=\"#me83bfb4d38\" x=\"157.82777\" y=\"87.879499\" style=\"fill: #1f77b4; stroke: #1f77b4\"/>\n",
       "     <use xlink:href=\"#me83bfb4d38\" x=\"114.232364\" y=\"59.378116\" style=\"fill: #1f77b4; stroke: #1f77b4\"/>\n",
       "     <use xlink:href=\"#me83bfb4d38\" x=\"92.813648\" y=\"50.884264\" style=\"fill: #1f77b4; stroke: #1f77b4\"/>\n",
       "     <use xlink:href=\"#me83bfb4d38\" x=\"96.234727\" y=\"55.868326\" style=\"fill: #1f77b4; stroke: #1f77b4\"/>\n",
       "     <use xlink:href=\"#me83bfb4d38\" x=\"153.316851\" y=\"80.173612\" style=\"fill: #1f77b4; stroke: #1f77b4\"/>\n",
       "     <use xlink:href=\"#me83bfb4d38\" x=\"150.748707\" y=\"79.451653\" style=\"fill: #1f77b4; stroke: #1f77b4\"/>\n",
       "     <use xlink:href=\"#me83bfb4d38\" x=\"71.972641\" y=\"32.442863\" style=\"fill: #1f77b4; stroke: #1f77b4\"/>\n",
       "     <use xlink:href=\"#me83bfb4d38\" x=\"177.779613\" y=\"102.251598\" style=\"fill: #1f77b4; stroke: #1f77b4\"/>\n",
       "     <use xlink:href=\"#me83bfb4d38\" x=\"119.827606\" y=\"66.904703\" style=\"fill: #1f77b4; stroke: #1f77b4\"/>\n",
       "     <use xlink:href=\"#me83bfb4d38\" x=\"145.09913\" y=\"96.151161\" style=\"fill: #1f77b4; stroke: #1f77b4\"/>\n",
       "     <use xlink:href=\"#me83bfb4d38\" x=\"118.103287\" y=\"91.696026\" style=\"fill: #1f77b4; stroke: #1f77b4\"/>\n",
       "     <use xlink:href=\"#me83bfb4d38\" x=\"93.705295\" y=\"54.076777\" style=\"fill: #1f77b4; stroke: #1f77b4\"/>\n",
       "     <use xlink:href=\"#me83bfb4d38\" x=\"78.74648\" y=\"49.375339\" style=\"fill: #1f77b4; stroke: #1f77b4\"/>\n",
       "     <use xlink:href=\"#me83bfb4d38\" x=\"72.924423\" y=\"24.996359\" style=\"fill: #1f77b4; stroke: #1f77b4\"/>\n",
       "     <use xlink:href=\"#me83bfb4d38\" x=\"172.438102\" y=\"97.359316\" style=\"fill: #1f77b4; stroke: #1f77b4\"/>\n",
       "     <use xlink:href=\"#me83bfb4d38\" x=\"135.206497\" y=\"81.420372\" style=\"fill: #1f77b4; stroke: #1f77b4\"/>\n",
       "     <use xlink:href=\"#me83bfb4d38\" x=\"133.09258\" y=\"70.697858\" style=\"fill: #1f77b4; stroke: #1f77b4\"/>\n",
       "     <use xlink:href=\"#me83bfb4d38\" x=\"119.275689\" y=\"73.965222\" style=\"fill: #1f77b4; stroke: #1f77b4\"/>\n",
       "     <use xlink:href=\"#me83bfb4d38\" x=\"144.726552\" y=\"74.819093\" style=\"fill: #1f77b4; stroke: #1f77b4\"/>\n",
       "     <use xlink:href=\"#me83bfb4d38\" x=\"102.334341\" y=\"62.63349\" style=\"fill: #1f77b4; stroke: #1f77b4\"/>\n",
       "     <use xlink:href=\"#me83bfb4d38\" x=\"128.014164\" y=\"69.618082\" style=\"fill: #1f77b4; stroke: #1f77b4\"/>\n",
       "     <use xlink:href=\"#me83bfb4d38\" x=\"102.74881\" y=\"66.114446\" style=\"fill: #1f77b4; stroke: #1f77b4\"/>\n",
       "     <use xlink:href=\"#me83bfb4d38\" x=\"78.192073\" y=\"47.79429\" style=\"fill: #1f77b4; stroke: #1f77b4\"/>\n",
       "     <use xlink:href=\"#me83bfb4d38\" x=\"119.759384\" y=\"71.717637\" style=\"fill: #1f77b4; stroke: #1f77b4\"/>\n",
       "     <use xlink:href=\"#me83bfb4d38\" x=\"114.147162\" y=\"69.122194\" style=\"fill: #1f77b4; stroke: #1f77b4\"/>\n",
       "     <use xlink:href=\"#me83bfb4d38\" x=\"136.281898\" y=\"87.925405\" style=\"fill: #1f77b4; stroke: #1f77b4\"/>\n",
       "     <use xlink:href=\"#me83bfb4d38\" x=\"140.164106\" y=\"87.196667\" style=\"fill: #1f77b4; stroke: #1f77b4\"/>\n",
       "     <use xlink:href=\"#me83bfb4d38\" x=\"140.897255\" y=\"98.758559\" style=\"fill: #1f77b4; stroke: #1f77b4\"/>\n",
       "     <use xlink:href=\"#me83bfb4d38\" x=\"91.351994\" y=\"48.491111\" style=\"fill: #1f77b4; stroke: #1f77b4\"/>\n",
       "     <use xlink:href=\"#me83bfb4d38\" x=\"119.382784\" y=\"67.33175\" style=\"fill: #1f77b4; stroke: #1f77b4\"/>\n",
       "     <use xlink:href=\"#me83bfb4d38\" x=\"95.85617\" y=\"44.649079\" style=\"fill: #1f77b4; stroke: #1f77b4\"/>\n",
       "     <use xlink:href=\"#me83bfb4d38\" x=\"104.848194\" y=\"70.794939\" style=\"fill: #1f77b4; stroke: #1f77b4\"/>\n",
       "     <use xlink:href=\"#me83bfb4d38\" x=\"78.179155\" y=\"30.304824\" style=\"fill: #1f77b4; stroke: #1f77b4\"/>\n",
       "     <use xlink:href=\"#me83bfb4d38\" x=\"124.418312\" y=\"82.114076\" style=\"fill: #1f77b4; stroke: #1f77b4\"/>\n",
       "     <use xlink:href=\"#me83bfb4d38\" x=\"85.067682\" y=\"36.403779\" style=\"fill: #1f77b4; stroke: #1f77b4\"/>\n",
       "     <use xlink:href=\"#me83bfb4d38\" x=\"145.777095\" y=\"70.008355\" style=\"fill: #1f77b4; stroke: #1f77b4\"/>\n",
       "     <use xlink:href=\"#me83bfb4d38\" x=\"123.401873\" y=\"56.915799\" style=\"fill: #1f77b4; stroke: #1f77b4\"/>\n",
       "     <use xlink:href=\"#me83bfb4d38\" x=\"101.021951\" y=\"62.58948\" style=\"fill: #1f77b4; stroke: #1f77b4\"/>\n",
       "     <use xlink:href=\"#me83bfb4d38\" x=\"108.360102\" y=\"47.359329\" style=\"fill: #1f77b4; stroke: #1f77b4\"/>\n",
       "     <use xlink:href=\"#me83bfb4d38\" x=\"128.923729\" y=\"77.086535\" style=\"fill: #1f77b4; stroke: #1f77b4\"/>\n",
       "     <use xlink:href=\"#me83bfb4d38\" x=\"136.906211\" y=\"86.007964\" style=\"fill: #1f77b4; stroke: #1f77b4\"/>\n",
       "     <use xlink:href=\"#me83bfb4d38\" x=\"106.244146\" y=\"60.373172\" style=\"fill: #1f77b4; stroke: #1f77b4\"/>\n",
       "     <use xlink:href=\"#me83bfb4d38\" x=\"96.884157\" y=\"64.844949\" style=\"fill: #1f77b4; stroke: #1f77b4\"/>\n",
       "     <use xlink:href=\"#me83bfb4d38\" x=\"102.867537\" y=\"49.08656\" style=\"fill: #1f77b4; stroke: #1f77b4\"/>\n",
       "     <use xlink:href=\"#me83bfb4d38\" x=\"98.784664\" y=\"56.141795\" style=\"fill: #1f77b4; stroke: #1f77b4\"/>\n",
       "     <use xlink:href=\"#me83bfb4d38\" x=\"94.472747\" y=\"50.847379\" style=\"fill: #1f77b4; stroke: #1f77b4\"/>\n",
       "     <use xlink:href=\"#me83bfb4d38\" x=\"116.88196\" y=\"53.370446\" style=\"fill: #1f77b4; stroke: #1f77b4\"/>\n",
       "     <use xlink:href=\"#me83bfb4d38\" x=\"138.247552\" y=\"84.944706\" style=\"fill: #1f77b4; stroke: #1f77b4\"/>\n",
       "     <use xlink:href=\"#me83bfb4d38\" x=\"159.684036\" y=\"89.671522\" style=\"fill: #1f77b4; stroke: #1f77b4\"/>\n",
       "     <use xlink:href=\"#me83bfb4d38\" x=\"137.224019\" y=\"62.950667\" style=\"fill: #1f77b4; stroke: #1f77b4\"/>\n",
       "     <use xlink:href=\"#me83bfb4d38\" x=\"133.348086\" y=\"87.754466\" style=\"fill: #1f77b4; stroke: #1f77b4\"/>\n",
       "     <use xlink:href=\"#me83bfb4d38\" x=\"97.638584\" y=\"58.272895\" style=\"fill: #1f77b4; stroke: #1f77b4\"/>\n",
       "     <use xlink:href=\"#me83bfb4d38\" x=\"138.712327\" y=\"100.510687\" style=\"fill: #1f77b4; stroke: #1f77b4\"/>\n",
       "     <use xlink:href=\"#me83bfb4d38\" x=\"126.62182\" y=\"64.143142\" style=\"fill: #1f77b4; stroke: #1f77b4\"/>\n",
       "     <use xlink:href=\"#me83bfb4d38\" x=\"77.651416\" y=\"48.038322\" style=\"fill: #1f77b4; stroke: #1f77b4\"/>\n",
       "     <use xlink:href=\"#me83bfb4d38\" x=\"130.594189\" y=\"69.584666\" style=\"fill: #1f77b4; stroke: #1f77b4\"/>\n",
       "     <use xlink:href=\"#me83bfb4d38\" x=\"129.516129\" y=\"78.269193\" style=\"fill: #1f77b4; stroke: #1f77b4\"/>\n",
       "     <use xlink:href=\"#me83bfb4d38\" x=\"113.57604\" y=\"52.784936\" style=\"fill: #1f77b4; stroke: #1f77b4\"/>\n",
       "     <use xlink:href=\"#me83bfb4d38\" x=\"130.286781\" y=\"74.469603\" style=\"fill: #1f77b4; stroke: #1f77b4\"/>\n",
       "     <use xlink:href=\"#me83bfb4d38\" x=\"83.973134\" y=\"54.898207\" style=\"fill: #1f77b4; stroke: #1f77b4\"/>\n",
       "     <use xlink:href=\"#me83bfb4d38\" x=\"137.398848\" y=\"88.164601\" style=\"fill: #1f77b4; stroke: #1f77b4\"/>\n",
       "     <use xlink:href=\"#me83bfb4d38\" x=\"117.00436\" y=\"60.43116\" style=\"fill: #1f77b4; stroke: #1f77b4\"/>\n",
       "     <use xlink:href=\"#me83bfb4d38\" x=\"82.501503\" y=\"18.262596\" style=\"fill: #1f77b4; stroke: #1f77b4\"/>\n",
       "     <use xlink:href=\"#me83bfb4d38\" x=\"84.576469\" y=\"59.207067\" style=\"fill: #1f77b4; stroke: #1f77b4\"/>\n",
       "     <use xlink:href=\"#me83bfb4d38\" x=\"119.886594\" y=\"99.758685\" style=\"fill: #1f77b4; stroke: #1f77b4\"/>\n",
       "     <use xlink:href=\"#me83bfb4d38\" x=\"193.567242\" y=\"102.983771\" style=\"fill: #1f77b4; stroke: #1f77b4\"/>\n",
       "     <use xlink:href=\"#me83bfb4d38\" x=\"116.646215\" y=\"68.437243\" style=\"fill: #1f77b4; stroke: #1f77b4\"/>\n",
       "     <use xlink:href=\"#me83bfb4d38\" x=\"108.194669\" y=\"64.379684\" style=\"fill: #1f77b4; stroke: #1f77b4\"/>\n",
       "     <use xlink:href=\"#me83bfb4d38\" x=\"162.942331\" y=\"99.545833\" style=\"fill: #1f77b4; stroke: #1f77b4\"/>\n",
       "     <use xlink:href=\"#me83bfb4d38\" x=\"153.641403\" y=\"88.960972\" style=\"fill: #1f77b4; stroke: #1f77b4\"/>\n",
       "     <use xlink:href=\"#me83bfb4d38\" x=\"122.18585\" y=\"73.760105\" style=\"fill: #1f77b4; stroke: #1f77b4\"/>\n",
       "     <use xlink:href=\"#me83bfb4d38\" x=\"129.660898\" y=\"80.28796\" style=\"fill: #1f77b4; stroke: #1f77b4\"/>\n",
       "     <use xlink:href=\"#me83bfb4d38\" x=\"107.641172\" y=\"64.668039\" style=\"fill: #1f77b4; stroke: #1f77b4\"/>\n",
       "     <use xlink:href=\"#me83bfb4d38\" x=\"114.895701\" y=\"59.731557\" style=\"fill: #1f77b4; stroke: #1f77b4\"/>\n",
       "     <use xlink:href=\"#me83bfb4d38\" x=\"118.519108\" y=\"85.015654\" style=\"fill: #1f77b4; stroke: #1f77b4\"/>\n",
       "     <use xlink:href=\"#me83bfb4d38\" x=\"128.879091\" y=\"71.452445\" style=\"fill: #1f77b4; stroke: #1f77b4\"/>\n",
       "     <use xlink:href=\"#me83bfb4d38\" x=\"64.415781\" y=\"28.959107\" style=\"fill: #1f77b4; stroke: #1f77b4\"/>\n",
       "     <use xlink:href=\"#me83bfb4d38\" x=\"146.19917\" y=\"86.577873\" style=\"fill: #1f77b4; stroke: #1f77b4\"/>\n",
       "     <use xlink:href=\"#me83bfb4d38\" x=\"91.798644\" y=\"35.097059\" style=\"fill: #1f77b4; stroke: #1f77b4\"/>\n",
       "     <use xlink:href=\"#me83bfb4d38\" x=\"146.602564\" y=\"81.818855\" style=\"fill: #1f77b4; stroke: #1f77b4\"/>\n",
       "     <use xlink:href=\"#me83bfb4d38\" x=\"90.085073\" y=\"57.299394\" style=\"fill: #1f77b4; stroke: #1f77b4\"/>\n",
       "     <use xlink:href=\"#me83bfb4d38\" x=\"112.926033\" y=\"63.250174\" style=\"fill: #1f77b4; stroke: #1f77b4\"/>\n",
       "     <use xlink:href=\"#me83bfb4d38\" x=\"158.494092\" y=\"101.914866\" style=\"fill: #1f77b4; stroke: #1f77b4\"/>\n",
       "     <use xlink:href=\"#me83bfb4d38\" x=\"103.097719\" y=\"62.295113\" style=\"fill: #1f77b4; stroke: #1f77b4\"/>\n",
       "     <use xlink:href=\"#me83bfb4d38\" x=\"127.420808\" y=\"70.929549\" style=\"fill: #1f77b4; stroke: #1f77b4\"/>\n",
       "     <use xlink:href=\"#me83bfb4d38\" x=\"104.546404\" y=\"70.060656\" style=\"fill: #1f77b4; stroke: #1f77b4\"/>\n",
       "     <use xlink:href=\"#me83bfb4d38\" x=\"162.440281\" y=\"86.725795\" style=\"fill: #1f77b4; stroke: #1f77b4\"/>\n",
       "     <use xlink:href=\"#me83bfb4d38\" x=\"104.554925\" y=\"65.692801\" style=\"fill: #1f77b4; stroke: #1f77b4\"/>\n",
       "     <use xlink:href=\"#me83bfb4d38\" x=\"111.041418\" y=\"61.669264\" style=\"fill: #1f77b4; stroke: #1f77b4\"/>\n",
       "     <use xlink:href=\"#me83bfb4d38\" x=\"56.651656\" y=\"26.402198\" style=\"fill: #1f77b4; stroke: #1f77b4\"/>\n",
       "     <use xlink:href=\"#me83bfb4d38\" x=\"166.067967\" y=\"104.079952\" style=\"fill: #1f77b4; stroke: #1f77b4\"/>\n",
       "     <use xlink:href=\"#me83bfb4d38\" x=\"139.344899\" y=\"98.074075\" style=\"fill: #1f77b4; stroke: #1f77b4\"/>\n",
       "     <use xlink:href=\"#me83bfb4d38\" x=\"101.298191\" y=\"60.962799\" style=\"fill: #1f77b4; stroke: #1f77b4\"/>\n",
       "     <use xlink:href=\"#me83bfb4d38\" x=\"127.684817\" y=\"64.318799\" style=\"fill: #1f77b4; stroke: #1f77b4\"/>\n",
       "     <use xlink:href=\"#me83bfb4d38\" x=\"145.999142\" y=\"82.050686\" style=\"fill: #1f77b4; stroke: #1f77b4\"/>\n",
       "     <use xlink:href=\"#me83bfb4d38\" x=\"91.533295\" y=\"47.618795\" style=\"fill: #1f77b4; stroke: #1f77b4\"/>\n",
       "     <use xlink:href=\"#me83bfb4d38\" x=\"142.00253\" y=\"61.399474\" style=\"fill: #1f77b4; stroke: #1f77b4\"/>\n",
       "     <use xlink:href=\"#me83bfb4d38\" x=\"72.275376\" y=\"29.176338\" style=\"fill: #1f77b4; stroke: #1f77b4\"/>\n",
       "     <use xlink:href=\"#me83bfb4d38\" x=\"112.416464\" y=\"69.637653\" style=\"fill: #1f77b4; stroke: #1f77b4\"/>\n",
       "     <use xlink:href=\"#me83bfb4d38\" x=\"68.846218\" y=\"21.768782\" style=\"fill: #1f77b4; stroke: #1f77b4\"/>\n",
       "     <use xlink:href=\"#me83bfb4d38\" x=\"89.23469\" y=\"41.193466\" style=\"fill: #1f77b4; stroke: #1f77b4\"/>\n",
       "     <use xlink:href=\"#me83bfb4d38\" x=\"115.009437\" y=\"72.73215\" style=\"fill: #1f77b4; stroke: #1f77b4\"/>\n",
       "     <use xlink:href=\"#me83bfb4d38\" x=\"113.528463\" y=\"76.962673\" style=\"fill: #1f77b4; stroke: #1f77b4\"/>\n",
       "     <use xlink:href=\"#me83bfb4d38\" x=\"138.743497\" y=\"70.178854\" style=\"fill: #1f77b4; stroke: #1f77b4\"/>\n",
       "     <use xlink:href=\"#me83bfb4d38\" x=\"86.916908\" y=\"39.956489\" style=\"fill: #1f77b4; stroke: #1f77b4\"/>\n",
       "     <use xlink:href=\"#me83bfb4d38\" x=\"129.534842\" y=\"96.398278\" style=\"fill: #1f77b4; stroke: #1f77b4\"/>\n",
       "     <use xlink:href=\"#me83bfb4d38\" x=\"136.812042\" y=\"84.421171\" style=\"fill: #1f77b4; stroke: #1f77b4\"/>\n",
       "     <use xlink:href=\"#me83bfb4d38\" x=\"122.071375\" y=\"86.478607\" style=\"fill: #1f77b4; stroke: #1f77b4\"/>\n",
       "     <use xlink:href=\"#me83bfb4d38\" x=\"147.635015\" y=\"84.796324\" style=\"fill: #1f77b4; stroke: #1f77b4\"/>\n",
       "     <use xlink:href=\"#me83bfb4d38\" x=\"78.117987\" y=\"30.845868\" style=\"fill: #1f77b4; stroke: #1f77b4\"/>\n",
       "     <use xlink:href=\"#me83bfb4d38\" x=\"87.061868\" y=\"53.104535\" style=\"fill: #1f77b4; stroke: #1f77b4\"/>\n",
       "     <use xlink:href=\"#me83bfb4d38\" x=\"113.323841\" y=\"59.31751\" style=\"fill: #1f77b4; stroke: #1f77b4\"/>\n",
       "     <use xlink:href=\"#me83bfb4d38\" x=\"95.489991\" y=\"47.689876\" style=\"fill: #1f77b4; stroke: #1f77b4\"/>\n",
       "     <use xlink:href=\"#me83bfb4d38\" x=\"116.435062\" y=\"63.129549\" style=\"fill: #1f77b4; stroke: #1f77b4\"/>\n",
       "     <use xlink:href=\"#me83bfb4d38\" x=\"110.883958\" y=\"64.74853\" style=\"fill: #1f77b4; stroke: #1f77b4\"/>\n",
       "     <use xlink:href=\"#me83bfb4d38\" x=\"127.157347\" y=\"79.962909\" style=\"fill: #1f77b4; stroke: #1f77b4\"/>\n",
       "     <use xlink:href=\"#me83bfb4d38\" x=\"132.347122\" y=\"101.201957\" style=\"fill: #1f77b4; stroke: #1f77b4\"/>\n",
       "     <use xlink:href=\"#me83bfb4d38\" x=\"154.016677\" y=\"97.727822\" style=\"fill: #1f77b4; stroke: #1f77b4\"/>\n",
       "     <use xlink:href=\"#me83bfb4d38\" x=\"188.524059\" y=\"103.987921\" style=\"fill: #1f77b4; stroke: #1f77b4\"/>\n",
       "     <use xlink:href=\"#me83bfb4d38\" x=\"94.711142\" y=\"67.009788\" style=\"fill: #1f77b4; stroke: #1f77b4\"/>\n",
       "     <use xlink:href=\"#me83bfb4d38\" x=\"106.449429\" y=\"71.871344\" style=\"fill: #1f77b4; stroke: #1f77b4\"/>\n",
       "     <use xlink:href=\"#me83bfb4d38\" x=\"116.959014\" y=\"58.324324\" style=\"fill: #1f77b4; stroke: #1f77b4\"/>\n",
       "     <use xlink:href=\"#me83bfb4d38\" x=\"128.879638\" y=\"81.261471\" style=\"fill: #1f77b4; stroke: #1f77b4\"/>\n",
       "     <use xlink:href=\"#me83bfb4d38\" x=\"114.338421\" y=\"64.625412\" style=\"fill: #1f77b4; stroke: #1f77b4\"/>\n",
       "     <use xlink:href=\"#me83bfb4d38\" x=\"114.851932\" y=\"60.121126\" style=\"fill: #1f77b4; stroke: #1f77b4\"/>\n",
       "     <use xlink:href=\"#me83bfb4d38\" x=\"133.425693\" y=\"103.397011\" style=\"fill: #1f77b4; stroke: #1f77b4\"/>\n",
       "     <use xlink:href=\"#me83bfb4d38\" x=\"54.161774\" y=\"19.992982\" style=\"fill: #1f77b4; stroke: #1f77b4\"/>\n",
       "     <use xlink:href=\"#me83bfb4d38\" x=\"65.458212\" y=\"42.727727\" style=\"fill: #1f77b4; stroke: #1f77b4\"/>\n",
       "     <use xlink:href=\"#me83bfb4d38\" x=\"112.522924\" y=\"65.440164\" style=\"fill: #1f77b4; stroke: #1f77b4\"/>\n",
       "     <use xlink:href=\"#me83bfb4d38\" x=\"146.746448\" y=\"80.633675\" style=\"fill: #1f77b4; stroke: #1f77b4\"/>\n",
       "     <use xlink:href=\"#me83bfb4d38\" x=\"82.374978\" y=\"47.995671\" style=\"fill: #1f77b4; stroke: #1f77b4\"/>\n",
       "     <use xlink:href=\"#me83bfb4d38\" x=\"126.277478\" y=\"68.217323\" style=\"fill: #1f77b4; stroke: #1f77b4\"/>\n",
       "     <use xlink:href=\"#me83bfb4d38\" x=\"134.855843\" y=\"74.937981\" style=\"fill: #1f77b4; stroke: #1f77b4\"/>\n",
       "     <use xlink:href=\"#me83bfb4d38\" x=\"129.460259\" y=\"87.781365\" style=\"fill: #1f77b4; stroke: #1f77b4\"/>\n",
       "     <use xlink:href=\"#me83bfb4d38\" x=\"113.51765\" y=\"50.015049\" style=\"fill: #1f77b4; stroke: #1f77b4\"/>\n",
       "     <use xlink:href=\"#me83bfb4d38\" x=\"142.565367\" y=\"96.856466\" style=\"fill: #1f77b4; stroke: #1f77b4\"/>\n",
       "     <use xlink:href=\"#me83bfb4d38\" x=\"150.203071\" y=\"80.698565\" style=\"fill: #1f77b4; stroke: #1f77b4\"/>\n",
       "     <use xlink:href=\"#me83bfb4d38\" x=\"126.028381\" y=\"70.013089\" style=\"fill: #1f77b4; stroke: #1f77b4\"/>\n",
       "     <use xlink:href=\"#me83bfb4d38\" x=\"118.274052\" y=\"64.059349\" style=\"fill: #1f77b4; stroke: #1f77b4\"/>\n",
       "     <use xlink:href=\"#me83bfb4d38\" x=\"135.607705\" y=\"74.181527\" style=\"fill: #1f77b4; stroke: #1f77b4\"/>\n",
       "     <use xlink:href=\"#me83bfb4d38\" x=\"148.497722\" y=\"79.663026\" style=\"fill: #1f77b4; stroke: #1f77b4\"/>\n",
       "     <use xlink:href=\"#me83bfb4d38\" x=\"106.671538\" y=\"78.199326\" style=\"fill: #1f77b4; stroke: #1f77b4\"/>\n",
       "     <use xlink:href=\"#me83bfb4d38\" x=\"134.153769\" y=\"84.912227\" style=\"fill: #1f77b4; stroke: #1f77b4\"/>\n",
       "     <use xlink:href=\"#me83bfb4d38\" x=\"120.353556\" y=\"69.849831\" style=\"fill: #1f77b4; stroke: #1f77b4\"/>\n",
       "     <use xlink:href=\"#me83bfb4d38\" x=\"129.609185\" y=\"74.133201\" style=\"fill: #1f77b4; stroke: #1f77b4\"/>\n",
       "     <use xlink:href=\"#me83bfb4d38\" x=\"116.954971\" y=\"54.864626\" style=\"fill: #1f77b4; stroke: #1f77b4\"/>\n",
       "     <use xlink:href=\"#me83bfb4d38\" x=\"92.213799\" y=\"44.493778\" style=\"fill: #1f77b4; stroke: #1f77b4\"/>\n",
       "     <use xlink:href=\"#me83bfb4d38\" x=\"130.303846\" y=\"72.397013\" style=\"fill: #1f77b4; stroke: #1f77b4\"/>\n",
       "     <use xlink:href=\"#me83bfb4d38\" x=\"98.297813\" y=\"52.643673\" style=\"fill: #1f77b4; stroke: #1f77b4\"/>\n",
       "     <use xlink:href=\"#me83bfb4d38\" x=\"141.721419\" y=\"83.534403\" style=\"fill: #1f77b4; stroke: #1f77b4\"/>\n",
       "     <use xlink:href=\"#me83bfb4d38\" x=\"113.262212\" y=\"71.901838\" style=\"fill: #1f77b4; stroke: #1f77b4\"/>\n",
       "     <use xlink:href=\"#me83bfb4d38\" x=\"106.030509\" y=\"63.892955\" style=\"fill: #1f77b4; stroke: #1f77b4\"/>\n",
       "     <use xlink:href=\"#me83bfb4d38\" x=\"108.913785\" y=\"52.60013\" style=\"fill: #1f77b4; stroke: #1f77b4\"/>\n",
       "     <use xlink:href=\"#me83bfb4d38\" x=\"127.338841\" y=\"94.623709\" style=\"fill: #1f77b4; stroke: #1f77b4\"/>\n",
       "     <use xlink:href=\"#me83bfb4d38\" x=\"88.564789\" y=\"74.071288\" style=\"fill: #1f77b4; stroke: #1f77b4\"/>\n",
       "     <use xlink:href=\"#me83bfb4d38\" x=\"149.776933\" y=\"91.43114\" style=\"fill: #1f77b4; stroke: #1f77b4\"/>\n",
       "     <use xlink:href=\"#me83bfb4d38\" x=\"102.521391\" y=\"64.309964\" style=\"fill: #1f77b4; stroke: #1f77b4\"/>\n",
       "     <use xlink:href=\"#me83bfb4d38\" x=\"118.200838\" y=\"65.974679\" style=\"fill: #1f77b4; stroke: #1f77b4\"/>\n",
       "     <use xlink:href=\"#me83bfb4d38\" x=\"136.479535\" y=\"65.446913\" style=\"fill: #1f77b4; stroke: #1f77b4\"/>\n",
       "     <use xlink:href=\"#me83bfb4d38\" x=\"128.335984\" y=\"81.944652\" style=\"fill: #1f77b4; stroke: #1f77b4\"/>\n",
       "     <use xlink:href=\"#me83bfb4d38\" x=\"168.965574\" y=\"114.028957\" style=\"fill: #1f77b4; stroke: #1f77b4\"/>\n",
       "     <use xlink:href=\"#me83bfb4d38\" x=\"131.311797\" y=\"69.328176\" style=\"fill: #1f77b4; stroke: #1f77b4\"/>\n",
       "     <use xlink:href=\"#me83bfb4d38\" x=\"133.015703\" y=\"80.300374\" style=\"fill: #1f77b4; stroke: #1f77b4\"/>\n",
       "     <use xlink:href=\"#me83bfb4d38\" x=\"128.289244\" y=\"80.985537\" style=\"fill: #1f77b4; stroke: #1f77b4\"/>\n",
       "     <use xlink:href=\"#me83bfb4d38\" x=\"130.727283\" y=\"86.645983\" style=\"fill: #1f77b4; stroke: #1f77b4\"/>\n",
       "     <use xlink:href=\"#me83bfb4d38\" x=\"137.32193\" y=\"88.786191\" style=\"fill: #1f77b4; stroke: #1f77b4\"/>\n",
       "     <use xlink:href=\"#me83bfb4d38\" x=\"120.570925\" y=\"69.096398\" style=\"fill: #1f77b4; stroke: #1f77b4\"/>\n",
       "     <use xlink:href=\"#me83bfb4d38\" x=\"130.727848\" y=\"98.661599\" style=\"fill: #1f77b4; stroke: #1f77b4\"/>\n",
       "     <use xlink:href=\"#me83bfb4d38\" x=\"129.399565\" y=\"68.761027\" style=\"fill: #1f77b4; stroke: #1f77b4\"/>\n",
       "     <use xlink:href=\"#me83bfb4d38\" x=\"124.268508\" y=\"56.193363\" style=\"fill: #1f77b4; stroke: #1f77b4\"/>\n",
       "     <use xlink:href=\"#me83bfb4d38\" x=\"113.130685\" y=\"68.252725\" style=\"fill: #1f77b4; stroke: #1f77b4\"/>\n",
       "     <use xlink:href=\"#me83bfb4d38\" x=\"107.413043\" y=\"69.200937\" style=\"fill: #1f77b4; stroke: #1f77b4\"/>\n",
       "     <use xlink:href=\"#me83bfb4d38\" x=\"148.488379\" y=\"86.67661\" style=\"fill: #1f77b4; stroke: #1f77b4\"/>\n",
       "     <use xlink:href=\"#me83bfb4d38\" x=\"144.807065\" y=\"70.123831\" style=\"fill: #1f77b4; stroke: #1f77b4\"/>\n",
       "     <use xlink:href=\"#me83bfb4d38\" x=\"97.305522\" y=\"66.502407\" style=\"fill: #1f77b4; stroke: #1f77b4\"/>\n",
       "     <use xlink:href=\"#me83bfb4d38\" x=\"121.034361\" y=\"86.336435\" style=\"fill: #1f77b4; stroke: #1f77b4\"/>\n",
       "     <use xlink:href=\"#me83bfb4d38\" x=\"155.334132\" y=\"88.365592\" style=\"fill: #1f77b4; stroke: #1f77b4\"/>\n",
       "     <use xlink:href=\"#me83bfb4d38\" x=\"109.791861\" y=\"66.328045\" style=\"fill: #1f77b4; stroke: #1f77b4\"/>\n",
       "     <use xlink:href=\"#me83bfb4d38\" x=\"80.356747\" y=\"37.932799\" style=\"fill: #1f77b4; stroke: #1f77b4\"/>\n",
       "     <use xlink:href=\"#me83bfb4d38\" x=\"113.850955\" y=\"62.087616\" style=\"fill: #1f77b4; stroke: #1f77b4\"/>\n",
       "     <use xlink:href=\"#me83bfb4d38\" x=\"128.147819\" y=\"81.217346\" style=\"fill: #1f77b4; stroke: #1f77b4\"/>\n",
       "     <use xlink:href=\"#me83bfb4d38\" x=\"148.774028\" y=\"81.884914\" style=\"fill: #1f77b4; stroke: #1f77b4\"/>\n",
       "     <use xlink:href=\"#me83bfb4d38\" x=\"132.588094\" y=\"97.774696\" style=\"fill: #1f77b4; stroke: #1f77b4\"/>\n",
       "     <use xlink:href=\"#me83bfb4d38\" x=\"139.905432\" y=\"81.657936\" style=\"fill: #1f77b4; stroke: #1f77b4\"/>\n",
       "     <use xlink:href=\"#me83bfb4d38\" x=\"142.578922\" y=\"70.811874\" style=\"fill: #1f77b4; stroke: #1f77b4\"/>\n",
       "     <use xlink:href=\"#me83bfb4d38\" x=\"123.22425\" y=\"74.698099\" style=\"fill: #1f77b4; stroke: #1f77b4\"/>\n",
       "     <use xlink:href=\"#me83bfb4d38\" x=\"141.921549\" y=\"98.35879\" style=\"fill: #1f77b4; stroke: #1f77b4\"/>\n",
       "     <use xlink:href=\"#me83bfb4d38\" x=\"118.499585\" y=\"67.603092\" style=\"fill: #1f77b4; stroke: #1f77b4\"/>\n",
       "     <use xlink:href=\"#me83bfb4d38\" x=\"135.305495\" y=\"93.454521\" style=\"fill: #1f77b4; stroke: #1f77b4\"/>\n",
       "     <use xlink:href=\"#me83bfb4d38\" x=\"92.888873\" y=\"25.48538\" style=\"fill: #1f77b4; stroke: #1f77b4\"/>\n",
       "     <use xlink:href=\"#me83bfb4d38\" x=\"74.333507\" y=\"43.094088\" style=\"fill: #1f77b4; stroke: #1f77b4\"/>\n",
       "     <use xlink:href=\"#me83bfb4d38\" x=\"91.955869\" y=\"54.48408\" style=\"fill: #1f77b4; stroke: #1f77b4\"/>\n",
       "     <use xlink:href=\"#me83bfb4d38\" x=\"117.370161\" y=\"62.120545\" style=\"fill: #1f77b4; stroke: #1f77b4\"/>\n",
       "     <use xlink:href=\"#me83bfb4d38\" x=\"112.502512\" y=\"58.234856\" style=\"fill: #1f77b4; stroke: #1f77b4\"/>\n",
       "     <use xlink:href=\"#me83bfb4d38\" x=\"85.964446\" y=\"66.388353\" style=\"fill: #1f77b4; stroke: #1f77b4\"/>\n",
       "     <use xlink:href=\"#me83bfb4d38\" x=\"156.882172\" y=\"97.541699\" style=\"fill: #1f77b4; stroke: #1f77b4\"/>\n",
       "     <use xlink:href=\"#me83bfb4d38\" x=\"117.301441\" y=\"64.6191\" style=\"fill: #1f77b4; stroke: #1f77b4\"/>\n",
       "     <use xlink:href=\"#me83bfb4d38\" x=\"115.303717\" y=\"65.138547\" style=\"fill: #1f77b4; stroke: #1f77b4\"/>\n",
       "     <use xlink:href=\"#me83bfb4d38\" x=\"145.101669\" y=\"73.792157\" style=\"fill: #1f77b4; stroke: #1f77b4\"/>\n",
       "     <use xlink:href=\"#me83bfb4d38\" x=\"131.189505\" y=\"80.896948\" style=\"fill: #1f77b4; stroke: #1f77b4\"/>\n",
       "     <use xlink:href=\"#me83bfb4d38\" x=\"159.238685\" y=\"101.020216\" style=\"fill: #1f77b4; stroke: #1f77b4\"/>\n",
       "     <use xlink:href=\"#me83bfb4d38\" x=\"139.966273\" y=\"84.589644\" style=\"fill: #1f77b4; stroke: #1f77b4\"/>\n",
       "     <use xlink:href=\"#me83bfb4d38\" x=\"83.750901\" y=\"50.355851\" style=\"fill: #1f77b4; stroke: #1f77b4\"/>\n",
       "     <use xlink:href=\"#me83bfb4d38\" x=\"144.971244\" y=\"82.613566\" style=\"fill: #1f77b4; stroke: #1f77b4\"/>\n",
       "     <use xlink:href=\"#me83bfb4d38\" x=\"119.535436\" y=\"64.521045\" style=\"fill: #1f77b4; stroke: #1f77b4\"/>\n",
       "     <use xlink:href=\"#me83bfb4d38\" x=\"160.95934\" y=\"97.920236\" style=\"fill: #1f77b4; stroke: #1f77b4\"/>\n",
       "     <use xlink:href=\"#me83bfb4d38\" x=\"139.956468\" y=\"101.482595\" style=\"fill: #1f77b4; stroke: #1f77b4\"/>\n",
       "     <use xlink:href=\"#me83bfb4d38\" x=\"91.360379\" y=\"57.630262\" style=\"fill: #1f77b4; stroke: #1f77b4\"/>\n",
       "     <use xlink:href=\"#me83bfb4d38\" x=\"142.282858\" y=\"82.415963\" style=\"fill: #1f77b4; stroke: #1f77b4\"/>\n",
       "     <use xlink:href=\"#me83bfb4d38\" x=\"134.532671\" y=\"96.499854\" style=\"fill: #1f77b4; stroke: #1f77b4\"/>\n",
       "     <use xlink:href=\"#me83bfb4d38\" x=\"101.854195\" y=\"63.43291\" style=\"fill: #1f77b4; stroke: #1f77b4\"/>\n",
       "     <use xlink:href=\"#me83bfb4d38\" x=\"80.398828\" y=\"30.023327\" style=\"fill: #1f77b4; stroke: #1f77b4\"/>\n",
       "     <use xlink:href=\"#me83bfb4d38\" x=\"142.415357\" y=\"74.004329\" style=\"fill: #1f77b4; stroke: #1f77b4\"/>\n",
       "     <use xlink:href=\"#me83bfb4d38\" x=\"148.014003\" y=\"91.852932\" style=\"fill: #1f77b4; stroke: #1f77b4\"/>\n",
       "     <use xlink:href=\"#me83bfb4d38\" x=\"74.052803\" y=\"23.059959\" style=\"fill: #1f77b4; stroke: #1f77b4\"/>\n",
       "     <use xlink:href=\"#me83bfb4d38\" x=\"130.100485\" y=\"76.038039\" style=\"fill: #1f77b4; stroke: #1f77b4\"/>\n",
       "     <use xlink:href=\"#me83bfb4d38\" x=\"132.636034\" y=\"81.681934\" style=\"fill: #1f77b4; stroke: #1f77b4\"/>\n",
       "     <use xlink:href=\"#me83bfb4d38\" x=\"161.218154\" y=\"110.892441\" style=\"fill: #1f77b4; stroke: #1f77b4\"/>\n",
       "     <use xlink:href=\"#me83bfb4d38\" x=\"111.463284\" y=\"58.579333\" style=\"fill: #1f77b4; stroke: #1f77b4\"/>\n",
       "     <use xlink:href=\"#me83bfb4d38\" x=\"107.210592\" y=\"70.104262\" style=\"fill: #1f77b4; stroke: #1f77b4\"/>\n",
       "     <use xlink:href=\"#me83bfb4d38\" x=\"111.10687\" y=\"77.708914\" style=\"fill: #1f77b4; stroke: #1f77b4\"/>\n",
       "     <use xlink:href=\"#me83bfb4d38\" x=\"123.084591\" y=\"88.754537\" style=\"fill: #1f77b4; stroke: #1f77b4\"/>\n",
       "     <use xlink:href=\"#me83bfb4d38\" x=\"120.750009\" y=\"49.58016\" style=\"fill: #1f77b4; stroke: #1f77b4\"/>\n",
       "     <use xlink:href=\"#me83bfb4d38\" x=\"119.037414\" y=\"52.111388\" style=\"fill: #1f77b4; stroke: #1f77b4\"/>\n",
       "     <use xlink:href=\"#me83bfb4d38\" x=\"121.093264\" y=\"81.818614\" style=\"fill: #1f77b4; stroke: #1f77b4\"/>\n",
       "     <use xlink:href=\"#me83bfb4d38\" x=\"93.316338\" y=\"58.631835\" style=\"fill: #1f77b4; stroke: #1f77b4\"/>\n",
       "     <use xlink:href=\"#me83bfb4d38\" x=\"121.606032\" y=\"69.82938\" style=\"fill: #1f77b4; stroke: #1f77b4\"/>\n",
       "     <use xlink:href=\"#me83bfb4d38\" x=\"158.144714\" y=\"105.765763\" style=\"fill: #1f77b4; stroke: #1f77b4\"/>\n",
       "     <use xlink:href=\"#me83bfb4d38\" x=\"121.448668\" y=\"67.055338\" style=\"fill: #1f77b4; stroke: #1f77b4\"/>\n",
       "     <use xlink:href=\"#me83bfb4d38\" x=\"142.08723\" y=\"82.823903\" style=\"fill: #1f77b4; stroke: #1f77b4\"/>\n",
       "     <use xlink:href=\"#me83bfb4d38\" x=\"129.718417\" y=\"79.232464\" style=\"fill: #1f77b4; stroke: #1f77b4\"/>\n",
       "     <use xlink:href=\"#me83bfb4d38\" x=\"110.126413\" y=\"56.4454\" style=\"fill: #1f77b4; stroke: #1f77b4\"/>\n",
       "     <use xlink:href=\"#me83bfb4d38\" x=\"136.228282\" y=\"95.519933\" style=\"fill: #1f77b4; stroke: #1f77b4\"/>\n",
       "     <use xlink:href=\"#me83bfb4d38\" x=\"134.500694\" y=\"72.978663\" style=\"fill: #1f77b4; stroke: #1f77b4\"/>\n",
       "     <use xlink:href=\"#me83bfb4d38\" x=\"172.333316\" y=\"98.923763\" style=\"fill: #1f77b4; stroke: #1f77b4\"/>\n",
       "     <use xlink:href=\"#me83bfb4d38\" x=\"113.624991\" y=\"75.597179\" style=\"fill: #1f77b4; stroke: #1f77b4\"/>\n",
       "     <use xlink:href=\"#me83bfb4d38\" x=\"84.785505\" y=\"51.755619\" style=\"fill: #1f77b4; stroke: #1f77b4\"/>\n",
       "     <use xlink:href=\"#me83bfb4d38\" x=\"82.385473\" y=\"39.175293\" style=\"fill: #1f77b4; stroke: #1f77b4\"/>\n",
       "     <use xlink:href=\"#me83bfb4d38\" x=\"133.982077\" y=\"64.411162\" style=\"fill: #1f77b4; stroke: #1f77b4\"/>\n",
       "     <use xlink:href=\"#me83bfb4d38\" x=\"164.569019\" y=\"101.695445\" style=\"fill: #1f77b4; stroke: #1f77b4\"/>\n",
       "     <use xlink:href=\"#me83bfb4d38\" x=\"133.052802\" y=\"79.843958\" style=\"fill: #1f77b4; stroke: #1f77b4\"/>\n",
       "     <use xlink:href=\"#me83bfb4d38\" x=\"113.540943\" y=\"92.865729\" style=\"fill: #1f77b4; stroke: #1f77b4\"/>\n",
       "     <use xlink:href=\"#me83bfb4d38\" x=\"120.723494\" y=\"73.372167\" style=\"fill: #1f77b4; stroke: #1f77b4\"/>\n",
       "     <use xlink:href=\"#me83bfb4d38\" x=\"93.615892\" y=\"52.377184\" style=\"fill: #1f77b4; stroke: #1f77b4\"/>\n",
       "     <use xlink:href=\"#me83bfb4d38\" x=\"77.785135\" y=\"39.601041\" style=\"fill: #1f77b4; stroke: #1f77b4\"/>\n",
       "     <use xlink:href=\"#me83bfb4d38\" x=\"155.875446\" y=\"94.86085\" style=\"fill: #1f77b4; stroke: #1f77b4\"/>\n",
       "     <use xlink:href=\"#me83bfb4d38\" x=\"137.603443\" y=\"69.812484\" style=\"fill: #1f77b4; stroke: #1f77b4\"/>\n",
       "     <use xlink:href=\"#me83bfb4d38\" x=\"116.151686\" y=\"63.227188\" style=\"fill: #1f77b4; stroke: #1f77b4\"/>\n",
       "     <use xlink:href=\"#me83bfb4d38\" x=\"121.100547\" y=\"56.67211\" style=\"fill: #1f77b4; stroke: #1f77b4\"/>\n",
       "     <use xlink:href=\"#me83bfb4d38\" x=\"104.460507\" y=\"48.954923\" style=\"fill: #1f77b4; stroke: #1f77b4\"/>\n",
       "     <use xlink:href=\"#me83bfb4d38\" x=\"138.43534\" y=\"65.180662\" style=\"fill: #1f77b4; stroke: #1f77b4\"/>\n",
       "     <use xlink:href=\"#me83bfb4d38\" x=\"134.369588\" y=\"76.485132\" style=\"fill: #1f77b4; stroke: #1f77b4\"/>\n",
       "     <use xlink:href=\"#me83bfb4d38\" x=\"110.507416\" y=\"65.796892\" style=\"fill: #1f77b4; stroke: #1f77b4\"/>\n",
       "     <use xlink:href=\"#me83bfb4d38\" x=\"124.198092\" y=\"84.647115\" style=\"fill: #1f77b4; stroke: #1f77b4\"/>\n",
       "     <use xlink:href=\"#me83bfb4d38\" x=\"89.581185\" y=\"47.424656\" style=\"fill: #1f77b4; stroke: #1f77b4\"/>\n",
       "     <use xlink:href=\"#me83bfb4d38\" x=\"168.843791\" y=\"102.17809\" style=\"fill: #1f77b4; stroke: #1f77b4\"/>\n",
       "     <use xlink:href=\"#me83bfb4d38\" x=\"107.11625\" y=\"59.48317\" style=\"fill: #1f77b4; stroke: #1f77b4\"/>\n",
       "     <use xlink:href=\"#me83bfb4d38\" x=\"86.364208\" y=\"41.34722\" style=\"fill: #1f77b4; stroke: #1f77b4\"/>\n",
       "     <use xlink:href=\"#me83bfb4d38\" x=\"74.674883\" y=\"28.330396\" style=\"fill: #1f77b4; stroke: #1f77b4\"/>\n",
       "     <use xlink:href=\"#me83bfb4d38\" x=\"139.719473\" y=\"77.826738\" style=\"fill: #1f77b4; stroke: #1f77b4\"/>\n",
       "     <use xlink:href=\"#me83bfb4d38\" x=\"114.023771\" y=\"61.266125\" style=\"fill: #1f77b4; stroke: #1f77b4\"/>\n",
       "     <use xlink:href=\"#me83bfb4d38\" x=\"154.116359\" y=\"112.375287\" style=\"fill: #1f77b4; stroke: #1f77b4\"/>\n",
       "     <use xlink:href=\"#me83bfb4d38\" x=\"103.69074\" y=\"56.529323\" style=\"fill: #1f77b4; stroke: #1f77b4\"/>\n",
       "     <use xlink:href=\"#me83bfb4d38\" x=\"159.372707\" y=\"90.01004\" style=\"fill: #1f77b4; stroke: #1f77b4\"/>\n",
       "     <use xlink:href=\"#me83bfb4d38\" x=\"111.136772\" y=\"66.37663\" style=\"fill: #1f77b4; stroke: #1f77b4\"/>\n",
       "     <use xlink:href=\"#me83bfb4d38\" x=\"78.42598\" y=\"54.489134\" style=\"fill: #1f77b4; stroke: #1f77b4\"/>\n",
       "     <use xlink:href=\"#me83bfb4d38\" x=\"125.860828\" y=\"82.086975\" style=\"fill: #1f77b4; stroke: #1f77b4\"/>\n",
       "     <use xlink:href=\"#me83bfb4d38\" x=\"117.030831\" y=\"65.152782\" style=\"fill: #1f77b4; stroke: #1f77b4\"/>\n",
       "     <use xlink:href=\"#me83bfb4d38\" x=\"138.96196\" y=\"69.721302\" style=\"fill: #1f77b4; stroke: #1f77b4\"/>\n",
       "     <use xlink:href=\"#me83bfb4d38\" x=\"129.905031\" y=\"80.52318\" style=\"fill: #1f77b4; stroke: #1f77b4\"/>\n",
       "     <use xlink:href=\"#me83bfb4d38\" x=\"93.189672\" y=\"74.813552\" style=\"fill: #1f77b4; stroke: #1f77b4\"/>\n",
       "     <use xlink:href=\"#me83bfb4d38\" x=\"93.315949\" y=\"45.413924\" style=\"fill: #1f77b4; stroke: #1f77b4\"/>\n",
       "     <use xlink:href=\"#me83bfb4d38\" x=\"70.004921\" y=\"32.768322\" style=\"fill: #1f77b4; stroke: #1f77b4\"/>\n",
       "     <use xlink:href=\"#me83bfb4d38\" x=\"133.623154\" y=\"72.555884\" style=\"fill: #1f77b4; stroke: #1f77b4\"/>\n",
       "     <use xlink:href=\"#me83bfb4d38\" x=\"116.951425\" y=\"61.134025\" style=\"fill: #1f77b4; stroke: #1f77b4\"/>\n",
       "     <use xlink:href=\"#me83bfb4d38\" x=\"134.896874\" y=\"84.332191\" style=\"fill: #1f77b4; stroke: #1f77b4\"/>\n",
       "     <use xlink:href=\"#me83bfb4d38\" x=\"108.904935\" y=\"58.151312\" style=\"fill: #1f77b4; stroke: #1f77b4\"/>\n",
       "     <use xlink:href=\"#me83bfb4d38\" x=\"109.441724\" y=\"74.966294\" style=\"fill: #1f77b4; stroke: #1f77b4\"/>\n",
       "     <use xlink:href=\"#me83bfb4d38\" x=\"71.786281\" y=\"50.523249\" style=\"fill: #1f77b4; stroke: #1f77b4\"/>\n",
       "     <use xlink:href=\"#me83bfb4d38\" x=\"121.06547\" y=\"72.640682\" style=\"fill: #1f77b4; stroke: #1f77b4\"/>\n",
       "     <use xlink:href=\"#me83bfb4d38\" x=\"110.324356\" y=\"71.570454\" style=\"fill: #1f77b4; stroke: #1f77b4\"/>\n",
       "     <use xlink:href=\"#me83bfb4d38\" x=\"51.186306\" y=\"21.190318\" style=\"fill: #1f77b4; stroke: #1f77b4\"/>\n",
       "     <use xlink:href=\"#me83bfb4d38\" x=\"117.476198\" y=\"74.220285\" style=\"fill: #1f77b4; stroke: #1f77b4\"/>\n",
       "     <use xlink:href=\"#me83bfb4d38\" x=\"93.494642\" y=\"67.048747\" style=\"fill: #1f77b4; stroke: #1f77b4\"/>\n",
       "     <use xlink:href=\"#me83bfb4d38\" x=\"136.81964\" y=\"82.021481\" style=\"fill: #1f77b4; stroke: #1f77b4\"/>\n",
       "     <use xlink:href=\"#me83bfb4d38\" x=\"114.773545\" y=\"74.258281\" style=\"fill: #1f77b4; stroke: #1f77b4\"/>\n",
       "     <use xlink:href=\"#me83bfb4d38\" x=\"168.532857\" y=\"94.505579\" style=\"fill: #1f77b4; stroke: #1f77b4\"/>\n",
       "     <use xlink:href=\"#me83bfb4d38\" x=\"105.704543\" y=\"47.462434\" style=\"fill: #1f77b4; stroke: #1f77b4\"/>\n",
       "     <use xlink:href=\"#me83bfb4d38\" x=\"136.008518\" y=\"82.996216\" style=\"fill: #1f77b4; stroke: #1f77b4\"/>\n",
       "     <use xlink:href=\"#me83bfb4d38\" x=\"144.183311\" y=\"103.992004\" style=\"fill: #1f77b4; stroke: #1f77b4\"/>\n",
       "     <use xlink:href=\"#me83bfb4d38\" x=\"134.123501\" y=\"78.057834\" style=\"fill: #1f77b4; stroke: #1f77b4\"/>\n",
       "     <use xlink:href=\"#me83bfb4d38\" x=\"125.181253\" y=\"82.148126\" style=\"fill: #1f77b4; stroke: #1f77b4\"/>\n",
       "     <use xlink:href=\"#me83bfb4d38\" x=\"127.143073\" y=\"53.628536\" style=\"fill: #1f77b4; stroke: #1f77b4\"/>\n",
       "     <use xlink:href=\"#me83bfb4d38\" x=\"160.053245\" y=\"90.904489\" style=\"fill: #1f77b4; stroke: #1f77b4\"/>\n",
       "     <use xlink:href=\"#me83bfb4d38\" x=\"136.797699\" y=\"83.543177\" style=\"fill: #1f77b4; stroke: #1f77b4\"/>\n",
       "     <use xlink:href=\"#me83bfb4d38\" x=\"182.265078\" y=\"99.74206\" style=\"fill: #1f77b4; stroke: #1f77b4\"/>\n",
       "     <use xlink:href=\"#me83bfb4d38\" x=\"108.76339\" y=\"62.311617\" style=\"fill: #1f77b4; stroke: #1f77b4\"/>\n",
       "     <use xlink:href=\"#me83bfb4d38\" x=\"123.740963\" y=\"85.380997\" style=\"fill: #1f77b4; stroke: #1f77b4\"/>\n",
       "     <use xlink:href=\"#me83bfb4d38\" x=\"127.19533\" y=\"64.942352\" style=\"fill: #1f77b4; stroke: #1f77b4\"/>\n",
       "     <use xlink:href=\"#me83bfb4d38\" x=\"95.521792\" y=\"62.709628\" style=\"fill: #1f77b4; stroke: #1f77b4\"/>\n",
       "     <use xlink:href=\"#me83bfb4d38\" x=\"117.250119\" y=\"57.572124\" style=\"fill: #1f77b4; stroke: #1f77b4\"/>\n",
       "     <use xlink:href=\"#me83bfb4d38\" x=\"114.636516\" y=\"78.616645\" style=\"fill: #1f77b4; stroke: #1f77b4\"/>\n",
       "     <use xlink:href=\"#me83bfb4d38\" x=\"116.587643\" y=\"66.083871\" style=\"fill: #1f77b4; stroke: #1f77b4\"/>\n",
       "     <use xlink:href=\"#me83bfb4d38\" x=\"163.590657\" y=\"89.314792\" style=\"fill: #1f77b4; stroke: #1f77b4\"/>\n",
       "     <use xlink:href=\"#me83bfb4d38\" x=\"152.175468\" y=\"80.157172\" style=\"fill: #1f77b4; stroke: #1f77b4\"/>\n",
       "     <use xlink:href=\"#me83bfb4d38\" x=\"153.520367\" y=\"103.805995\" style=\"fill: #1f77b4; stroke: #1f77b4\"/>\n",
       "     <use xlink:href=\"#me83bfb4d38\" x=\"129.15274\" y=\"80.478255\" style=\"fill: #1f77b4; stroke: #1f77b4\"/>\n",
       "     <use xlink:href=\"#me83bfb4d38\" x=\"124.991332\" y=\"80.853079\" style=\"fill: #1f77b4; stroke: #1f77b4\"/>\n",
       "     <use xlink:href=\"#me83bfb4d38\" x=\"126.486503\" y=\"67.056981\" style=\"fill: #1f77b4; stroke: #1f77b4\"/>\n",
       "     <use xlink:href=\"#me83bfb4d38\" x=\"93.200878\" y=\"38.178848\" style=\"fill: #1f77b4; stroke: #1f77b4\"/>\n",
       "     <use xlink:href=\"#me83bfb4d38\" x=\"102.883164\" y=\"68.12416\" style=\"fill: #1f77b4; stroke: #1f77b4\"/>\n",
       "     <use xlink:href=\"#me83bfb4d38\" x=\"117.53296\" y=\"54.539509\" style=\"fill: #1f77b4; stroke: #1f77b4\"/>\n",
       "     <use xlink:href=\"#me83bfb4d38\" x=\"135.400298\" y=\"75.783331\" style=\"fill: #1f77b4; stroke: #1f77b4\"/>\n",
       "     <use xlink:href=\"#me83bfb4d38\" x=\"61.362896\" y=\"50.25597\" style=\"fill: #1f77b4; stroke: #1f77b4\"/>\n",
       "     <use xlink:href=\"#me83bfb4d38\" x=\"73.364959\" y=\"55.92093\" style=\"fill: #1f77b4; stroke: #1f77b4\"/>\n",
       "     <use xlink:href=\"#me83bfb4d38\" x=\"83.214425\" y=\"40.997848\" style=\"fill: #1f77b4; stroke: #1f77b4\"/>\n",
       "     <use xlink:href=\"#me83bfb4d38\" x=\"105.439429\" y=\"51.308697\" style=\"fill: #1f77b4; stroke: #1f77b4\"/>\n",
       "     <use xlink:href=\"#me83bfb4d38\" x=\"98.244855\" y=\"54.239788\" style=\"fill: #1f77b4; stroke: #1f77b4\"/>\n",
       "     <use xlink:href=\"#me83bfb4d38\" x=\"101.822276\" y=\"60.616444\" style=\"fill: #1f77b4; stroke: #1f77b4\"/>\n",
       "     <use xlink:href=\"#me83bfb4d38\" x=\"126.55928\" y=\"77.316548\" style=\"fill: #1f77b4; stroke: #1f77b4\"/>\n",
       "     <use xlink:href=\"#me83bfb4d38\" x=\"143.836311\" y=\"68.144368\" style=\"fill: #1f77b4; stroke: #1f77b4\"/>\n",
       "     <use xlink:href=\"#me83bfb4d38\" x=\"96.153683\" y=\"73.284829\" style=\"fill: #1f77b4; stroke: #1f77b4\"/>\n",
       "     <use xlink:href=\"#me83bfb4d38\" x=\"113.395968\" y=\"71.733888\" style=\"fill: #1f77b4; stroke: #1f77b4\"/>\n",
       "     <use xlink:href=\"#me83bfb4d38\" x=\"151.85208\" y=\"85.501715\" style=\"fill: #1f77b4; stroke: #1f77b4\"/>\n",
       "     <use xlink:href=\"#me83bfb4d38\" x=\"106.219333\" y=\"62.230181\" style=\"fill: #1f77b4; stroke: #1f77b4\"/>\n",
       "     <use xlink:href=\"#me83bfb4d38\" x=\"146.966402\" y=\"90.992373\" style=\"fill: #1f77b4; stroke: #1f77b4\"/>\n",
       "     <use xlink:href=\"#me83bfb4d38\" x=\"129.775113\" y=\"73.634067\" style=\"fill: #1f77b4; stroke: #1f77b4\"/>\n",
       "     <use xlink:href=\"#me83bfb4d38\" x=\"61.057665\" y=\"23.96857\" style=\"fill: #1f77b4; stroke: #1f77b4\"/>\n",
       "     <use xlink:href=\"#me83bfb4d38\" x=\"80.616776\" y=\"53.579919\" style=\"fill: #1f77b4; stroke: #1f77b4\"/>\n",
       "     <use xlink:href=\"#me83bfb4d38\" x=\"137.080603\" y=\"79.092406\" style=\"fill: #1f77b4; stroke: #1f77b4\"/>\n",
       "     <use xlink:href=\"#me83bfb4d38\" x=\"123.161023\" y=\"52.441311\" style=\"fill: #1f77b4; stroke: #1f77b4\"/>\n",
       "     <use xlink:href=\"#me83bfb4d38\" x=\"98.589884\" y=\"49.762561\" style=\"fill: #1f77b4; stroke: #1f77b4\"/>\n",
       "     <use xlink:href=\"#me83bfb4d38\" x=\"106.032177\" y=\"65.391674\" style=\"fill: #1f77b4; stroke: #1f77b4\"/>\n",
       "     <use xlink:href=\"#me83bfb4d38\" x=\"122.584061\" y=\"80.092875\" style=\"fill: #1f77b4; stroke: #1f77b4\"/>\n",
       "     <use xlink:href=\"#me83bfb4d38\" x=\"100.311222\" y=\"50.943352\" style=\"fill: #1f77b4; stroke: #1f77b4\"/>\n",
       "     <use xlink:href=\"#me83bfb4d38\" x=\"157.343823\" y=\"111.53869\" style=\"fill: #1f77b4; stroke: #1f77b4\"/>\n",
       "     <use xlink:href=\"#me83bfb4d38\" x=\"221.727415\" y=\"139.5\" style=\"fill: #1f77b4; stroke: #1f77b4\"/>\n",
       "     <use xlink:href=\"#me83bfb4d38\" x=\"102.647219\" y=\"58.653792\" style=\"fill: #1f77b4; stroke: #1f77b4\"/>\n",
       "     <use xlink:href=\"#me83bfb4d38\" x=\"116.381399\" y=\"62.564055\" style=\"fill: #1f77b4; stroke: #1f77b4\"/>\n",
       "     <use xlink:href=\"#me83bfb4d38\" x=\"149.95411\" y=\"79.679527\" style=\"fill: #1f77b4; stroke: #1f77b4\"/>\n",
       "     <use xlink:href=\"#me83bfb4d38\" x=\"100.341837\" y=\"59.846765\" style=\"fill: #1f77b4; stroke: #1f77b4\"/>\n",
       "     <use xlink:href=\"#me83bfb4d38\" x=\"142.107793\" y=\"91.141799\" style=\"fill: #1f77b4; stroke: #1f77b4\"/>\n",
       "     <use xlink:href=\"#me83bfb4d38\" x=\"125.530122\" y=\"73.389798\" style=\"fill: #1f77b4; stroke: #1f77b4\"/>\n",
       "     <use xlink:href=\"#me83bfb4d38\" x=\"122.921525\" y=\"70.522472\" style=\"fill: #1f77b4; stroke: #1f77b4\"/>\n",
       "     <use xlink:href=\"#me83bfb4d38\" x=\"160.859706\" y=\"107.668904\" style=\"fill: #1f77b4; stroke: #1f77b4\"/>\n",
       "     <use xlink:href=\"#me83bfb4d38\" x=\"156.672562\" y=\"106.328328\" style=\"fill: #1f77b4; stroke: #1f77b4\"/>\n",
       "     <use xlink:href=\"#me83bfb4d38\" x=\"92.021066\" y=\"57.146469\" style=\"fill: #1f77b4; stroke: #1f77b4\"/>\n",
       "     <use xlink:href=\"#me83bfb4d38\" x=\"74.18022\" y=\"40.559056\" style=\"fill: #1f77b4; stroke: #1f77b4\"/>\n",
       "     <use xlink:href=\"#me83bfb4d38\" x=\"125.512979\" y=\"82.390846\" style=\"fill: #1f77b4; stroke: #1f77b4\"/>\n",
       "     <use xlink:href=\"#me83bfb4d38\" x=\"149.661569\" y=\"89.922044\" style=\"fill: #1f77b4; stroke: #1f77b4\"/>\n",
       "     <use xlink:href=\"#me83bfb4d38\" x=\"145.129205\" y=\"77.896963\" style=\"fill: #1f77b4; stroke: #1f77b4\"/>\n",
       "     <use xlink:href=\"#me83bfb4d38\" x=\"109.681463\" y=\"65.262275\" style=\"fill: #1f77b4; stroke: #1f77b4\"/>\n",
       "     <use xlink:href=\"#me83bfb4d38\" x=\"62.985828\" y=\"29.822146\" style=\"fill: #1f77b4; stroke: #1f77b4\"/>\n",
       "     <use xlink:href=\"#me83bfb4d38\" x=\"106.263351\" y=\"57.069354\" style=\"fill: #1f77b4; stroke: #1f77b4\"/>\n",
       "     <use xlink:href=\"#me83bfb4d38\" x=\"97.216537\" y=\"39.748008\" style=\"fill: #1f77b4; stroke: #1f77b4\"/>\n",
       "     <use xlink:href=\"#me83bfb4d38\" x=\"133.830164\" y=\"84.778686\" style=\"fill: #1f77b4; stroke: #1f77b4\"/>\n",
       "     <use xlink:href=\"#me83bfb4d38\" x=\"128.569099\" y=\"68.278009\" style=\"fill: #1f77b4; stroke: #1f77b4\"/>\n",
       "     <use xlink:href=\"#me83bfb4d38\" x=\"113.343293\" y=\"58.88574\" style=\"fill: #1f77b4; stroke: #1f77b4\"/>\n",
       "     <use xlink:href=\"#me83bfb4d38\" x=\"115.52286\" y=\"80.120934\" style=\"fill: #1f77b4; stroke: #1f77b4\"/>\n",
       "     <use xlink:href=\"#me83bfb4d38\" x=\"103.357011\" y=\"71.667089\" style=\"fill: #1f77b4; stroke: #1f77b4\"/>\n",
       "     <use xlink:href=\"#me83bfb4d38\" x=\"88.347064\" y=\"52.440089\" style=\"fill: #1f77b4; stroke: #1f77b4\"/>\n",
       "     <use xlink:href=\"#me83bfb4d38\" x=\"138.125237\" y=\"87.862385\" style=\"fill: #1f77b4; stroke: #1f77b4\"/>\n",
       "     <use xlink:href=\"#me83bfb4d38\" x=\"111.003235\" y=\"40.992153\" style=\"fill: #1f77b4; stroke: #1f77b4\"/>\n",
       "     <use xlink:href=\"#me83bfb4d38\" x=\"123.074204\" y=\"54.096793\" style=\"fill: #1f77b4; stroke: #1f77b4\"/>\n",
       "     <use xlink:href=\"#me83bfb4d38\" x=\"131.927436\" y=\"68.846204\" style=\"fill: #1f77b4; stroke: #1f77b4\"/>\n",
       "     <use xlink:href=\"#me83bfb4d38\" x=\"142.449163\" y=\"99.305766\" style=\"fill: #1f77b4; stroke: #1f77b4\"/>\n",
       "     <use xlink:href=\"#me83bfb4d38\" x=\"143.829789\" y=\"66.579166\" style=\"fill: #1f77b4; stroke: #1f77b4\"/>\n",
       "     <use xlink:href=\"#me83bfb4d38\" x=\"94.308325\" y=\"64.567265\" style=\"fill: #1f77b4; stroke: #1f77b4\"/>\n",
       "     <use xlink:href=\"#me83bfb4d38\" x=\"143.626814\" y=\"107.443679\" style=\"fill: #1f77b4; stroke: #1f77b4\"/>\n",
       "     <use xlink:href=\"#me83bfb4d38\" x=\"126.198764\" y=\"88.740395\" style=\"fill: #1f77b4; stroke: #1f77b4\"/>\n",
       "     <use xlink:href=\"#me83bfb4d38\" x=\"111.562699\" y=\"58.962944\" style=\"fill: #1f77b4; stroke: #1f77b4\"/>\n",
       "     <use xlink:href=\"#me83bfb4d38\" x=\"58.485176\" y=\"23.282563\" style=\"fill: #1f77b4; stroke: #1f77b4\"/>\n",
       "     <use xlink:href=\"#me83bfb4d38\" x=\"128.643949\" y=\"69.634502\" style=\"fill: #1f77b4; stroke: #1f77b4\"/>\n",
       "     <use xlink:href=\"#me83bfb4d38\" x=\"114.19071\" y=\"73.288234\" style=\"fill: #1f77b4; stroke: #1f77b4\"/>\n",
       "     <use xlink:href=\"#me83bfb4d38\" x=\"78.537073\" y=\"25.660055\" style=\"fill: #1f77b4; stroke: #1f77b4\"/>\n",
       "     <use xlink:href=\"#me83bfb4d38\" x=\"107.836299\" y=\"75.295209\" style=\"fill: #1f77b4; stroke: #1f77b4\"/>\n",
       "     <use xlink:href=\"#me83bfb4d38\" x=\"145.148021\" y=\"102.223222\" style=\"fill: #1f77b4; stroke: #1f77b4\"/>\n",
       "     <use xlink:href=\"#me83bfb4d38\" x=\"74.696784\" y=\"35.681222\" style=\"fill: #1f77b4; stroke: #1f77b4\"/>\n",
       "     <use xlink:href=\"#me83bfb4d38\" x=\"102.203006\" y=\"68.888516\" style=\"fill: #1f77b4; stroke: #1f77b4\"/>\n",
       "     <use xlink:href=\"#me83bfb4d38\" x=\"146.233347\" y=\"80.373994\" style=\"fill: #1f77b4; stroke: #1f77b4\"/>\n",
       "     <use xlink:href=\"#me83bfb4d38\" x=\"94.642908\" y=\"65.745474\" style=\"fill: #1f77b4; stroke: #1f77b4\"/>\n",
       "     <use xlink:href=\"#me83bfb4d38\" x=\"131.461019\" y=\"80.695468\" style=\"fill: #1f77b4; stroke: #1f77b4\"/>\n",
       "     <use xlink:href=\"#me83bfb4d38\" x=\"117.853288\" y=\"70.243976\" style=\"fill: #1f77b4; stroke: #1f77b4\"/>\n",
       "     <use xlink:href=\"#me83bfb4d38\" x=\"124.884581\" y=\"77.53098\" style=\"fill: #1f77b4; stroke: #1f77b4\"/>\n",
       "     <use xlink:href=\"#me83bfb4d38\" x=\"86.608264\" y=\"33.941405\" style=\"fill: #1f77b4; stroke: #1f77b4\"/>\n",
       "     <use xlink:href=\"#me83bfb4d38\" x=\"84.800624\" y=\"43.496431\" style=\"fill: #1f77b4; stroke: #1f77b4\"/>\n",
       "     <use xlink:href=\"#me83bfb4d38\" x=\"73.403194\" y=\"31.438247\" style=\"fill: #1f77b4; stroke: #1f77b4\"/>\n",
       "     <use xlink:href=\"#me83bfb4d38\" x=\"71.779634\" y=\"31.850733\" style=\"fill: #1f77b4; stroke: #1f77b4\"/>\n",
       "     <use xlink:href=\"#me83bfb4d38\" x=\"73.200924\" y=\"27.344969\" style=\"fill: #1f77b4; stroke: #1f77b4\"/>\n",
       "     <use xlink:href=\"#me83bfb4d38\" x=\"87.545446\" y=\"39.61516\" style=\"fill: #1f77b4; stroke: #1f77b4\"/>\n",
       "     <use xlink:href=\"#me83bfb4d38\" x=\"118.368805\" y=\"75.639021\" style=\"fill: #1f77b4; stroke: #1f77b4\"/>\n",
       "     <use xlink:href=\"#me83bfb4d38\" x=\"98.592961\" y=\"56.178591\" style=\"fill: #1f77b4; stroke: #1f77b4\"/>\n",
       "     <use xlink:href=\"#me83bfb4d38\" x=\"127.232771\" y=\"72.563018\" style=\"fill: #1f77b4; stroke: #1f77b4\"/>\n",
       "     <use xlink:href=\"#me83bfb4d38\" x=\"102.667951\" y=\"56.923457\" style=\"fill: #1f77b4; stroke: #1f77b4\"/>\n",
       "     <use xlink:href=\"#me83bfb4d38\" x=\"142.781153\" y=\"79.255738\" style=\"fill: #1f77b4; stroke: #1f77b4\"/>\n",
       "     <use xlink:href=\"#me83bfb4d38\" x=\"130.422011\" y=\"89.13196\" style=\"fill: #1f77b4; stroke: #1f77b4\"/>\n",
       "     <use xlink:href=\"#me83bfb4d38\" x=\"123.85201\" y=\"82.537461\" style=\"fill: #1f77b4; stroke: #1f77b4\"/>\n",
       "     <use xlink:href=\"#me83bfb4d38\" x=\"121.643395\" y=\"61.738442\" style=\"fill: #1f77b4; stroke: #1f77b4\"/>\n",
       "     <use xlink:href=\"#me83bfb4d38\" x=\"100.866447\" y=\"58.415563\" style=\"fill: #1f77b4; stroke: #1f77b4\"/>\n",
       "     <use xlink:href=\"#me83bfb4d38\" x=\"111.325788\" y=\"53.712908\" style=\"fill: #1f77b4; stroke: #1f77b4\"/>\n",
       "     <use xlink:href=\"#me83bfb4d38\" x=\"126.289542\" y=\"56.84283\" style=\"fill: #1f77b4; stroke: #1f77b4\"/>\n",
       "     <use xlink:href=\"#me83bfb4d38\" x=\"152.811268\" y=\"98.922512\" style=\"fill: #1f77b4; stroke: #1f77b4\"/>\n",
       "     <use xlink:href=\"#me83bfb4d38\" x=\"107.691808\" y=\"76.135267\" style=\"fill: #1f77b4; stroke: #1f77b4\"/>\n",
       "     <use xlink:href=\"#me83bfb4d38\" x=\"128.581877\" y=\"79.069445\" style=\"fill: #1f77b4; stroke: #1f77b4\"/>\n",
       "     <use xlink:href=\"#me83bfb4d38\" x=\"121.7632\" y=\"73.369785\" style=\"fill: #1f77b4; stroke: #1f77b4\"/>\n",
       "     <use xlink:href=\"#me83bfb4d38\" x=\"108.197743\" y=\"68.024594\" style=\"fill: #1f77b4; stroke: #1f77b4\"/>\n",
       "     <use xlink:href=\"#me83bfb4d38\" x=\"103.073526\" y=\"71.007249\" style=\"fill: #1f77b4; stroke: #1f77b4\"/>\n",
       "     <use xlink:href=\"#me83bfb4d38\" x=\"150.488456\" y=\"96.744563\" style=\"fill: #1f77b4; stroke: #1f77b4\"/>\n",
       "     <use xlink:href=\"#me83bfb4d38\" x=\"115.626548\" y=\"62.621969\" style=\"fill: #1f77b4; stroke: #1f77b4\"/>\n",
       "     <use xlink:href=\"#me83bfb4d38\" x=\"147.745815\" y=\"90.836295\" style=\"fill: #1f77b4; stroke: #1f77b4\"/>\n",
       "     <use xlink:href=\"#me83bfb4d38\" x=\"96.419868\" y=\"42.742517\" style=\"fill: #1f77b4; stroke: #1f77b4\"/>\n",
       "     <use xlink:href=\"#me83bfb4d38\" x=\"110.266518\" y=\"61.978035\" style=\"fill: #1f77b4; stroke: #1f77b4\"/>\n",
       "     <use xlink:href=\"#me83bfb4d38\" x=\"105.134555\" y=\"53.86002\" style=\"fill: #1f77b4; stroke: #1f77b4\"/>\n",
       "     <use xlink:href=\"#me83bfb4d38\" x=\"118.149804\" y=\"57.927545\" style=\"fill: #1f77b4; stroke: #1f77b4\"/>\n",
       "     <use xlink:href=\"#me83bfb4d38\" x=\"124.93276\" y=\"81.642227\" style=\"fill: #1f77b4; stroke: #1f77b4\"/>\n",
       "     <use xlink:href=\"#me83bfb4d38\" x=\"138.431258\" y=\"84.757101\" style=\"fill: #1f77b4; stroke: #1f77b4\"/>\n",
       "     <use xlink:href=\"#me83bfb4d38\" x=\"87.260298\" y=\"65.924868\" style=\"fill: #1f77b4; stroke: #1f77b4\"/>\n",
       "     <use xlink:href=\"#me83bfb4d38\" x=\"107.737504\" y=\"66.319778\" style=\"fill: #1f77b4; stroke: #1f77b4\"/>\n",
       "     <use xlink:href=\"#me83bfb4d38\" x=\"118.921516\" y=\"55.165996\" style=\"fill: #1f77b4; stroke: #1f77b4\"/>\n",
       "     <use xlink:href=\"#me83bfb4d38\" x=\"86.358204\" y=\"56.276572\" style=\"fill: #1f77b4; stroke: #1f77b4\"/>\n",
       "     <use xlink:href=\"#me83bfb4d38\" x=\"128.235121\" y=\"63.503904\" style=\"fill: #1f77b4; stroke: #1f77b4\"/>\n",
       "     <use xlink:href=\"#me83bfb4d38\" x=\"84.863423\" y=\"25.525461\" style=\"fill: #1f77b4; stroke: #1f77b4\"/>\n",
       "     <use xlink:href=\"#me83bfb4d38\" x=\"116.226244\" y=\"79.097099\" style=\"fill: #1f77b4; stroke: #1f77b4\"/>\n",
       "     <use xlink:href=\"#me83bfb4d38\" x=\"88.446762\" y=\"34.944338\" style=\"fill: #1f77b4; stroke: #1f77b4\"/>\n",
       "     <use xlink:href=\"#me83bfb4d38\" x=\"71.271526\" y=\"41.582991\" style=\"fill: #1f77b4; stroke: #1f77b4\"/>\n",
       "     <use xlink:href=\"#me83bfb4d38\" x=\"121.113934\" y=\"72.352247\" style=\"fill: #1f77b4; stroke: #1f77b4\"/>\n",
       "     <use xlink:href=\"#me83bfb4d38\" x=\"116.168734\" y=\"59.818548\" style=\"fill: #1f77b4; stroke: #1f77b4\"/>\n",
       "     <use xlink:href=\"#me83bfb4d38\" x=\"88.291481\" y=\"45.214163\" style=\"fill: #1f77b4; stroke: #1f77b4\"/>\n",
       "     <use xlink:href=\"#me83bfb4d38\" x=\"86.697771\" y=\"50.389748\" style=\"fill: #1f77b4; stroke: #1f77b4\"/>\n",
       "     <use xlink:href=\"#me83bfb4d38\" x=\"110.072159\" y=\"80.075371\" style=\"fill: #1f77b4; stroke: #1f77b4\"/>\n",
       "     <use xlink:href=\"#me83bfb4d38\" x=\"102.72743\" y=\"60.962254\" style=\"fill: #1f77b4; stroke: #1f77b4\"/>\n",
       "     <use xlink:href=\"#me83bfb4d38\" x=\"156.565467\" y=\"90.77944\" style=\"fill: #1f77b4; stroke: #1f77b4\"/>\n",
       "     <use xlink:href=\"#me83bfb4d38\" x=\"135.140163\" y=\"78.201364\" style=\"fill: #1f77b4; stroke: #1f77b4\"/>\n",
       "     <use xlink:href=\"#me83bfb4d38\" x=\"140.272606\" y=\"95.389277\" style=\"fill: #1f77b4; stroke: #1f77b4\"/>\n",
       "     <use xlink:href=\"#me83bfb4d38\" x=\"102.169056\" y=\"69.660403\" style=\"fill: #1f77b4; stroke: #1f77b4\"/>\n",
       "     <use xlink:href=\"#me83bfb4d38\" x=\"113.387386\" y=\"71.318038\" style=\"fill: #1f77b4; stroke: #1f77b4\"/>\n",
       "     <use xlink:href=\"#me83bfb4d38\" x=\"92.067286\" y=\"49.678717\" style=\"fill: #1f77b4; stroke: #1f77b4\"/>\n",
       "     <use xlink:href=\"#me83bfb4d38\" x=\"146.97328\" y=\"81.499682\" style=\"fill: #1f77b4; stroke: #1f77b4\"/>\n",
       "     <use xlink:href=\"#me83bfb4d38\" x=\"105.167931\" y=\"57.501434\" style=\"fill: #1f77b4; stroke: #1f77b4\"/>\n",
       "     <use xlink:href=\"#me83bfb4d38\" x=\"99.320979\" y=\"47.146814\" style=\"fill: #1f77b4; stroke: #1f77b4\"/>\n",
       "     <use xlink:href=\"#me83bfb4d38\" x=\"118.185433\" y=\"75.39453\" style=\"fill: #1f77b4; stroke: #1f77b4\"/>\n",
       "     <use xlink:href=\"#me83bfb4d38\" x=\"145.033429\" y=\"72.829156\" style=\"fill: #1f77b4; stroke: #1f77b4\"/>\n",
       "     <use xlink:href=\"#me83bfb4d38\" x=\"96.900703\" y=\"57.208649\" style=\"fill: #1f77b4; stroke: #1f77b4\"/>\n",
       "     <use xlink:href=\"#me83bfb4d38\" x=\"86.808246\" y=\"61.119149\" style=\"fill: #1f77b4; stroke: #1f77b4\"/>\n",
       "     <use xlink:href=\"#me83bfb4d38\" x=\"103.68805\" y=\"60.787954\" style=\"fill: #1f77b4; stroke: #1f77b4\"/>\n",
       "     <use xlink:href=\"#me83bfb4d38\" x=\"141.14743\" y=\"71.004345\" style=\"fill: #1f77b4; stroke: #1f77b4\"/>\n",
       "     <use xlink:href=\"#me83bfb4d38\" x=\"145.834842\" y=\"96.212023\" style=\"fill: #1f77b4; stroke: #1f77b4\"/>\n",
       "     <use xlink:href=\"#me83bfb4d38\" x=\"74.256223\" y=\"46.75348\" style=\"fill: #1f77b4; stroke: #1f77b4\"/>\n",
       "     <use xlink:href=\"#me83bfb4d38\" x=\"132.716512\" y=\"88.337362\" style=\"fill: #1f77b4; stroke: #1f77b4\"/>\n",
       "     <use xlink:href=\"#me83bfb4d38\" x=\"123.744023\" y=\"73.203472\" style=\"fill: #1f77b4; stroke: #1f77b4\"/>\n",
       "     <use xlink:href=\"#me83bfb4d38\" x=\"103.374143\" y=\"81.477459\" style=\"fill: #1f77b4; stroke: #1f77b4\"/>\n",
       "     <use xlink:href=\"#me83bfb4d38\" x=\"121.833241\" y=\"73.454923\" style=\"fill: #1f77b4; stroke: #1f77b4\"/>\n",
       "     <use xlink:href=\"#me83bfb4d38\" x=\"89.460338\" y=\"48.724965\" style=\"fill: #1f77b4; stroke: #1f77b4\"/>\n",
       "     <use xlink:href=\"#me83bfb4d38\" x=\"123.163512\" y=\"77.817027\" style=\"fill: #1f77b4; stroke: #1f77b4\"/>\n",
       "     <use xlink:href=\"#me83bfb4d38\" x=\"134.054806\" y=\"90.130204\" style=\"fill: #1f77b4; stroke: #1f77b4\"/>\n",
       "     <use xlink:href=\"#me83bfb4d38\" x=\"95.370321\" y=\"50.789887\" style=\"fill: #1f77b4; stroke: #1f77b4\"/>\n",
       "     <use xlink:href=\"#me83bfb4d38\" x=\"160.5248\" y=\"108.191492\" style=\"fill: #1f77b4; stroke: #1f77b4\"/>\n",
       "     <use xlink:href=\"#me83bfb4d38\" x=\"115.352102\" y=\"72.118129\" style=\"fill: #1f77b4; stroke: #1f77b4\"/>\n",
       "     <use xlink:href=\"#me83bfb4d38\" x=\"94.850875\" y=\"60.038064\" style=\"fill: #1f77b4; stroke: #1f77b4\"/>\n",
       "     <use xlink:href=\"#me83bfb4d38\" x=\"124.917815\" y=\"65.480023\" style=\"fill: #1f77b4; stroke: #1f77b4\"/>\n",
       "     <use xlink:href=\"#me83bfb4d38\" x=\"148.390594\" y=\"89.505541\" style=\"fill: #1f77b4; stroke: #1f77b4\"/>\n",
       "     <use xlink:href=\"#me83bfb4d38\" x=\"100.208093\" y=\"46.635531\" style=\"fill: #1f77b4; stroke: #1f77b4\"/>\n",
       "     <use xlink:href=\"#me83bfb4d38\" x=\"98.197113\" y=\"73.313046\" style=\"fill: #1f77b4; stroke: #1f77b4\"/>\n",
       "     <use xlink:href=\"#me83bfb4d38\" x=\"143.334227\" y=\"74.437443\" style=\"fill: #1f77b4; stroke: #1f77b4\"/>\n",
       "     <use xlink:href=\"#me83bfb4d38\" x=\"95.365887\" y=\"45.061039\" style=\"fill: #1f77b4; stroke: #1f77b4\"/>\n",
       "     <use xlink:href=\"#me83bfb4d38\" x=\"120.825257\" y=\"69.156791\" style=\"fill: #1f77b4; stroke: #1f77b4\"/>\n",
       "     <use xlink:href=\"#me83bfb4d38\" x=\"105.220996\" y=\"58.831089\" style=\"fill: #1f77b4; stroke: #1f77b4\"/>\n",
       "     <use xlink:href=\"#me83bfb4d38\" x=\"158.797476\" y=\"92.623685\" style=\"fill: #1f77b4; stroke: #1f77b4\"/>\n",
       "     <use xlink:href=\"#me83bfb4d38\" x=\"131.873685\" y=\"68.23816\" style=\"fill: #1f77b4; stroke: #1f77b4\"/>\n",
       "     <use xlink:href=\"#me83bfb4d38\" x=\"94.762918\" y=\"59.508121\" style=\"fill: #1f77b4; stroke: #1f77b4\"/>\n",
       "     <use xlink:href=\"#me83bfb4d38\" x=\"119.088815\" y=\"65.345812\" style=\"fill: #1f77b4; stroke: #1f77b4\"/>\n",
       "     <use xlink:href=\"#me83bfb4d38\" x=\"118.297226\" y=\"70.783946\" style=\"fill: #1f77b4; stroke: #1f77b4\"/>\n",
       "     <use xlink:href=\"#me83bfb4d38\" x=\"148.391216\" y=\"80.567076\" style=\"fill: #1f77b4; stroke: #1f77b4\"/>\n",
       "     <use xlink:href=\"#me83bfb4d38\" x=\"153.74626\" y=\"94.300387\" style=\"fill: #1f77b4; stroke: #1f77b4\"/>\n",
       "     <use xlink:href=\"#me83bfb4d38\" x=\"143.792359\" y=\"91.055526\" style=\"fill: #1f77b4; stroke: #1f77b4\"/>\n",
       "     <use xlink:href=\"#me83bfb4d38\" x=\"81.376812\" y=\"49.536801\" style=\"fill: #1f77b4; stroke: #1f77b4\"/>\n",
       "     <use xlink:href=\"#me83bfb4d38\" x=\"126.44736\" y=\"69.5647\" style=\"fill: #1f77b4; stroke: #1f77b4\"/>\n",
       "     <use xlink:href=\"#me83bfb4d38\" x=\"106.528663\" y=\"29.860763\" style=\"fill: #1f77b4; stroke: #1f77b4\"/>\n",
       "     <use xlink:href=\"#me83bfb4d38\" x=\"76.26921\" y=\"43.686526\" style=\"fill: #1f77b4; stroke: #1f77b4\"/>\n",
       "     <use xlink:href=\"#me83bfb4d38\" x=\"82.612483\" y=\"44.527113\" style=\"fill: #1f77b4; stroke: #1f77b4\"/>\n",
       "     <use xlink:href=\"#me83bfb4d38\" x=\"69.335767\" y=\"38.844684\" style=\"fill: #1f77b4; stroke: #1f77b4\"/>\n",
       "     <use xlink:href=\"#me83bfb4d38\" x=\"157.968991\" y=\"98.087189\" style=\"fill: #1f77b4; stroke: #1f77b4\"/>\n",
       "     <use xlink:href=\"#me83bfb4d38\" x=\"71.387601\" y=\"46.054124\" style=\"fill: #1f77b4; stroke: #1f77b4\"/>\n",
       "     <use xlink:href=\"#me83bfb4d38\" x=\"72.70139\" y=\"39.72736\" style=\"fill: #1f77b4; stroke: #1f77b4\"/>\n",
       "     <use xlink:href=\"#me83bfb4d38\" x=\"115.708159\" y=\"63.715424\" style=\"fill: #1f77b4; stroke: #1f77b4\"/>\n",
       "     <use xlink:href=\"#me83bfb4d38\" x=\"98.159253\" y=\"41.394773\" style=\"fill: #1f77b4; stroke: #1f77b4\"/>\n",
       "     <use xlink:href=\"#me83bfb4d38\" x=\"112.813289\" y=\"61.136147\" style=\"fill: #1f77b4; stroke: #1f77b4\"/>\n",
       "     <use xlink:href=\"#me83bfb4d38\" x=\"85.001801\" y=\"48.951377\" style=\"fill: #1f77b4; stroke: #1f77b4\"/>\n",
       "     <use xlink:href=\"#me83bfb4d38\" x=\"125.0471\" y=\"73.214223\" style=\"fill: #1f77b4; stroke: #1f77b4\"/>\n",
       "     <use xlink:href=\"#me83bfb4d38\" x=\"73.827698\" y=\"43.460059\" style=\"fill: #1f77b4; stroke: #1f77b4\"/>\n",
       "     <use xlink:href=\"#me83bfb4d38\" x=\"135.695678\" y=\"85.951557\" style=\"fill: #1f77b4; stroke: #1f77b4\"/>\n",
       "     <use xlink:href=\"#me83bfb4d38\" x=\"121.063594\" y=\"89.569318\" style=\"fill: #1f77b4; stroke: #1f77b4\"/>\n",
       "     <use xlink:href=\"#me83bfb4d38\" x=\"86.1913\" y=\"40.732515\" style=\"fill: #1f77b4; stroke: #1f77b4\"/>\n",
       "     <use xlink:href=\"#me83bfb4d38\" x=\"135.351211\" y=\"92.38049\" style=\"fill: #1f77b4; stroke: #1f77b4\"/>\n",
       "     <use xlink:href=\"#me83bfb4d38\" x=\"111.895748\" y=\"63.964512\" style=\"fill: #1f77b4; stroke: #1f77b4\"/>\n",
       "     <use xlink:href=\"#me83bfb4d38\" x=\"150.049692\" y=\"102.679989\" style=\"fill: #1f77b4; stroke: #1f77b4\"/>\n",
       "     <use xlink:href=\"#me83bfb4d38\" x=\"118.836839\" y=\"74.951057\" style=\"fill: #1f77b4; stroke: #1f77b4\"/>\n",
       "     <use xlink:href=\"#me83bfb4d38\" x=\"132.303973\" y=\"76.237056\" style=\"fill: #1f77b4; stroke: #1f77b4\"/>\n",
       "     <use xlink:href=\"#me83bfb4d38\" x=\"95.856096\" y=\"47.453311\" style=\"fill: #1f77b4; stroke: #1f77b4\"/>\n",
       "     <use xlink:href=\"#me83bfb4d38\" x=\"91.976362\" y=\"48.29427\" style=\"fill: #1f77b4; stroke: #1f77b4\"/>\n",
       "     <use xlink:href=\"#me83bfb4d38\" x=\"171.577312\" y=\"113.582763\" style=\"fill: #1f77b4; stroke: #1f77b4\"/>\n",
       "     <use xlink:href=\"#me83bfb4d38\" x=\"155.350658\" y=\"85.140341\" style=\"fill: #1f77b4; stroke: #1f77b4\"/>\n",
       "     <use xlink:href=\"#me83bfb4d38\" x=\"106.634725\" y=\"50.171936\" style=\"fill: #1f77b4; stroke: #1f77b4\"/>\n",
       "     <use xlink:href=\"#me83bfb4d38\" x=\"90.296847\" y=\"56.763008\" style=\"fill: #1f77b4; stroke: #1f77b4\"/>\n",
       "     <use xlink:href=\"#me83bfb4d38\" x=\"105.874555\" y=\"65.288388\" style=\"fill: #1f77b4; stroke: #1f77b4\"/>\n",
       "     <use xlink:href=\"#me83bfb4d38\" x=\"99.882018\" y=\"57.242671\" style=\"fill: #1f77b4; stroke: #1f77b4\"/>\n",
       "     <use xlink:href=\"#me83bfb4d38\" x=\"71.372329\" y=\"45.664363\" style=\"fill: #1f77b4; stroke: #1f77b4\"/>\n",
       "     <use xlink:href=\"#me83bfb4d38\" x=\"99.96803\" y=\"54.616269\" style=\"fill: #1f77b4; stroke: #1f77b4\"/>\n",
       "     <use xlink:href=\"#me83bfb4d38\" x=\"92.026774\" y=\"58.081449\" style=\"fill: #1f77b4; stroke: #1f77b4\"/>\n",
       "     <use xlink:href=\"#me83bfb4d38\" x=\"115.481029\" y=\"79.229638\" style=\"fill: #1f77b4; stroke: #1f77b4\"/>\n",
       "     <use xlink:href=\"#me83bfb4d38\" x=\"126.572705\" y=\"83.414366\" style=\"fill: #1f77b4; stroke: #1f77b4\"/>\n",
       "     <use xlink:href=\"#me83bfb4d38\" x=\"165.455376\" y=\"117.024071\" style=\"fill: #1f77b4; stroke: #1f77b4\"/>\n",
       "     <use xlink:href=\"#me83bfb4d38\" x=\"119.957896\" y=\"77.250732\" style=\"fill: #1f77b4; stroke: #1f77b4\"/>\n",
       "     <use xlink:href=\"#me83bfb4d38\" x=\"83.537228\" y=\"35.689837\" style=\"fill: #1f77b4; stroke: #1f77b4\"/>\n",
       "     <use xlink:href=\"#me83bfb4d38\" x=\"110.521333\" y=\"56.422492\" style=\"fill: #1f77b4; stroke: #1f77b4\"/>\n",
       "     <use xlink:href=\"#me83bfb4d38\" x=\"154.678925\" y=\"101.455468\" style=\"fill: #1f77b4; stroke: #1f77b4\"/>\n",
       "     <use xlink:href=\"#me83bfb4d38\" x=\"112.440307\" y=\"62.077444\" style=\"fill: #1f77b4; stroke: #1f77b4\"/>\n",
       "     <use xlink:href=\"#me83bfb4d38\" x=\"114.670959\" y=\"83.837003\" style=\"fill: #1f77b4; stroke: #1f77b4\"/>\n",
       "     <use xlink:href=\"#me83bfb4d38\" x=\"100.465806\" y=\"50.163108\" style=\"fill: #1f77b4; stroke: #1f77b4\"/>\n",
       "     <use xlink:href=\"#me83bfb4d38\" x=\"108.873469\" y=\"75.500329\" style=\"fill: #1f77b4; stroke: #1f77b4\"/>\n",
       "     <use xlink:href=\"#me83bfb4d38\" x=\"127.196832\" y=\"66.080561\" style=\"fill: #1f77b4; stroke: #1f77b4\"/>\n",
       "     <use xlink:href=\"#me83bfb4d38\" x=\"113.686364\" y=\"90.756118\" style=\"fill: #1f77b4; stroke: #1f77b4\"/>\n",
       "     <use xlink:href=\"#me83bfb4d38\" x=\"68.829437\" y=\"24.106587\" style=\"fill: #1f77b4; stroke: #1f77b4\"/>\n",
       "     <use xlink:href=\"#me83bfb4d38\" x=\"105.648983\" y=\"69.351593\" style=\"fill: #1f77b4; stroke: #1f77b4\"/>\n",
       "     <use xlink:href=\"#me83bfb4d38\" x=\"129.842606\" y=\"78.987321\" style=\"fill: #1f77b4; stroke: #1f77b4\"/>\n",
       "     <use xlink:href=\"#me83bfb4d38\" x=\"119.76791\" y=\"66.958127\" style=\"fill: #1f77b4; stroke: #1f77b4\"/>\n",
       "     <use xlink:href=\"#me83bfb4d38\" x=\"100.068672\" y=\"64.240208\" style=\"fill: #1f77b4; stroke: #1f77b4\"/>\n",
       "     <use xlink:href=\"#me83bfb4d38\" x=\"122.920788\" y=\"89.762386\" style=\"fill: #1f77b4; stroke: #1f77b4\"/>\n",
       "     <use xlink:href=\"#me83bfb4d38\" x=\"124.645147\" y=\"82.719317\" style=\"fill: #1f77b4; stroke: #1f77b4\"/>\n",
       "     <use xlink:href=\"#me83bfb4d38\" x=\"137.396237\" y=\"73.709443\" style=\"fill: #1f77b4; stroke: #1f77b4\"/>\n",
       "     <use xlink:href=\"#me83bfb4d38\" x=\"117.850259\" y=\"64.319792\" style=\"fill: #1f77b4; stroke: #1f77b4\"/>\n",
       "     <use xlink:href=\"#me83bfb4d38\" x=\"150.861628\" y=\"87.52417\" style=\"fill: #1f77b4; stroke: #1f77b4\"/>\n",
       "     <use xlink:href=\"#me83bfb4d38\" x=\"121.885851\" y=\"68.302167\" style=\"fill: #1f77b4; stroke: #1f77b4\"/>\n",
       "     <use xlink:href=\"#me83bfb4d38\" x=\"155.666774\" y=\"103.934879\" style=\"fill: #1f77b4; stroke: #1f77b4\"/>\n",
       "     <use xlink:href=\"#me83bfb4d38\" x=\"131.185973\" y=\"61.770096\" style=\"fill: #1f77b4; stroke: #1f77b4\"/>\n",
       "     <use xlink:href=\"#me83bfb4d38\" x=\"120.96897\" y=\"71.018504\" style=\"fill: #1f77b4; stroke: #1f77b4\"/>\n",
       "     <use xlink:href=\"#me83bfb4d38\" x=\"108.811338\" y=\"70.405983\" style=\"fill: #1f77b4; stroke: #1f77b4\"/>\n",
       "     <use xlink:href=\"#me83bfb4d38\" x=\"109.674694\" y=\"77.61081\" style=\"fill: #1f77b4; stroke: #1f77b4\"/>\n",
       "     <use xlink:href=\"#me83bfb4d38\" x=\"124.85866\" y=\"72.14174\" style=\"fill: #1f77b4; stroke: #1f77b4\"/>\n",
       "     <use xlink:href=\"#me83bfb4d38\" x=\"103.460213\" y=\"53.072195\" style=\"fill: #1f77b4; stroke: #1f77b4\"/>\n",
       "     <use xlink:href=\"#me83bfb4d38\" x=\"161.666929\" y=\"97.100904\" style=\"fill: #1f77b4; stroke: #1f77b4\"/>\n",
       "     <use xlink:href=\"#me83bfb4d38\" x=\"102.458037\" y=\"71.656843\" style=\"fill: #1f77b4; stroke: #1f77b4\"/>\n",
       "     <use xlink:href=\"#me83bfb4d38\" x=\"106.354606\" y=\"77.222773\" style=\"fill: #1f77b4; stroke: #1f77b4\"/>\n",
       "     <use xlink:href=\"#me83bfb4d38\" x=\"105.691497\" y=\"59.750396\" style=\"fill: #1f77b4; stroke: #1f77b4\"/>\n",
       "     <use xlink:href=\"#me83bfb4d38\" x=\"147.376502\" y=\"100.366063\" style=\"fill: #1f77b4; stroke: #1f77b4\"/>\n",
       "     <use xlink:href=\"#me83bfb4d38\" x=\"113.958419\" y=\"55.382048\" style=\"fill: #1f77b4; stroke: #1f77b4\"/>\n",
       "     <use xlink:href=\"#me83bfb4d38\" x=\"97.466038\" y=\"61.533265\" style=\"fill: #1f77b4; stroke: #1f77b4\"/>\n",
       "     <use xlink:href=\"#me83bfb4d38\" x=\"58.048199\" y=\"40.820032\" style=\"fill: #1f77b4; stroke: #1f77b4\"/>\n",
       "     <use xlink:href=\"#me83bfb4d38\" x=\"91.181435\" y=\"54.067026\" style=\"fill: #1f77b4; stroke: #1f77b4\"/>\n",
       "     <use xlink:href=\"#me83bfb4d38\" x=\"125.435766\" y=\"69.753294\" style=\"fill: #1f77b4; stroke: #1f77b4\"/>\n",
       "     <use xlink:href=\"#me83bfb4d38\" x=\"80.882668\" y=\"52.89933\" style=\"fill: #1f77b4; stroke: #1f77b4\"/>\n",
       "     <use xlink:href=\"#me83bfb4d38\" x=\"145.055209\" y=\"87.275412\" style=\"fill: #1f77b4; stroke: #1f77b4\"/>\n",
       "     <use xlink:href=\"#me83bfb4d38\" x=\"112.314021\" y=\"48.279657\" style=\"fill: #1f77b4; stroke: #1f77b4\"/>\n",
       "     <use xlink:href=\"#me83bfb4d38\" x=\"93.94369\" y=\"45.934547\" style=\"fill: #1f77b4; stroke: #1f77b4\"/>\n",
       "     <use xlink:href=\"#me83bfb4d38\" x=\"95.667706\" y=\"46.276692\" style=\"fill: #1f77b4; stroke: #1f77b4\"/>\n",
       "     <use xlink:href=\"#me83bfb4d38\" x=\"164.651222\" y=\"104.968047\" style=\"fill: #1f77b4; stroke: #1f77b4\"/>\n",
       "     <use xlink:href=\"#me83bfb4d38\" x=\"109.805359\" y=\"70.596601\" style=\"fill: #1f77b4; stroke: #1f77b4\"/>\n",
       "     <use xlink:href=\"#me83bfb4d38\" x=\"153.537303\" y=\"101.205944\" style=\"fill: #1f77b4; stroke: #1f77b4\"/>\n",
       "     <use xlink:href=\"#me83bfb4d38\" x=\"116.496806\" y=\"60.386903\" style=\"fill: #1f77b4; stroke: #1f77b4\"/>\n",
       "     <use xlink:href=\"#me83bfb4d38\" x=\"130.727365\" y=\"83.141204\" style=\"fill: #1f77b4; stroke: #1f77b4\"/>\n",
       "     <use xlink:href=\"#me83bfb4d38\" x=\"115.929073\" y=\"66.145897\" style=\"fill: #1f77b4; stroke: #1f77b4\"/>\n",
       "     <use xlink:href=\"#me83bfb4d38\" x=\"111.068797\" y=\"36.970477\" style=\"fill: #1f77b4; stroke: #1f77b4\"/>\n",
       "     <use xlink:href=\"#me83bfb4d38\" x=\"126.176766\" y=\"91.543134\" style=\"fill: #1f77b4; stroke: #1f77b4\"/>\n",
       "     <use xlink:href=\"#me83bfb4d38\" x=\"135.117917\" y=\"71.628405\" style=\"fill: #1f77b4; stroke: #1f77b4\"/>\n",
       "     <use xlink:href=\"#me83bfb4d38\" x=\"101.886177\" y=\"52.494695\" style=\"fill: #1f77b4; stroke: #1f77b4\"/>\n",
       "     <use xlink:href=\"#me83bfb4d38\" x=\"90.426234\" y=\"43.92484\" style=\"fill: #1f77b4; stroke: #1f77b4\"/>\n",
       "     <use xlink:href=\"#me83bfb4d38\" x=\"90.072027\" y=\"53.555977\" style=\"fill: #1f77b4; stroke: #1f77b4\"/>\n",
       "     <use xlink:href=\"#me83bfb4d38\" x=\"141.637063\" y=\"79.659842\" style=\"fill: #1f77b4; stroke: #1f77b4\"/>\n",
       "     <use xlink:href=\"#me83bfb4d38\" x=\"110.496536\" y=\"58.450813\" style=\"fill: #1f77b4; stroke: #1f77b4\"/>\n",
       "     <use xlink:href=\"#me83bfb4d38\" x=\"115.075319\" y=\"65.593875\" style=\"fill: #1f77b4; stroke: #1f77b4\"/>\n",
       "     <use xlink:href=\"#me83bfb4d38\" x=\"128.593805\" y=\"87.18306\" style=\"fill: #1f77b4; stroke: #1f77b4\"/>\n",
       "     <use xlink:href=\"#me83bfb4d38\" x=\"84.32961\" y=\"55.824085\" style=\"fill: #1f77b4; stroke: #1f77b4\"/>\n",
       "     <use xlink:href=\"#me83bfb4d38\" x=\"123.438153\" y=\"82.719582\" style=\"fill: #1f77b4; stroke: #1f77b4\"/>\n",
       "     <use xlink:href=\"#me83bfb4d38\" x=\"138.097453\" y=\"75.993621\" style=\"fill: #1f77b4; stroke: #1f77b4\"/>\n",
       "     <use xlink:href=\"#me83bfb4d38\" x=\"144.475545\" y=\"91.993565\" style=\"fill: #1f77b4; stroke: #1f77b4\"/>\n",
       "     <use xlink:href=\"#me83bfb4d38\" x=\"146.196727\" y=\"80.682834\" style=\"fill: #1f77b4; stroke: #1f77b4\"/>\n",
       "     <use xlink:href=\"#me83bfb4d38\" x=\"131.719359\" y=\"77.02428\" style=\"fill: #1f77b4; stroke: #1f77b4\"/>\n",
       "     <use xlink:href=\"#me83bfb4d38\" x=\"148.850272\" y=\"76.228159\" style=\"fill: #1f77b4; stroke: #1f77b4\"/>\n",
       "     <use xlink:href=\"#me83bfb4d38\" x=\"121.231542\" y=\"63.33681\" style=\"fill: #1f77b4; stroke: #1f77b4\"/>\n",
       "     <use xlink:href=\"#me83bfb4d38\" x=\"123.102839\" y=\"68.96039\" style=\"fill: #1f77b4; stroke: #1f77b4\"/>\n",
       "     <use xlink:href=\"#me83bfb4d38\" x=\"125.16178\" y=\"82.90792\" style=\"fill: #1f77b4; stroke: #1f77b4\"/>\n",
       "     <use xlink:href=\"#me83bfb4d38\" x=\"68.562919\" y=\"31.871771\" style=\"fill: #1f77b4; stroke: #1f77b4\"/>\n",
       "     <use xlink:href=\"#me83bfb4d38\" x=\"145.370598\" y=\"72.642385\" style=\"fill: #1f77b4; stroke: #1f77b4\"/>\n",
       "     <use xlink:href=\"#me83bfb4d38\" x=\"94.861146\" y=\"58.614264\" style=\"fill: #1f77b4; stroke: #1f77b4\"/>\n",
       "     <use xlink:href=\"#me83bfb4d38\" x=\"110.237959\" y=\"74.417559\" style=\"fill: #1f77b4; stroke: #1f77b4\"/>\n",
       "     <use xlink:href=\"#me83bfb4d38\" x=\"114.885011\" y=\"74.821186\" style=\"fill: #1f77b4; stroke: #1f77b4\"/>\n",
       "     <use xlink:href=\"#me83bfb4d38\" x=\"101.272372\" y=\"41.631696\" style=\"fill: #1f77b4; stroke: #1f77b4\"/>\n",
       "     <use xlink:href=\"#me83bfb4d38\" x=\"139.048762\" y=\"85.649315\" style=\"fill: #1f77b4; stroke: #1f77b4\"/>\n",
       "     <use xlink:href=\"#me83bfb4d38\" x=\"147.618335\" y=\"85.213835\" style=\"fill: #1f77b4; stroke: #1f77b4\"/>\n",
       "     <use xlink:href=\"#me83bfb4d38\" x=\"123.058843\" y=\"84.714176\" style=\"fill: #1f77b4; stroke: #1f77b4\"/>\n",
       "     <use xlink:href=\"#me83bfb4d38\" x=\"110.138672\" y=\"54.237165\" style=\"fill: #1f77b4; stroke: #1f77b4\"/>\n",
       "     <use xlink:href=\"#me83bfb4d38\" x=\"104.586513\" y=\"64.220847\" style=\"fill: #1f77b4; stroke: #1f77b4\"/>\n",
       "     <use xlink:href=\"#me83bfb4d38\" x=\"81.047225\" y=\"31.428785\" style=\"fill: #1f77b4; stroke: #1f77b4\"/>\n",
       "     <use xlink:href=\"#me83bfb4d38\" x=\"113.095481\" y=\"80.924362\" style=\"fill: #1f77b4; stroke: #1f77b4\"/>\n",
       "     <use xlink:href=\"#me83bfb4d38\" x=\"106.906568\" y=\"77.078382\" style=\"fill: #1f77b4; stroke: #1f77b4\"/>\n",
       "     <use xlink:href=\"#me83bfb4d38\" x=\"71.451346\" y=\"47.331132\" style=\"fill: #1f77b4; stroke: #1f77b4\"/>\n",
       "     <use xlink:href=\"#me83bfb4d38\" x=\"88.908839\" y=\"48.298428\" style=\"fill: #1f77b4; stroke: #1f77b4\"/>\n",
       "     <use xlink:href=\"#me83bfb4d38\" x=\"101.593412\" y=\"50.525484\" style=\"fill: #1f77b4; stroke: #1f77b4\"/>\n",
       "     <use xlink:href=\"#me83bfb4d38\" x=\"105.408246\" y=\"61.233185\" style=\"fill: #1f77b4; stroke: #1f77b4\"/>\n",
       "     <use xlink:href=\"#me83bfb4d38\" x=\"123.974353\" y=\"54.477064\" style=\"fill: #1f77b4; stroke: #1f77b4\"/>\n",
       "     <use xlink:href=\"#me83bfb4d38\" x=\"120.774417\" y=\"66.862461\" style=\"fill: #1f77b4; stroke: #1f77b4\"/>\n",
       "     <use xlink:href=\"#me83bfb4d38\" x=\"70.701902\" y=\"30.876378\" style=\"fill: #1f77b4; stroke: #1f77b4\"/>\n",
       "     <use xlink:href=\"#me83bfb4d38\" x=\"78.854809\" y=\"41.518662\" style=\"fill: #1f77b4; stroke: #1f77b4\"/>\n",
       "     <use xlink:href=\"#me83bfb4d38\" x=\"125.04512\" y=\"68.926477\" style=\"fill: #1f77b4; stroke: #1f77b4\"/>\n",
       "     <use xlink:href=\"#me83bfb4d38\" x=\"135.032347\" y=\"71.420027\" style=\"fill: #1f77b4; stroke: #1f77b4\"/>\n",
       "     <use xlink:href=\"#me83bfb4d38\" x=\"121.412877\" y=\"66.211459\" style=\"fill: #1f77b4; stroke: #1f77b4\"/>\n",
       "     <use xlink:href=\"#me83bfb4d38\" x=\"96.417576\" y=\"53.080332\" style=\"fill: #1f77b4; stroke: #1f77b4\"/>\n",
       "     <use xlink:href=\"#me83bfb4d38\" x=\"126.828413\" y=\"74.963254\" style=\"fill: #1f77b4; stroke: #1f77b4\"/>\n",
       "     <use xlink:href=\"#me83bfb4d38\" x=\"141.421722\" y=\"73.668225\" style=\"fill: #1f77b4; stroke: #1f77b4\"/>\n",
       "     <use xlink:href=\"#me83bfb4d38\" x=\"103.36652\" y=\"55.314749\" style=\"fill: #1f77b4; stroke: #1f77b4\"/>\n",
       "     <use xlink:href=\"#me83bfb4d38\" x=\"124.303607\" y=\"69.830727\" style=\"fill: #1f77b4; stroke: #1f77b4\"/>\n",
       "     <use xlink:href=\"#me83bfb4d38\" x=\"105.622896\" y=\"47.126084\" style=\"fill: #1f77b4; stroke: #1f77b4\"/>\n",
       "     <use xlink:href=\"#me83bfb4d38\" x=\"128.175347\" y=\"68.061248\" style=\"fill: #1f77b4; stroke: #1f77b4\"/>\n",
       "     <use xlink:href=\"#me83bfb4d38\" x=\"166.067606\" y=\"102.03885\" style=\"fill: #1f77b4; stroke: #1f77b4\"/>\n",
       "     <use xlink:href=\"#me83bfb4d38\" x=\"138.002475\" y=\"80.5335\" style=\"fill: #1f77b4; stroke: #1f77b4\"/>\n",
       "     <use xlink:href=\"#me83bfb4d38\" x=\"118.272811\" y=\"79.76971\" style=\"fill: #1f77b4; stroke: #1f77b4\"/>\n",
       "     <use xlink:href=\"#me83bfb4d38\" x=\"112.775603\" y=\"57.912927\" style=\"fill: #1f77b4; stroke: #1f77b4\"/>\n",
       "     <use xlink:href=\"#me83bfb4d38\" x=\"106.761596\" y=\"74.744923\" style=\"fill: #1f77b4; stroke: #1f77b4\"/>\n",
       "     <use xlink:href=\"#me83bfb4d38\" x=\"156.621306\" y=\"91.606286\" style=\"fill: #1f77b4; stroke: #1f77b4\"/>\n",
       "     <use xlink:href=\"#me83bfb4d38\" x=\"86.139321\" y=\"57.73445\" style=\"fill: #1f77b4; stroke: #1f77b4\"/>\n",
       "     <use xlink:href=\"#me83bfb4d38\" x=\"117.629898\" y=\"65.009417\" style=\"fill: #1f77b4; stroke: #1f77b4\"/>\n",
       "     <use xlink:href=\"#me83bfb4d38\" x=\"131.793204\" y=\"73.522966\" style=\"fill: #1f77b4; stroke: #1f77b4\"/>\n",
       "     <use xlink:href=\"#me83bfb4d38\" x=\"124.00421\" y=\"80.606357\" style=\"fill: #1f77b4; stroke: #1f77b4\"/>\n",
       "     <use xlink:href=\"#me83bfb4d38\" x=\"126.809684\" y=\"56.358035\" style=\"fill: #1f77b4; stroke: #1f77b4\"/>\n",
       "     <use xlink:href=\"#me83bfb4d38\" x=\"83.200492\" y=\"32.917801\" style=\"fill: #1f77b4; stroke: #1f77b4\"/>\n",
       "     <use xlink:href=\"#me83bfb4d38\" x=\"113.193892\" y=\"52.297565\" style=\"fill: #1f77b4; stroke: #1f77b4\"/>\n",
       "     <use xlink:href=\"#me83bfb4d38\" x=\"111.991377\" y=\"68.722782\" style=\"fill: #1f77b4; stroke: #1f77b4\"/>\n",
       "     <use xlink:href=\"#me83bfb4d38\" x=\"144.437313\" y=\"98.075612\" style=\"fill: #1f77b4; stroke: #1f77b4\"/>\n",
       "     <use xlink:href=\"#me83bfb4d38\" x=\"73.981802\" y=\"26.596179\" style=\"fill: #1f77b4; stroke: #1f77b4\"/>\n",
       "     <use xlink:href=\"#me83bfb4d38\" x=\"125.577841\" y=\"78.240356\" style=\"fill: #1f77b4; stroke: #1f77b4\"/>\n",
       "     <use xlink:href=\"#me83bfb4d38\" x=\"153.01227\" y=\"93.397418\" style=\"fill: #1f77b4; stroke: #1f77b4\"/>\n",
       "     <use xlink:href=\"#me83bfb4d38\" x=\"147.72963\" y=\"86.921012\" style=\"fill: #1f77b4; stroke: #1f77b4\"/>\n",
       "     <use xlink:href=\"#me83bfb4d38\" x=\"76.695965\" y=\"42.925344\" style=\"fill: #1f77b4; stroke: #1f77b4\"/>\n",
       "     <use xlink:href=\"#me83bfb4d38\" x=\"141.451914\" y=\"108.07774\" style=\"fill: #1f77b4; stroke: #1f77b4\"/>\n",
       "     <use xlink:href=\"#me83bfb4d38\" x=\"112.107801\" y=\"41.406748\" style=\"fill: #1f77b4; stroke: #1f77b4\"/>\n",
       "     <use xlink:href=\"#me83bfb4d38\" x=\"136.779999\" y=\"81.279023\" style=\"fill: #1f77b4; stroke: #1f77b4\"/>\n",
       "     <use xlink:href=\"#me83bfb4d38\" x=\"118.967734\" y=\"71.978929\" style=\"fill: #1f77b4; stroke: #1f77b4\"/>\n",
       "     <use xlink:href=\"#me83bfb4d38\" x=\"101.552282\" y=\"70.677741\" style=\"fill: #1f77b4; stroke: #1f77b4\"/>\n",
       "     <use xlink:href=\"#me83bfb4d38\" x=\"105.459851\" y=\"61.983542\" style=\"fill: #1f77b4; stroke: #1f77b4\"/>\n",
       "     <use xlink:href=\"#me83bfb4d38\" x=\"129.746207\" y=\"69.745319\" style=\"fill: #1f77b4; stroke: #1f77b4\"/>\n",
       "     <use xlink:href=\"#me83bfb4d38\" x=\"120.498598\" y=\"68.88723\" style=\"fill: #1f77b4; stroke: #1f77b4\"/>\n",
       "     <use xlink:href=\"#me83bfb4d38\" x=\"158.211145\" y=\"91.15469\" style=\"fill: #1f77b4; stroke: #1f77b4\"/>\n",
       "     <use xlink:href=\"#me83bfb4d38\" x=\"148.882247\" y=\"96.774447\" style=\"fill: #1f77b4; stroke: #1f77b4\"/>\n",
       "     <use xlink:href=\"#me83bfb4d38\" x=\"147.23847\" y=\"87.554059\" style=\"fill: #1f77b4; stroke: #1f77b4\"/>\n",
       "     <use xlink:href=\"#me83bfb4d38\" x=\"111.769473\" y=\"65.527066\" style=\"fill: #1f77b4; stroke: #1f77b4\"/>\n",
       "     <use xlink:href=\"#me83bfb4d38\" x=\"162.489862\" y=\"92.063991\" style=\"fill: #1f77b4; stroke: #1f77b4\"/>\n",
       "     <use xlink:href=\"#me83bfb4d38\" x=\"151.976999\" y=\"76.722853\" style=\"fill: #1f77b4; stroke: #1f77b4\"/>\n",
       "     <use xlink:href=\"#me83bfb4d38\" x=\"99.555726\" y=\"52.687401\" style=\"fill: #1f77b4; stroke: #1f77b4\"/>\n",
       "     <use xlink:href=\"#me83bfb4d38\" x=\"130.173048\" y=\"87.790695\" style=\"fill: #1f77b4; stroke: #1f77b4\"/>\n",
       "     <use xlink:href=\"#me83bfb4d38\" x=\"136.33979\" y=\"84.190028\" style=\"fill: #1f77b4; stroke: #1f77b4\"/>\n",
       "     <use xlink:href=\"#me83bfb4d38\" x=\"120.329894\" y=\"56.901911\" style=\"fill: #1f77b4; stroke: #1f77b4\"/>\n",
       "     <use xlink:href=\"#me83bfb4d38\" x=\"101.915018\" y=\"53.493987\" style=\"fill: #1f77b4; stroke: #1f77b4\"/>\n",
       "     <use xlink:href=\"#me83bfb4d38\" x=\"80.88331\" y=\"48.603679\" style=\"fill: #1f77b4; stroke: #1f77b4\"/>\n",
       "     <use xlink:href=\"#me83bfb4d38\" x=\"185.744995\" y=\"127.275503\" style=\"fill: #1f77b4; stroke: #1f77b4\"/>\n",
       "     <use xlink:href=\"#me83bfb4d38\" x=\"103.255615\" y=\"51.641265\" style=\"fill: #1f77b4; stroke: #1f77b4\"/>\n",
       "     <use xlink:href=\"#me83bfb4d38\" x=\"126.440746\" y=\"81.058816\" style=\"fill: #1f77b4; stroke: #1f77b4\"/>\n",
       "     <use xlink:href=\"#me83bfb4d38\" x=\"114.943253\" y=\"55.451766\" style=\"fill: #1f77b4; stroke: #1f77b4\"/>\n",
       "     <use xlink:href=\"#me83bfb4d38\" x=\"124.673556\" y=\"66.21478\" style=\"fill: #1f77b4; stroke: #1f77b4\"/>\n",
       "     <use xlink:href=\"#me83bfb4d38\" x=\"115.063473\" y=\"77.102482\" style=\"fill: #1f77b4; stroke: #1f77b4\"/>\n",
       "     <use xlink:href=\"#me83bfb4d38\" x=\"140.177148\" y=\"87.51346\" style=\"fill: #1f77b4; stroke: #1f77b4\"/>\n",
       "     <use xlink:href=\"#me83bfb4d38\" x=\"116.2332\" y=\"66.529874\" style=\"fill: #1f77b4; stroke: #1f77b4\"/>\n",
       "     <use xlink:href=\"#me83bfb4d38\" x=\"122.162119\" y=\"63.796425\" style=\"fill: #1f77b4; stroke: #1f77b4\"/>\n",
       "     <use xlink:href=\"#me83bfb4d38\" x=\"118.288637\" y=\"65.894025\" style=\"fill: #1f77b4; stroke: #1f77b4\"/>\n",
       "     <use xlink:href=\"#me83bfb4d38\" x=\"107.556238\" y=\"62.30157\" style=\"fill: #1f77b4; stroke: #1f77b4\"/>\n",
       "     <use xlink:href=\"#me83bfb4d38\" x=\"96.454852\" y=\"63.735927\" style=\"fill: #1f77b4; stroke: #1f77b4\"/>\n",
       "     <use xlink:href=\"#me83bfb4d38\" x=\"147.056253\" y=\"77.968234\" style=\"fill: #1f77b4; stroke: #1f77b4\"/>\n",
       "     <use xlink:href=\"#me83bfb4d38\" x=\"106.117737\" y=\"58.430299\" style=\"fill: #1f77b4; stroke: #1f77b4\"/>\n",
       "     <use xlink:href=\"#me83bfb4d38\" x=\"137.001138\" y=\"89.766251\" style=\"fill: #1f77b4; stroke: #1f77b4\"/>\n",
       "     <use xlink:href=\"#me83bfb4d38\" x=\"122.016657\" y=\"67.637175\" style=\"fill: #1f77b4; stroke: #1f77b4\"/>\n",
       "     <use xlink:href=\"#me83bfb4d38\" x=\"97.704295\" y=\"47.353662\" style=\"fill: #1f77b4; stroke: #1f77b4\"/>\n",
       "     <use xlink:href=\"#me83bfb4d38\" x=\"103.951469\" y=\"64.085925\" style=\"fill: #1f77b4; stroke: #1f77b4\"/>\n",
       "     <use xlink:href=\"#me83bfb4d38\" x=\"101.297967\" y=\"73.457742\" style=\"fill: #1f77b4; stroke: #1f77b4\"/>\n",
       "     <use xlink:href=\"#me83bfb4d38\" x=\"149.934429\" y=\"89.659255\" style=\"fill: #1f77b4; stroke: #1f77b4\"/>\n",
       "     <use xlink:href=\"#me83bfb4d38\" x=\"83.426611\" y=\"37.538957\" style=\"fill: #1f77b4; stroke: #1f77b4\"/>\n",
       "     <use xlink:href=\"#me83bfb4d38\" x=\"94.039348\" y=\"55.050153\" style=\"fill: #1f77b4; stroke: #1f77b4\"/>\n",
       "     <use xlink:href=\"#me83bfb4d38\" x=\"128.145801\" y=\"75.320395\" style=\"fill: #1f77b4; stroke: #1f77b4\"/>\n",
       "     <use xlink:href=\"#me83bfb4d38\" x=\"86.552391\" y=\"49.392214\" style=\"fill: #1f77b4; stroke: #1f77b4\"/>\n",
       "     <use xlink:href=\"#me83bfb4d38\" x=\"106.746233\" y=\"66.068634\" style=\"fill: #1f77b4; stroke: #1f77b4\"/>\n",
       "     <use xlink:href=\"#me83bfb4d38\" x=\"137.858045\" y=\"70.379057\" style=\"fill: #1f77b4; stroke: #1f77b4\"/>\n",
       "     <use xlink:href=\"#me83bfb4d38\" x=\"122.159727\" y=\"66.057723\" style=\"fill: #1f77b4; stroke: #1f77b4\"/>\n",
       "     <use xlink:href=\"#me83bfb4d38\" x=\"142.550349\" y=\"86.342478\" style=\"fill: #1f77b4; stroke: #1f77b4\"/>\n",
       "     <use xlink:href=\"#me83bfb4d38\" x=\"98.849619\" y=\"63.081536\" style=\"fill: #1f77b4; stroke: #1f77b4\"/>\n",
       "     <use xlink:href=\"#me83bfb4d38\" x=\"124.747976\" y=\"69.191964\" style=\"fill: #1f77b4; stroke: #1f77b4\"/>\n",
       "     <use xlink:href=\"#me83bfb4d38\" x=\"105.544925\" y=\"73.758141\" style=\"fill: #1f77b4; stroke: #1f77b4\"/>\n",
       "     <use xlink:href=\"#me83bfb4d38\" x=\"140.706849\" y=\"57.565044\" style=\"fill: #1f77b4; stroke: #1f77b4\"/>\n",
       "     <use xlink:href=\"#me83bfb4d38\" x=\"118.859858\" y=\"73.472563\" style=\"fill: #1f77b4; stroke: #1f77b4\"/>\n",
       "     <use xlink:href=\"#me83bfb4d38\" x=\"131.484305\" y=\"78.82652\" style=\"fill: #1f77b4; stroke: #1f77b4\"/>\n",
       "     <use xlink:href=\"#me83bfb4d38\" x=\"141.863619\" y=\"79.24503\" style=\"fill: #1f77b4; stroke: #1f77b4\"/>\n",
       "     <use xlink:href=\"#me83bfb4d38\" x=\"71.016938\" y=\"47.358214\" style=\"fill: #1f77b4; stroke: #1f77b4\"/>\n",
       "     <use xlink:href=\"#me83bfb4d38\" x=\"133.684019\" y=\"98.48689\" style=\"fill: #1f77b4; stroke: #1f77b4\"/>\n",
       "     <use xlink:href=\"#me83bfb4d38\" x=\"119.412526\" y=\"65.447348\" style=\"fill: #1f77b4; stroke: #1f77b4\"/>\n",
       "     <use xlink:href=\"#me83bfb4d38\" x=\"109.227391\" y=\"59.679731\" style=\"fill: #1f77b4; stroke: #1f77b4\"/>\n",
       "     <use xlink:href=\"#me83bfb4d38\" x=\"86.803783\" y=\"51.679877\" style=\"fill: #1f77b4; stroke: #1f77b4\"/>\n",
       "     <use xlink:href=\"#me83bfb4d38\" x=\"93.732659\" y=\"54.896249\" style=\"fill: #1f77b4; stroke: #1f77b4\"/>\n",
       "     <use xlink:href=\"#me83bfb4d38\" x=\"117.535177\" y=\"73.319354\" style=\"fill: #1f77b4; stroke: #1f77b4\"/>\n",
       "     <use xlink:href=\"#me83bfb4d38\" x=\"102.047359\" y=\"49.938845\" style=\"fill: #1f77b4; stroke: #1f77b4\"/>\n",
       "     <use xlink:href=\"#me83bfb4d38\" x=\"113.351329\" y=\"64.325745\" style=\"fill: #1f77b4; stroke: #1f77b4\"/>\n",
       "     <use xlink:href=\"#me83bfb4d38\" x=\"133.881498\" y=\"73.13169\" style=\"fill: #1f77b4; stroke: #1f77b4\"/>\n",
       "     <use xlink:href=\"#me83bfb4d38\" x=\"160.980976\" y=\"101.362177\" style=\"fill: #1f77b4; stroke: #1f77b4\"/>\n",
       "     <use xlink:href=\"#me83bfb4d38\" x=\"112.015389\" y=\"61.389177\" style=\"fill: #1f77b4; stroke: #1f77b4\"/>\n",
       "     <use xlink:href=\"#me83bfb4d38\" x=\"153.74712\" y=\"92.187874\" style=\"fill: #1f77b4; stroke: #1f77b4\"/>\n",
       "     <use xlink:href=\"#me83bfb4d38\" x=\"112.319419\" y=\"77.449435\" style=\"fill: #1f77b4; stroke: #1f77b4\"/>\n",
       "     <use xlink:href=\"#me83bfb4d38\" x=\"121.831654\" y=\"87.181887\" style=\"fill: #1f77b4; stroke: #1f77b4\"/>\n",
       "     <use xlink:href=\"#me83bfb4d38\" x=\"81.743726\" y=\"34.591389\" style=\"fill: #1f77b4; stroke: #1f77b4\"/>\n",
       "     <use xlink:href=\"#me83bfb4d38\" x=\"142.473555\" y=\"88.313648\" style=\"fill: #1f77b4; stroke: #1f77b4\"/>\n",
       "     <use xlink:href=\"#me83bfb4d38\" x=\"108.738592\" y=\"58.205528\" style=\"fill: #1f77b4; stroke: #1f77b4\"/>\n",
       "     <use xlink:href=\"#me83bfb4d38\" x=\"105.241284\" y=\"55.058201\" style=\"fill: #1f77b4; stroke: #1f77b4\"/>\n",
       "     <use xlink:href=\"#me83bfb4d38\" x=\"173.435902\" y=\"115.552833\" style=\"fill: #1f77b4; stroke: #1f77b4\"/>\n",
       "     <use xlink:href=\"#me83bfb4d38\" x=\"48.889453\" y=\"13.5\" style=\"fill: #1f77b4; stroke: #1f77b4\"/>\n",
       "     <use xlink:href=\"#me83bfb4d38\" x=\"147.754701\" y=\"95.084287\" style=\"fill: #1f77b4; stroke: #1f77b4\"/>\n",
       "     <use xlink:href=\"#me83bfb4d38\" x=\"95.992117\" y=\"55.630192\" style=\"fill: #1f77b4; stroke: #1f77b4\"/>\n",
       "     <use xlink:href=\"#me83bfb4d38\" x=\"127.307775\" y=\"76.835819\" style=\"fill: #1f77b4; stroke: #1f77b4\"/>\n",
       "     <use xlink:href=\"#me83bfb4d38\" x=\"127.562968\" y=\"83.350929\" style=\"fill: #1f77b4; stroke: #1f77b4\"/>\n",
       "     <use xlink:href=\"#me83bfb4d38\" x=\"91.148881\" y=\"52.362679\" style=\"fill: #1f77b4; stroke: #1f77b4\"/>\n",
       "     <use xlink:href=\"#me83bfb4d38\" x=\"144.899542\" y=\"91.820019\" style=\"fill: #1f77b4; stroke: #1f77b4\"/>\n",
       "     <use xlink:href=\"#me83bfb4d38\" x=\"134.246968\" y=\"85.054976\" style=\"fill: #1f77b4; stroke: #1f77b4\"/>\n",
       "     <use xlink:href=\"#me83bfb4d38\" x=\"143.334892\" y=\"86.557212\" style=\"fill: #1f77b4; stroke: #1f77b4\"/>\n",
       "     <use xlink:href=\"#me83bfb4d38\" x=\"113.313622\" y=\"63.85348\" style=\"fill: #1f77b4; stroke: #1f77b4\"/>\n",
       "     <use xlink:href=\"#me83bfb4d38\" x=\"135.113934\" y=\"85.41474\" style=\"fill: #1f77b4; stroke: #1f77b4\"/>\n",
       "     <use xlink:href=\"#me83bfb4d38\" x=\"172.656755\" y=\"121.237323\" style=\"fill: #1f77b4; stroke: #1f77b4\"/>\n",
       "     <use xlink:href=\"#me83bfb4d38\" x=\"106.599624\" y=\"61.093484\" style=\"fill: #1f77b4; stroke: #1f77b4\"/>\n",
       "     <use xlink:href=\"#me83bfb4d38\" x=\"129.287872\" y=\"74.770392\" style=\"fill: #1f77b4; stroke: #1f77b4\"/>\n",
       "     <use xlink:href=\"#me83bfb4d38\" x=\"123.12317\" y=\"60.100929\" style=\"fill: #1f77b4; stroke: #1f77b4\"/>\n",
       "     <use xlink:href=\"#me83bfb4d38\" x=\"99.857649\" y=\"41.688897\" style=\"fill: #1f77b4; stroke: #1f77b4\"/>\n",
       "     <use xlink:href=\"#me83bfb4d38\" x=\"74.656219\" y=\"55.493588\" style=\"fill: #1f77b4; stroke: #1f77b4\"/>\n",
       "     <use xlink:href=\"#me83bfb4d38\" x=\"129.804366\" y=\"76.816232\" style=\"fill: #1f77b4; stroke: #1f77b4\"/>\n",
       "     <use xlink:href=\"#me83bfb4d38\" x=\"143.287878\" y=\"97.42329\" style=\"fill: #1f77b4; stroke: #1f77b4\"/>\n",
       "     <use xlink:href=\"#me83bfb4d38\" x=\"95.32341\" y=\"56.546609\" style=\"fill: #1f77b4; stroke: #1f77b4\"/>\n",
       "     <use xlink:href=\"#me83bfb4d38\" x=\"100.102241\" y=\"54.157617\" style=\"fill: #1f77b4; stroke: #1f77b4\"/>\n",
       "     <use xlink:href=\"#me83bfb4d38\" x=\"126.853307\" y=\"75.950476\" style=\"fill: #1f77b4; stroke: #1f77b4\"/>\n",
       "     <use xlink:href=\"#me83bfb4d38\" x=\"134.77742\" y=\"78.796106\" style=\"fill: #1f77b4; stroke: #1f77b4\"/>\n",
       "     <use xlink:href=\"#me83bfb4d38\" x=\"80.910728\" y=\"56.662357\" style=\"fill: #1f77b4; stroke: #1f77b4\"/>\n",
       "     <use xlink:href=\"#me83bfb4d38\" x=\"125.266307\" y=\"90.399216\" style=\"fill: #1f77b4; stroke: #1f77b4\"/>\n",
       "     <use xlink:href=\"#me83bfb4d38\" x=\"125.436935\" y=\"69.864016\" style=\"fill: #1f77b4; stroke: #1f77b4\"/>\n",
       "     <use xlink:href=\"#me83bfb4d38\" x=\"103.837623\" y=\"61.169926\" style=\"fill: #1f77b4; stroke: #1f77b4\"/>\n",
       "     <use xlink:href=\"#me83bfb4d38\" x=\"155.223217\" y=\"91.27892\" style=\"fill: #1f77b4; stroke: #1f77b4\"/>\n",
       "     <use xlink:href=\"#me83bfb4d38\" x=\"161.86135\" y=\"116.311888\" style=\"fill: #1f77b4; stroke: #1f77b4\"/>\n",
       "     <use xlink:href=\"#me83bfb4d38\" x=\"123.92299\" y=\"68.772015\" style=\"fill: #1f77b4; stroke: #1f77b4\"/>\n",
       "     <use xlink:href=\"#me83bfb4d38\" x=\"127.238145\" y=\"74.514164\" style=\"fill: #1f77b4; stroke: #1f77b4\"/>\n",
       "     <use xlink:href=\"#me83bfb4d38\" x=\"121.565963\" y=\"76.684056\" style=\"fill: #1f77b4; stroke: #1f77b4\"/>\n",
       "     <use xlink:href=\"#me83bfb4d38\" x=\"118.986347\" y=\"79.659496\" style=\"fill: #1f77b4; stroke: #1f77b4\"/>\n",
       "     <use xlink:href=\"#me83bfb4d38\" x=\"145.920807\" y=\"94.08055\" style=\"fill: #1f77b4; stroke: #1f77b4\"/>\n",
       "     <use xlink:href=\"#me83bfb4d38\" x=\"139.60811\" y=\"96.693637\" style=\"fill: #1f77b4; stroke: #1f77b4\"/>\n",
       "     <use xlink:href=\"#me83bfb4d38\" x=\"102.977688\" y=\"42.680514\" style=\"fill: #1f77b4; stroke: #1f77b4\"/>\n",
       "     <use xlink:href=\"#me83bfb4d38\" x=\"119.70571\" y=\"68.888409\" style=\"fill: #1f77b4; stroke: #1f77b4\"/>\n",
       "     <use xlink:href=\"#me83bfb4d38\" x=\"116.075104\" y=\"60.38496\" style=\"fill: #1f77b4; stroke: #1f77b4\"/>\n",
       "     <use xlink:href=\"#me83bfb4d38\" x=\"56.080645\" y=\"43.037911\" style=\"fill: #1f77b4; stroke: #1f77b4\"/>\n",
       "     <use xlink:href=\"#me83bfb4d38\" x=\"142.471912\" y=\"101.342748\" style=\"fill: #1f77b4; stroke: #1f77b4\"/>\n",
       "     <use xlink:href=\"#me83bfb4d38\" x=\"90.041676\" y=\"47.850463\" style=\"fill: #1f77b4; stroke: #1f77b4\"/>\n",
       "     <use xlink:href=\"#me83bfb4d38\" x=\"120.277442\" y=\"76.216913\" style=\"fill: #1f77b4; stroke: #1f77b4\"/>\n",
       "     <use xlink:href=\"#me83bfb4d38\" x=\"157.275564\" y=\"113.321592\" style=\"fill: #1f77b4; stroke: #1f77b4\"/>\n",
       "     <use xlink:href=\"#me83bfb4d38\" x=\"153.38473\" y=\"88.081007\" style=\"fill: #1f77b4; stroke: #1f77b4\"/>\n",
       "     <use xlink:href=\"#me83bfb4d38\" x=\"120.786902\" y=\"61.614603\" style=\"fill: #1f77b4; stroke: #1f77b4\"/>\n",
       "     <use xlink:href=\"#me83bfb4d38\" x=\"101.764287\" y=\"59.155592\" style=\"fill: #1f77b4; stroke: #1f77b4\"/>\n",
       "     <use xlink:href=\"#me83bfb4d38\" x=\"104.910059\" y=\"59.572727\" style=\"fill: #1f77b4; stroke: #1f77b4\"/>\n",
       "     <use xlink:href=\"#me83bfb4d38\" x=\"119.659285\" y=\"83.093274\" style=\"fill: #1f77b4; stroke: #1f77b4\"/>\n",
       "    </g>\n",
       "   </g>\n",
       "   <g id=\"matplotlib.axis_1\">\n",
       "    <g id=\"xtick_1\">\n",
       "     <g id=\"line2d_1\">\n",
       "      <defs>\n",
       "       <path id=\"m44c14f35be\" d=\"M 0 0 \n",
       "L 0 3.5 \n",
       "\" style=\"stroke: #000000; stroke-width: 0.8\"/>\n",
       "      </defs>\n",
       "      <g>\n",
       "       <use xlink:href=\"#m44c14f35be\" x=\"71.48194\" y=\"145.8\" style=\"stroke: #000000; stroke-width: 0.8\"/>\n",
       "      </g>\n",
       "     </g>\n",
       "     <g id=\"text_1\">\n",
       "      <!-- −2 -->\n",
       "      <g transform=\"translate(64.110846 160.398438)scale(0.1 -0.1)\">\n",
       "       <defs>\n",
       "        <path id=\"DejaVuSans-2212\" d=\"M 678 2272 \n",
       "L 4684 2272 \n",
       "L 4684 1741 \n",
       "L 678 1741 \n",
       "L 678 2272 \n",
       "z\n",
       "\" transform=\"scale(0.015625)\"/>\n",
       "        <path id=\"DejaVuSans-32\" d=\"M 1228 531 \n",
       "L 3431 531 \n",
       "L 3431 0 \n",
       "L 469 0 \n",
       "L 469 531 \n",
       "Q 828 903 1448 1529 \n",
       "Q 2069 2156 2228 2338 \n",
       "Q 2531 2678 2651 2914 \n",
       "Q 2772 3150 2772 3378 \n",
       "Q 2772 3750 2511 3984 \n",
       "Q 2250 4219 1831 4219 \n",
       "Q 1534 4219 1204 4116 \n",
       "Q 875 4013 500 3803 \n",
       "L 500 4441 \n",
       "Q 881 4594 1212 4672 \n",
       "Q 1544 4750 1819 4750 \n",
       "Q 2544 4750 2975 4387 \n",
       "Q 3406 4025 3406 3419 \n",
       "Q 3406 3131 3298 2873 \n",
       "Q 3191 2616 2906 2266 \n",
       "Q 2828 2175 2409 1742 \n",
       "Q 1991 1309 1228 531 \n",
       "z\n",
       "\" transform=\"scale(0.015625)\"/>\n",
       "       </defs>\n",
       "       <use xlink:href=\"#DejaVuSans-2212\"/>\n",
       "       <use xlink:href=\"#DejaVuSans-32\" x=\"83.789062\"/>\n",
       "      </g>\n",
       "     </g>\n",
       "    </g>\n",
       "    <g id=\"xtick_2\">\n",
       "     <g id=\"line2d_2\">\n",
       "      <g>\n",
       "       <use xlink:href=\"#m44c14f35be\" x=\"118.753579\" y=\"145.8\" style=\"stroke: #000000; stroke-width: 0.8\"/>\n",
       "      </g>\n",
       "     </g>\n",
       "     <g id=\"text_2\">\n",
       "      <!-- 0 -->\n",
       "      <g transform=\"translate(115.572329 160.398438)scale(0.1 -0.1)\">\n",
       "       <defs>\n",
       "        <path id=\"DejaVuSans-30\" d=\"M 2034 4250 \n",
       "Q 1547 4250 1301 3770 \n",
       "Q 1056 3291 1056 2328 \n",
       "Q 1056 1369 1301 889 \n",
       "Q 1547 409 2034 409 \n",
       "Q 2525 409 2770 889 \n",
       "Q 3016 1369 3016 2328 \n",
       "Q 3016 3291 2770 3770 \n",
       "Q 2525 4250 2034 4250 \n",
       "z\n",
       "M 2034 4750 \n",
       "Q 2819 4750 3233 4129 \n",
       "Q 3647 3509 3647 2328 \n",
       "Q 3647 1150 3233 529 \n",
       "Q 2819 -91 2034 -91 \n",
       "Q 1250 -91 836 529 \n",
       "Q 422 1150 422 2328 \n",
       "Q 422 3509 836 4129 \n",
       "Q 1250 4750 2034 4750 \n",
       "z\n",
       "\" transform=\"scale(0.015625)\"/>\n",
       "       </defs>\n",
       "       <use xlink:href=\"#DejaVuSans-30\"/>\n",
       "      </g>\n",
       "     </g>\n",
       "    </g>\n",
       "    <g id=\"xtick_3\">\n",
       "     <g id=\"line2d_3\">\n",
       "      <g>\n",
       "       <use xlink:href=\"#m44c14f35be\" x=\"166.025218\" y=\"145.8\" style=\"stroke: #000000; stroke-width: 0.8\"/>\n",
       "      </g>\n",
       "     </g>\n",
       "     <g id=\"text_3\">\n",
       "      <!-- 2 -->\n",
       "      <g transform=\"translate(162.843968 160.398438)scale(0.1 -0.1)\">\n",
       "       <use xlink:href=\"#DejaVuSans-32\"/>\n",
       "      </g>\n",
       "     </g>\n",
       "    </g>\n",
       "    <g id=\"xtick_4\">\n",
       "     <g id=\"line2d_4\">\n",
       "      <g>\n",
       "       <use xlink:href=\"#m44c14f35be\" x=\"213.296857\" y=\"145.8\" style=\"stroke: #000000; stroke-width: 0.8\"/>\n",
       "      </g>\n",
       "     </g>\n",
       "     <g id=\"text_4\">\n",
       "      <!-- 4 -->\n",
       "      <g transform=\"translate(210.115607 160.398438)scale(0.1 -0.1)\">\n",
       "       <defs>\n",
       "        <path id=\"DejaVuSans-34\" d=\"M 2419 4116 \n",
       "L 825 1625 \n",
       "L 2419 1625 \n",
       "L 2419 4116 \n",
       "z\n",
       "M 2253 4666 \n",
       "L 3047 4666 \n",
       "L 3047 1625 \n",
       "L 3713 1625 \n",
       "L 3713 1100 \n",
       "L 3047 1100 \n",
       "L 3047 0 \n",
       "L 2419 0 \n",
       "L 2419 1100 \n",
       "L 313 1100 \n",
       "L 313 1709 \n",
       "L 2253 4666 \n",
       "z\n",
       "\" transform=\"scale(0.015625)\"/>\n",
       "       </defs>\n",
       "       <use xlink:href=\"#DejaVuSans-34\"/>\n",
       "      </g>\n",
       "     </g>\n",
       "    </g>\n",
       "   </g>\n",
       "   <g id=\"matplotlib.axis_2\">\n",
       "    <g id=\"ytick_1\">\n",
       "     <g id=\"line2d_5\">\n",
       "      <defs>\n",
       "       <path id=\"m574782bd63\" d=\"M 0 0 \n",
       "L -3.5 0 \n",
       "\" style=\"stroke: #000000; stroke-width: 0.8\"/>\n",
       "      </defs>\n",
       "      <g>\n",
       "       <use xlink:href=\"#m574782bd63\" x=\"35.304688\" y=\"138.005969\" style=\"stroke: #000000; stroke-width: 0.8\"/>\n",
       "      </g>\n",
       "     </g>\n",
       "     <g id=\"text_5\">\n",
       "      <!-- −10 -->\n",
       "      <g transform=\"translate(7.2 141.805188)scale(0.1 -0.1)\">\n",
       "       <defs>\n",
       "        <path id=\"DejaVuSans-31\" d=\"M 794 531 \n",
       "L 1825 531 \n",
       "L 1825 4091 \n",
       "L 703 3866 \n",
       "L 703 4441 \n",
       "L 1819 4666 \n",
       "L 2450 4666 \n",
       "L 2450 531 \n",
       "L 3481 531 \n",
       "L 3481 0 \n",
       "L 794 0 \n",
       "L 794 531 \n",
       "z\n",
       "\" transform=\"scale(0.015625)\"/>\n",
       "       </defs>\n",
       "       <use xlink:href=\"#DejaVuSans-2212\"/>\n",
       "       <use xlink:href=\"#DejaVuSans-31\" x=\"83.789062\"/>\n",
       "       <use xlink:href=\"#DejaVuSans-30\" x=\"147.412109\"/>\n",
       "      </g>\n",
       "     </g>\n",
       "    </g>\n",
       "    <g id=\"ytick_2\">\n",
       "     <g id=\"line2d_6\">\n",
       "      <g>\n",
       "       <use xlink:href=\"#m574782bd63\" x=\"35.304688\" y=\"114.234454\" style=\"stroke: #000000; stroke-width: 0.8\"/>\n",
       "      </g>\n",
       "     </g>\n",
       "     <g id=\"text_6\">\n",
       "      <!-- −5 -->\n",
       "      <g transform=\"translate(13.5625 118.033673)scale(0.1 -0.1)\">\n",
       "       <defs>\n",
       "        <path id=\"DejaVuSans-35\" d=\"M 691 4666 \n",
       "L 3169 4666 \n",
       "L 3169 4134 \n",
       "L 1269 4134 \n",
       "L 1269 2991 \n",
       "Q 1406 3038 1543 3061 \n",
       "Q 1681 3084 1819 3084 \n",
       "Q 2600 3084 3056 2656 \n",
       "Q 3513 2228 3513 1497 \n",
       "Q 3513 744 3044 326 \n",
       "Q 2575 -91 1722 -91 \n",
       "Q 1428 -91 1123 -41 \n",
       "Q 819 9 494 109 \n",
       "L 494 744 \n",
       "Q 775 591 1075 516 \n",
       "Q 1375 441 1709 441 \n",
       "Q 2250 441 2565 725 \n",
       "Q 2881 1009 2881 1497 \n",
       "Q 2881 1984 2565 2268 \n",
       "Q 2250 2553 1709 2553 \n",
       "Q 1456 2553 1204 2497 \n",
       "Q 953 2441 691 2322 \n",
       "L 691 4666 \n",
       "z\n",
       "\" transform=\"scale(0.015625)\"/>\n",
       "       </defs>\n",
       "       <use xlink:href=\"#DejaVuSans-2212\"/>\n",
       "       <use xlink:href=\"#DejaVuSans-35\" x=\"83.789062\"/>\n",
       "      </g>\n",
       "     </g>\n",
       "    </g>\n",
       "    <g id=\"ytick_3\">\n",
       "     <g id=\"line2d_7\">\n",
       "      <g>\n",
       "       <use xlink:href=\"#m574782bd63\" x=\"35.304688\" y=\"90.462938\" style=\"stroke: #000000; stroke-width: 0.8\"/>\n",
       "      </g>\n",
       "     </g>\n",
       "     <g id=\"text_7\">\n",
       "      <!-- 0 -->\n",
       "      <g transform=\"translate(21.942187 94.262157)scale(0.1 -0.1)\">\n",
       "       <use xlink:href=\"#DejaVuSans-30\"/>\n",
       "      </g>\n",
       "     </g>\n",
       "    </g>\n",
       "    <g id=\"ytick_4\">\n",
       "     <g id=\"line2d_8\">\n",
       "      <g>\n",
       "       <use xlink:href=\"#m574782bd63\" x=\"35.304688\" y=\"66.691423\" style=\"stroke: #000000; stroke-width: 0.8\"/>\n",
       "      </g>\n",
       "     </g>\n",
       "     <g id=\"text_8\">\n",
       "      <!-- 5 -->\n",
       "      <g transform=\"translate(21.942187 70.490642)scale(0.1 -0.1)\">\n",
       "       <use xlink:href=\"#DejaVuSans-35\"/>\n",
       "      </g>\n",
       "     </g>\n",
       "    </g>\n",
       "    <g id=\"ytick_5\">\n",
       "     <g id=\"line2d_9\">\n",
       "      <g>\n",
       "       <use xlink:href=\"#m574782bd63\" x=\"35.304688\" y=\"42.919907\" style=\"stroke: #000000; stroke-width: 0.8\"/>\n",
       "      </g>\n",
       "     </g>\n",
       "     <g id=\"text_9\">\n",
       "      <!-- 10 -->\n",
       "      <g transform=\"translate(15.579687 46.719126)scale(0.1 -0.1)\">\n",
       "       <use xlink:href=\"#DejaVuSans-31\"/>\n",
       "       <use xlink:href=\"#DejaVuSans-30\" x=\"63.623047\"/>\n",
       "      </g>\n",
       "     </g>\n",
       "    </g>\n",
       "    <g id=\"ytick_6\">\n",
       "     <g id=\"line2d_10\">\n",
       "      <g>\n",
       "       <use xlink:href=\"#m574782bd63\" x=\"35.304688\" y=\"19.148392\" style=\"stroke: #000000; stroke-width: 0.8\"/>\n",
       "      </g>\n",
       "     </g>\n",
       "     <g id=\"text_10\">\n",
       "      <!-- 15 -->\n",
       "      <g transform=\"translate(15.579687 22.947611)scale(0.1 -0.1)\">\n",
       "       <use xlink:href=\"#DejaVuSans-31\"/>\n",
       "       <use xlink:href=\"#DejaVuSans-35\" x=\"63.623047\"/>\n",
       "      </g>\n",
       "     </g>\n",
       "    </g>\n",
       "   </g>\n",
       "   <g id=\"patch_3\">\n",
       "    <path d=\"M 35.304688 145.8 \n",
       "L 35.304688 7.2 \n",
       "\" style=\"fill: none; stroke: #000000; stroke-width: 0.8; stroke-linejoin: miter; stroke-linecap: square\"/>\n",
       "   </g>\n",
       "   <g id=\"patch_4\">\n",
       "    <path d=\"M 230.604688 145.8 \n",
       "L 230.604688 7.2 \n",
       "\" style=\"fill: none; stroke: #000000; stroke-width: 0.8; stroke-linejoin: miter; stroke-linecap: square\"/>\n",
       "   </g>\n",
       "   <g id=\"patch_5\">\n",
       "    <path d=\"M 35.304688 145.8 \n",
       "L 230.604688 145.8 \n",
       "\" style=\"fill: none; stroke: #000000; stroke-width: 0.8; stroke-linejoin: miter; stroke-linecap: square\"/>\n",
       "   </g>\n",
       "   <g id=\"patch_6\">\n",
       "    <path d=\"M 35.304688 7.2 \n",
       "L 230.604688 7.2 \n",
       "\" style=\"fill: none; stroke: #000000; stroke-width: 0.8; stroke-linejoin: miter; stroke-linecap: square\"/>\n",
       "   </g>\n",
       "  </g>\n",
       " </g>\n",
       " <defs>\n",
       "  <clipPath id=\"p882b512307\">\n",
       "   <rect x=\"35.304688\" y=\"7.2\" width=\"195.3\" height=\"138.6\"/>\n",
       "  </clipPath>\n",
       " </defs>\n",
       "</svg>\n"
      ],
      "text/plain": [
       "<Figure size 350x250 with 1 Axes>"
      ]
     },
     "metadata": {},
     "output_type": "display_data"
    }
   ],
   "source": [
    "plt.scatter(features[:,1].numpy(),labels.numpy(),1)"
   ]
  },
  {
   "cell_type": "markdown",
   "id": "3f0c025d",
   "metadata": {},
   "source": [
    "### 2.2.2 读取数据\n",
    "在训练模型的时候，我们需要遍历数据集并不断读取小批量数据样本。这里我们定义一个函数：它每次返回batch_size（批量大小）个随机样本的特征和标签。"
   ]
  },
  {
   "cell_type": "code",
   "execution_count": 103,
   "id": "ed7e3831",
   "metadata": {},
   "outputs": [],
   "source": [
    "def data_iter(batch_size,features,labels):\n",
    "    num_examples = len(features)\n",
    "    indices = list(range(num_examples))# 获取[0,1,...,999]\n",
    "    random.shuffle(indices)# shuffle() 方法将序列的所有元素随机排序\n",
    "    for i in range(0,num_examples,batch_size):\n",
    "        # LongTensor化为Long形态\n",
    "        # 最后一次可能不足一个batch\n",
    "        j = torch.LongTensor(indices[i:min(i + batch_size, num_examples)])\n",
    "        yield  features.index_select(0, j), labels.index_select(0, j)      "
   ]
  },
  {
   "cell_type": "code",
   "execution_count": 94,
   "id": "fa89c348",
   "metadata": {},
   "outputs": [
    {
     "data": {
      "text/plain": [
       "4"
      ]
     },
     "execution_count": 94,
     "metadata": {},
     "output_type": "execute_result"
    }
   ],
   "source": [
    "xxxx = torch.ones(4,5)\n",
    "len(xxxx)"
   ]
  },
  {
   "cell_type": "code",
   "execution_count": 100,
   "id": "71bb5927",
   "metadata": {},
   "outputs": [
    {
     "data": {
      "text/plain": [
       "[0, 1, 2, 3]"
      ]
     },
     "execution_count": 100,
     "metadata": {},
     "output_type": "execute_result"
    }
   ],
   "source": [
    "xxxx = list(range(4))\n",
    "xxxx"
   ]
  },
  {
   "cell_type": "code",
   "execution_count": 102,
   "id": "9ccc9ea9",
   "metadata": {},
   "outputs": [
    {
     "data": {
      "text/plain": [
       "[3, 2, 0, 1]"
      ]
     },
     "execution_count": 102,
     "metadata": {},
     "output_type": "execute_result"
    }
   ],
   "source": [
    "random.shuffle(xxxx)\n",
    "xxxx"
   ]
  },
  {
   "cell_type": "markdown",
   "id": "b767d72b",
   "metadata": {},
   "source": [
    "index_select() 中第一个参数 0 表示以行为标准选择，例如j = tensor([1,2]),结果为选取features 第1，第2行数据"
   ]
  },
  {
   "cell_type": "markdown",
   "id": "7e3652be",
   "metadata": {},
   "source": [
    "让我们读取第一个小批量数据样本并打印。每个批量的特征形状为(10, 2)，分别对应批量大小和输入个数；标签形状为批量大小。"
   ]
  },
  {
   "cell_type": "code",
   "execution_count": 105,
   "id": "64bb0fb3",
   "metadata": {},
   "outputs": [
    {
     "name": "stdout",
     "output_type": "stream",
     "text": [
      "tensor([[-0.9958, -0.6996],\n",
      "        [-0.5632,  1.1328],\n",
      "        [-0.0275,  0.0999],\n",
      "        [ 2.9715, -0.3251],\n",
      "        [ 0.9433,  1.1843],\n",
      "        [ 0.7848, -1.3777],\n",
      "        [-0.1955,  0.5261],\n",
      "        [-1.7049,  1.0759],\n",
      "        [ 0.6569, -1.6245],\n",
      "        [ 1.5461, -0.5355]]) tensor([ 4.5925, -0.7767,  3.8093, 11.2514,  2.0674, 10.4601,  2.0121, -2.8456,\n",
      "        11.0490,  9.1312])\n"
     ]
    }
   ],
   "source": [
    "batch_size = 10\n",
    "\n",
    "for X, y in data_iter(batch_size, features, labels):\n",
    "    print(X, y)\n",
    "    break"
   ]
  },
  {
   "cell_type": "markdown",
   "id": "98f3cce7",
   "metadata": {},
   "source": [
    "### 2.2.3 初始化模型参数\n",
    "我们将权重初始化成均值为0、标准差为0.01的正态随机数，偏差则初始化成0。"
   ]
  },
  {
   "cell_type": "code",
   "execution_count": 106,
   "id": "1be558ca",
   "metadata": {},
   "outputs": [],
   "source": [
    "w = torch.tensor(np.random.normal(0, 0.01, (num_inputs, 1)), dtype=torch.float32)\n",
    "b = torch.zeros(1, dtype=torch.float32)"
   ]
  },
  {
   "cell_type": "markdown",
   "id": "53921127",
   "metadata": {},
   "source": [
    "之后的模型训练中，需要对这些参数求梯度来迭代参数的值，因此我们要让它们的requires_grad=True。"
   ]
  },
  {
   "cell_type": "code",
   "execution_count": 107,
   "id": "7228807a",
   "metadata": {},
   "outputs": [
    {
     "data": {
      "text/plain": [
       "tensor([0.], requires_grad=True)"
      ]
     },
     "execution_count": 107,
     "metadata": {},
     "output_type": "execute_result"
    }
   ],
   "source": [
    "w.requires_grad_(requires_grad=True)\n",
    "b.requires_grad_(requires_grad=True) "
   ]
  },
  {
   "cell_type": "markdown",
   "id": "f1fde7a3",
   "metadata": {},
   "source": [
    "### 2.2.4 定义模型\n",
    "下面是线性回归的矢量计算表达式的实现。我们使用mm函数做矩阵乘法。"
   ]
  },
  {
   "cell_type": "code",
   "execution_count": 109,
   "id": "5a595c2e",
   "metadata": {},
   "outputs": [],
   "source": [
    "def linreg(X, w, b):  # 本函数已保存在d2lzh_pytorch包中方便以后使用\n",
    "    return torch.mm(X, w) + b"
   ]
  },
  {
   "cell_type": "markdown",
   "id": "14966e7a",
   "metadata": {},
   "source": [
    "torch.mm(a, b) 是矩阵a和b矩阵相乘，比如a的维度是(1, 2)，b的维度是(2, 3)，返回的就是(1, 3)的矩阵。这个操作很熟悉了，这就是很常用的矩阵运算。"
   ]
  },
  {
   "cell_type": "markdown",
   "id": "42ac2e04",
   "metadata": {},
   "source": [
    "### 2.2.5 定义损失函数\n",
    "我们使用上一节描述的平方损失来定义线性回归的损失函数。在实现中，我们需要把真实值y变形成预测值y_hat的形状。以下函数返回的结果也将和y_hat的形状相同。"
   ]
  },
  {
   "cell_type": "code",
   "execution_count": 110,
   "id": "a985fa05",
   "metadata": {},
   "outputs": [],
   "source": [
    "def squared_loss(y_hat, y):  # 本函数已保存在d2lzh_pytorch包中方便以后使用\n",
    "    # 注意这里返回的是向量, 另外, pytorch里的MSELoss并没有除以 2\n",
    "    return (y_hat - y.view(y_hat.size())) ** 2 / 2"
   ]
  },
  {
   "cell_type": "markdown",
   "id": "0e123e48",
   "metadata": {},
   "source": [
    "### 2.2.6 定义优化算法\n",
    "以下的sgd函数实现了上一节中介绍的小批量随机梯度下降算法。它通过不断迭代模型参数来优化损失函数。这里自动求梯度模块计算得来的梯度是一个批量样本的梯度和。我们将它除以批量大小来得到平均值。"
   ]
  },
  {
   "cell_type": "code",
   "execution_count": 111,
   "id": "28c31fa9",
   "metadata": {},
   "outputs": [],
   "source": [
    "def sgd(params, lr, batch_size):  # 本函数已保存在d2lzh_pytorch包中方便以后使用\n",
    "    for param in params:\n",
    "        param.data -= lr * param.grad / batch_size # 注意这里更改param时用的param.data"
   ]
  },
  {
   "cell_type": "code",
   "execution_count": null,
   "id": "a2851299",
   "metadata": {},
   "outputs": [],
   "source": []
  }
 ],
 "metadata": {
  "kernelspec": {
   "display_name": "Python 3 (ipykernel)",
   "language": "python",
   "name": "python3"
  },
  "language_info": {
   "codemirror_mode": {
    "name": "ipython",
    "version": 3
   },
   "file_extension": ".py",
   "mimetype": "text/x-python",
   "name": "python",
   "nbconvert_exporter": "python",
   "pygments_lexer": "ipython3",
   "version": "3.9.13"
  }
 },
 "nbformat": 4,
 "nbformat_minor": 5
}
