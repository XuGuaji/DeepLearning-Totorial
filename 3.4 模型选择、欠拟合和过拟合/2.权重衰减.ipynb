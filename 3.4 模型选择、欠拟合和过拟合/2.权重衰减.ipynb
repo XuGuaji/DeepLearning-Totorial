{
 "cells": [
  {
   "cell_type": "markdown",
   "id": "95a8a06d",
   "metadata": {},
   "source": [
    "上一节中我们观察了过拟合现象，即模型的训练误差远小于它在测试集上的误差。虽然增大训练数据集可能会减轻过拟合，但是获取额外的训练数据往往代价高昂。本节介绍应对过拟合问题的常用方法：权重衰减（weight decay）。"
   ]
  },
  {
   "cell_type": "code",
   "execution_count": null,
   "id": "1de84db7",
   "metadata": {},
   "outputs": [],
   "source": [
    "## 方法\n"
   ]
  }
 ],
 "metadata": {
  "kernelspec": {
   "display_name": "Python 3 (ipykernel)",
   "language": "python",
   "name": "python3"
  },
  "language_info": {
   "codemirror_mode": {
    "name": "ipython",
    "version": 3
   },
   "file_extension": ".py",
   "mimetype": "text/x-python",
   "name": "python",
   "nbconvert_exporter": "python",
   "pygments_lexer": "ipython3",
   "version": "3.9.13"
  }
 },
 "nbformat": 4,
 "nbformat_minor": 5
}
